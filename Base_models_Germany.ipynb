{
  "nbformat": 4,
  "nbformat_minor": 0,
  "metadata": {
    "colab": {
      "name": "Base models_Germany.ipynb",
      "provenance": [],
      "collapsed_sections": [],
      "authorship_tag": "ABX9TyNC2pRwckNbFSkir8lf/lOt",
      "include_colab_link": true
    },
    "kernelspec": {
      "name": "python3",
      "display_name": "Python 3"
    },
    "language_info": {
      "name": "python"
    }
  },
  "cells": [
    {
      "cell_type": "markdown",
      "metadata": {
        "id": "view-in-github",
        "colab_type": "text"
      },
      "source": [
        "<a href=\"https://colab.research.google.com/github/Nargiz-chess/Solar_forecasting/blob/main/Base_models_Germany.ipynb\" target=\"_parent\"><img src=\"https://colab.research.google.com/assets/colab-badge.svg\" alt=\"Open In Colab\"/></a>"
      ]
    },
    {
      "cell_type": "code",
      "metadata": {
        "colab": {
          "base_uri": "https://localhost:8080/"
        },
        "id": "LqRBrTp6sGvG",
        "outputId": "d4be79a7-7aef-43ca-ce65-1958ee6821a6"
      },
      "source": [
        "#Mount google drive\n",
        "from google.colab import drive\n",
        "drive.mount('/content/drive')\n",
        "\n",
        "from pandas import read_csv\n",
        "import pandas as pd\n",
        "import datetime as dt\n",
        "import matplotlib\n",
        "from sklearn.linear_model import LinearRegression\n",
        "import numpy as np\n",
        "from sklearn import metrics\n",
        "import matplotlib.pyplot as plt\n"
      ],
      "execution_count": null,
      "outputs": [
        {
          "output_type": "stream",
          "name": "stdout",
          "text": [
            "Mounted at /content/drive\n"
          ]
        }
      ]
    },
    {
      "cell_type": "code",
      "metadata": {
        "id": "x9Sl-sjBoBkQ"
      },
      "source": [
        "path = \"/content/drive/MyDrive/Master_thesis/Datasets/Merged(GER+weather).csv\"\n",
        "df = read_csv(path, header =0, index_col=1) "
      ],
      "execution_count": null,
      "outputs": []
    },
    {
      "cell_type": "code",
      "metadata": {
        "id": "Wgg3ptqBvAIr"
      },
      "source": [
        "len(df)\n",
        "df = df.fillna(0)"
      ],
      "execution_count": null,
      "outputs": []
    },
    {
      "cell_type": "markdown",
      "metadata": {
        "id": "ufxGZ2MVsbA3"
      },
      "source": [
        "#Linear Regression"
      ]
    },
    {
      "cell_type": "code",
      "metadata": {
        "colab": {
          "base_uri": "https://localhost:8080/"
        },
        "id": "dJzIDwfAsg11",
        "outputId": "83ece3ce-41a7-40f1-c52b-35a58f81c5b4"
      },
      "source": [
        "from sklearn.linear_model import LinearRegression\n",
        "from sklearn.model_selection import train_test_split\n",
        "from sklearn.preprocessing import MinMaxScaler\n",
        "from statistics import mean\n",
        "from sklearn import metrics\n",
        "\n",
        "#perform a robust scaler transform of the dataset\n",
        "scaler = MinMaxScaler()\n",
        "\n",
        "X = df[\"radiation_surface\"]\n",
        "\n",
        "# for all the houses\n",
        "X_reshaped = X.values.reshape(-1,1)\n",
        "RMSEs=list()\n",
        "\n",
        "for col in df.columns:\n",
        "  if \"pv\" in col:\n",
        "    y = df[col].fillna(0)\n",
        "    y_reshaped = y.values.reshape(-1,1)\n",
        "    y_reshaped = scaler.fit_transform(y_reshaped)\n",
        "    X_train, X_test, y_train, y_test = train_test_split( X_reshaped, y_reshaped, test_size=24, shuffle = False)\n",
        "    X_train = scaler.fit_transform(X_train)\n",
        "    X_test = scaler.fit_transform(X_test)\n",
        "    y_train = scaler.fit_transform(y_train)\n",
        "    y_test = scaler.fit_transform(y_test)\n",
        "    reg = LinearRegression().fit(X_train, y_train)\n",
        "    print(col)\n",
        "    print(\"R^2 of Linear Regression on the train set =\", reg.score(X_train, y_train))\n",
        "    print(\"R^2 of Linear Regression on the test set =\", reg.score(X_test, y_test))\n",
        "\n",
        "    y_pred = reg.predict(X_test)\n",
        "    print(\"MAE:\", metrics.mean_absolute_error(y_test,y_pred))\n",
        "    print(\"MSE:\", metrics.mean_squared_error(y_test,y_pred))\n",
        "    rmse = np.sqrt(metrics.mean_squared_error(y_test,y_pred))\n",
        "    RMSEs.append(rmse)\n",
        "    print(\"RMSE:\", rmse)\n",
        "    print()\n",
        "\n",
        "print(\"Average RMSE = \", mean(RMSEs))"
      ],
      "execution_count": null,
      "outputs": [
        {
          "output_type": "stream",
          "name": "stdout",
          "text": [
            "DE_KN_industrial1_pv_2\n",
            "R^2 of Linear Regression on the train set = 0.7558641578043406\n",
            "R^2 of Linear Regression on the test set = -0.5863744573153902\n",
            "MAE: 0.15450931616445288\n",
            "MSE: 0.0794770848998525\n",
            "RMSE: 0.2819168049262982\n",
            "\n",
            "DE_KN_industrial2_pv\n",
            "R^2 of Linear Regression on the train set = 0.8015194135718199\n",
            "R^2 of Linear Regression on the test set = 0.7252103650186734\n",
            "MAE: 0.08685068335072632\n",
            "MSE: 0.023062341493168825\n",
            "RMSE: 0.1518629036110163\n",
            "\n",
            "DE_KN_industrial3_pv_facade\n",
            "R^2 of Linear Regression on the train set = 0.6554373004143315\n",
            "R^2 of Linear Regression on the test set = 0.7534756550343273\n",
            "MAE: 0.09845813067998432\n",
            "MSE: 0.02509003171043286\n",
            "RMSE: 0.1583983324105177\n",
            "\n",
            "DE_KN_industrial3_pv_roof\n",
            "R^2 of Linear Regression on the train set = 0.8296482514593192\n",
            "R^2 of Linear Regression on the test set = 0.8264351870718564\n",
            "MAE: 0.0808393427791849\n",
            "MSE: 0.019549645363581128\n",
            "RMSE: 0.13982004635809964\n",
            "\n",
            "DE_KN_residential1_pv\n",
            "R^2 of Linear Regression on the train set = 0.7930216850801259\n",
            "R^2 of Linear Regression on the test set = 0.6500138471299661\n",
            "MAE: 0.10693908361710397\n",
            "MSE: 0.033182249899202564\n",
            "RMSE: 0.18215995690382275\n",
            "\n",
            "DE_KN_residential3_pv\n",
            "R^2 of Linear Regression on the train set = 0.8206684024654864\n",
            "R^2 of Linear Regression on the test set = 0.40423700150007835\n",
            "MAE: 0.10715757078794093\n",
            "MSE: 0.03821511129845761\n",
            "RMSE: 0.19548685709903263\n",
            "\n",
            "DE_KN_residential4_pv\n",
            "R^2 of Linear Regression on the train set = 0.7945169863502964\n",
            "R^2 of Linear Regression on the test set = 0.5720338356666385\n",
            "MAE: 0.08905697040098166\n",
            "MSE: 0.03000327396431769\n",
            "RMSE: 0.1732145316199472\n",
            "\n",
            "DE_KN_residential6_pv\n",
            "R^2 of Linear Regression on the train set = 0.7579500578439341\n",
            "R^2 of Linear Regression on the test set = 0.038122935695038884\n",
            "MAE: 0.13214008731480287\n",
            "MSE: 0.054925620160043355\n",
            "RMSE: 0.2343621559894928\n",
            "\n",
            "Average RMSE =  0.1896526986147784\n"
          ]
        }
      ]
    },
    {
      "cell_type": "markdown",
      "metadata": {
        "id": "dQZtSu1tsyM6"
      },
      "source": [
        "#Gradient Boosting Regressor"
      ]
    },
    {
      "cell_type": "code",
      "metadata": {
        "colab": {
          "base_uri": "https://localhost:8080/"
        },
        "id": "YnQVaSfxs0Jj",
        "outputId": "206611f4-d09a-4d82-b4c4-fadc8aa3d9df"
      },
      "source": [
        "from sklearn.ensemble import GradientBoostingRegressor\n",
        "\n",
        "#GBR = GradientBoostingRegressor(random_state=None, max_depth = 3,learning_rate=0.1).fit(X_train, y_train)\n",
        "\n",
        "# print(\"R^2 of Gradient Boosting Regressor on the training set =\",GBR.score(X_train, y_train))\n",
        "# print(\"R^2 of Gradient Boosting Regressor on the test set =\",GBR.score(X_test, y_test))\n",
        "\n",
        "\n",
        "X = df[\"radiation_surface\"]\n",
        "\n",
        "# for all the houses\n",
        "X_reshaped = X.values.reshape(-1,1)\n",
        "RMSEs_gbr=list()\n",
        "r_squared=[]\n",
        "\n",
        "for col in df.columns:\n",
        "  if \"pv\" in col:\n",
        "    y = df[col].fillna(0)\n",
        "#    y_reshaped = y.values.reshape(-1,1)\n",
        "#    y_reshaped = scaler.fit_transform(y_reshaped)\n",
        "    X_train, X_test, y_train, y_test = train_test_split( X_reshaped, y, test_size=24, shuffle = False)\n",
        "    # X_train = scaler.fit_transform(X_train)\n",
        "    # X_test = scaler.fit_transform(X_test)\n",
        "    # y_train = scaler.fit_transform(y_train)\n",
        "    # y_test = scaler.fit_transform(y_test)\n",
        "    gbr = GradientBoostingRegressor(random_state=None, max_depth = 3,learning_rate=0.1).fit(X_train, y_train)\n",
        "    # print(col)\n",
        "    # print(\"R^2 of Linear Regression on the train set =\", gbr.score(X_train, y_train))\n",
        "    # print(\"R^2 of Linear Regression on the test set =\", gbr.score(X_test, y_test))\n",
        "\n",
        "    y_pred = gbr.predict(X_test)\n",
        "    # print(\"MAE:\", metrics.mean_absolute_error(y_test,y_pred))\n",
        "    # print(\"MSE:\", metrics.mean_squared_error(y_test,y_pred))\n",
        "    r_2=gbr.score(X_train, y_train)\n",
        "    r_squared.append(r_2)\n",
        "    rmse = np.sqrt(metrics.mean_squared_error(y_test,y_pred))\n",
        "    RMSEs_gbr.append(rmse)\n",
        "    # print(\"RMSE:\", rmse)\n",
        "    # print()\n",
        "\n",
        "print(\"Average RMSE accross all columns = \", round(mean(RMSEs_gbr),2))\n",
        "print(\"Average R^2 accross all columns = \", round(mean(r_squared),2))"
      ],
      "execution_count": null,
      "outputs": [
        {
          "output_type": "stream",
          "name": "stdout",
          "text": [
            "Average RMSE accross all columns =  0.13\n",
            "Average R^2 accross all columns =  0.81\n"
          ]
        }
      ]
    },
    {
      "cell_type": "markdown",
      "metadata": {
        "id": "YTIglDZ3bhju"
      },
      "source": [
        "#Gradient boosting - Hyper parameter tuning"
      ]
    },
    {
      "cell_type": "code",
      "metadata": {
        "colab": {
          "base_uri": "https://localhost:8080/"
        },
        "id": "4QapqmLQbmA6",
        "outputId": "11bbfbab-d011-4e2f-b56c-b8b7838d56aa"
      },
      "source": [
        "from sklearn.model_selection import GridSearchCV\n",
        "\n",
        "#params = [{'loss': ['ls','huber'], 'learning_rate': [0.05, 0.07, 0.15, 0.2], 'n_estimators': [200],'max_depth': [5], 'subsample' : [1] },{'loss': ['ls','huber'], 'learning_rate': [0.05, 0.07, 0.2], 'n_estimators': [350],'max_depth': [6], 'subsample' : [1] },{'loss': ['ls','huber'], 'n_estimators': [100],'learning_rate': [0.1], 'max_depth': [4], 'subsample' : [1] }]\n",
        "params = {'loss': ['ls', 'lad','huber','quantile'],'learning_rate': [0.1, 0.2,0.3],'max_depth': [3,5,6]} \n",
        "\n",
        "#gbr = GradientBoostingRegressor(random_state=None)\n",
        "\n",
        "# print(\"R^2 of Gradient Boosting Regressor on the training set =\",GBR.score(X_train, y_train))\n",
        "# print(\"R^2 of Gradient Boosting Regressor on the test set =\",GBR.score(X_test, y_test))\n",
        "\n",
        "\n",
        "X = df[\"radiation_surface\"]\n",
        "gbr_best_scores = []\n",
        "grb_best_params = []\n",
        "\n",
        "# for all the houses\n",
        "X_reshaped = X.values.reshape(-1,1)\n",
        "RMSEs_gbr=list()\n",
        "\n",
        "for col in df.columns:\n",
        "  if \"pv\" in col:\n",
        "    y = df[col].fillna(0)\n",
        "    X_train, X_test, y_train, y_test = train_test_split( X_reshaped, y, test_size=24, shuffle = False)\n",
        "    gbr = GridSearchCV(GradientBoostingRegressor(random_state=None), params, scoring = 'explained_variance', cv = 5, n_jobs = -1)\n",
        "    gbr.fit(X_train,y_train)\n",
        "    gbr_best_scores.append([col, gbr.best_score_])\n",
        "    grb_best_params.append([col, gbr.best_params_])\n",
        "print(\"Best Scores : \", gbr_best_scores )\n",
        "print(\"Best Parameters : \",grb_best_params)\n"
      ],
      "execution_count": null,
      "outputs": [
        {
          "output_type": "stream",
          "name": "stdout",
          "text": [
            "Best Scores :  [['DE_KN_industrial1_pv_2', 0.5803883490286398], ['DE_KN_industrial2_pv', 0.6889587044115786], ['DE_KN_industrial3_pv_facade', 0.6032783360235119], ['DE_KN_industrial3_pv_roof', -0.032842451327424804], ['DE_KN_residential1_pv', 0.6911895984362616], ['DE_KN_residential3_pv', 0.5597570650330612], ['DE_KN_residential4_pv', 0.6907473739246542], ['DE_KN_residential6_pv', 0.6617529607876806]]\n",
            "Best Parameters :  [['DE_KN_industrial1_pv_2', {'learning_rate': 0.1, 'loss': 'ls', 'max_depth': 3}], ['DE_KN_industrial2_pv', {'learning_rate': 0.2, 'loss': 'lad', 'max_depth': 3}], ['DE_KN_industrial3_pv_facade', {'learning_rate': 0.1, 'loss': 'ls', 'max_depth': 3}], ['DE_KN_industrial3_pv_roof', {'learning_rate': 0.1, 'loss': 'huber', 'max_depth': 3}], ['DE_KN_residential1_pv', {'learning_rate': 0.1, 'loss': 'lad', 'max_depth': 5}], ['DE_KN_residential3_pv', {'learning_rate': 0.1, 'loss': 'huber', 'max_depth': 3}], ['DE_KN_residential4_pv', {'learning_rate': 0.1, 'loss': 'lad', 'max_depth': 3}], ['DE_KN_residential6_pv', {'learning_rate': 0.1, 'loss': 'ls', 'max_depth': 3}]]\n"
          ]
        }
      ]
    },
    {
      "cell_type": "markdown",
      "metadata": {
        "id": "-mT3HthujZDp"
      },
      "source": [
        "Best Scores :  [['DE_KN_industrial1_pv_2', 0.5803883490286398], ['DE_KN_industrial2_pv', 0.6889587044115786], ['DE_KN_industrial3_pv_facade', 0.6032783360235119], ['DE_KN_industrial3_pv_roof', -0.032842451327424804], ['DE_KN_residential1_pv', 0.6911895984362616], ['DE_KN_residential3_pv', 0.5597570650330612], ['DE_KN_residential4_pv', 0.6907473739246542], ['DE_KN_residential6_pv', 0.6617529607876806]]\n",
        "\n",
        "Best Parameters :  [['DE_KN_industrial1_pv_2', {'learning_rate': 0.1, 'loss': 'ls', 'max_depth': 3}], ['DE_KN_industrial2_pv', {'learning_rate': 0.2, 'loss': 'lad', 'max_depth': 3}], ['DE_KN_industrial3_pv_facade', {'learning_rate': 0.1, 'loss': 'ls', 'max_depth': 3}], ['DE_KN_industrial3_pv_roof', {'learning_rate': 0.1, 'loss': 'huber', 'max_depth': 3}], ['DE_KN_residential1_pv', {'learning_rate': 0.1, 'loss': 'lad', 'max_depth': 5}], ['DE_KN_residential3_pv', {'learning_rate': 0.1, 'loss': 'huber', 'max_depth': 3}], ['DE_KN_residential4_pv', {'learning_rate': 0.1, 'loss': 'lad', 'max_depth': 3}], ['DE_KN_residential6_pv', {'learning_rate': 0.1, 'loss': 'ls', 'max_depth': 3}]]"
      ]
    },
    {
      "cell_type": "markdown",
      "metadata": {
        "id": "w8DeliuYsXSo"
      },
      "source": [
        "#Quantile regression"
      ]
    },
    {
      "cell_type": "code",
      "metadata": {
        "colab": {
          "base_uri": "https://localhost:8080/"
        },
        "id": "BcfCE6W7saau",
        "outputId": "5b947ea0-8cf6-403d-f562-da1c94fb3c25"
      },
      "source": [
        "from statsmodels.regression.quantile_regression import QuantReg\n",
        "import statsmodels.api as sm\n",
        "from statistics import mean\n",
        "\n",
        "X = df[\"radiation_surface\"]\n",
        "X_reshaped = X.values.reshape(-1,1)\n",
        "#quantiles can be added\n",
        "quantile = [0.9]\n",
        "RMSEs_QR=[]\n",
        "\n",
        "for col in df.columns:\n",
        "  if \"pv\" in col:\n",
        "    y = df[col].fillna(0)\n",
        "    y_reshaped = y.values.reshape(-1,1)\n",
        "    y_reshaped = scaler.fit_transform(y_reshaped)\n",
        "    X_train, X_test, y_train, y_test = train_test_split( X_reshaped, y_reshaped, test_size=24, shuffle = False)\n",
        "    for q in quantile:\n",
        "      y_pred = sm.QuantReg(y_train, X_train).fit(q=q).predict(X_test)\n",
        "      print(\"quantile = \",q)\n",
        "      print(\"MAE:\", metrics.mean_absolute_error(y_test,y_pred))\n",
        "      print(\"MSE:\", metrics.mean_squared_error(y_test,y_pred))\n",
        "      rmse = np.sqrt(metrics.mean_squared_error(y_test,y_pred))\n",
        "      RMSEs_QR.append([q,rmse])\n",
        "      print(\"RMSE:\", rmse)\n",
        "      print()\n",
        "\n",
        "print(\"Average RMSE\", mean(RMSEs_QR[1]))"
      ],
      "execution_count": null,
      "outputs": [
        {
          "output_type": "stream",
          "name": "stdout",
          "text": [
            "quantile =  0.9\n",
            "MAE: 0.025475685041147417\n",
            "MSE: 0.002183032345575505\n",
            "RMSE: 0.04672293168857777\n",
            "\n",
            "quantile =  0.9\n",
            "MAE: 0.026078883146876505\n",
            "MSE: 0.002287022801758641\n",
            "RMSE: 0.0478228272037386\n",
            "\n",
            "quantile =  0.9\n",
            "MAE: 0.024812530917352863\n",
            "MSE: 0.002033328108418596\n",
            "RMSE: 0.045092439592670036\n",
            "\n",
            "quantile =  0.9\n",
            "MAE: 0.02066238634396912\n",
            "MSE: 0.0014580344545063399\n",
            "RMSE: 0.03818421734835402\n",
            "\n",
            "quantile =  0.9\n",
            "MAE: 0.0181157513039111\n",
            "MSE: 0.0012197083124769025\n",
            "RMSE: 0.03492432264879167\n",
            "\n",
            "quantile =  0.9\n",
            "MAE: 0.020523616655417087\n",
            "MSE: 0.0014491932132450448\n",
            "RMSE: 0.03806827042623614\n",
            "\n",
            "quantile =  0.9\n",
            "MAE: 0.025278744426784978\n",
            "MSE: 0.0021580104170405815\n",
            "RMSE: 0.046454390718645544\n",
            "\n",
            "quantile =  0.9\n",
            "MAE: 0.02975738061004703\n",
            "MSE: 0.0029429494263876776\n",
            "RMSE: 0.054248957836880864\n",
            "\n",
            "Average RMSE 0.47391141360186934\n"
          ]
        }
      ]
    },
    {
      "cell_type": "markdown",
      "metadata": {
        "id": "HLQ-R7YisAK9"
      },
      "source": [
        "#Ridge Regression"
      ]
    },
    {
      "cell_type": "code",
      "metadata": {
        "colab": {
          "base_uri": "https://localhost:8080/"
        },
        "id": "zB3lBiSffBkt",
        "outputId": "e0aaba67-d02b-4a50-e8c9-dbc88d62c47c"
      },
      "source": [
        "from sklearn.linear_model import Ridge\n",
        "\n",
        "X = df[\"radiation_surface\"]\n",
        "X_reshaped = X.values.reshape(-1,1) \n",
        "\n",
        "y = df['DE_KN_residential6_pv']fillna(0)\n",
        "y_reshaped = y.values.reshape(-1,1)\n",
        "\n",
        "StandardScaler()\n",
        "ridge = Ridge(alpha=1, fit_intercept=True)\n",
        "ridge.fit(X_train, y_train)\n",
        "\n",
        "print(\"R^2 of Linear Regression on the train set =\", ridge.score(X_train, y_train))\n",
        "print(\"R^2 of Linear Regression on the test set =\", ridge.score(X_test, y_test))"
      ],
      "execution_count": null,
      "outputs": [
        {
          "output_type": "execute_result",
          "data": {
            "text/plain": [
              "(6954, 1)"
            ]
          },
          "metadata": {},
          "execution_count": 26
        }
      ]
    }
  ]
}