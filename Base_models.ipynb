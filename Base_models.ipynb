{
  "nbformat": 4,
  "nbformat_minor": 0,
  "metadata": {
    "colab": {
      "name": "Base models.ipynb",
      "provenance": [],
      "collapsed_sections": []
    },
    "kernelspec": {
      "name": "python3",
      "display_name": "Python 3"
    },
    "language_info": {
      "name": "python"
    }
  },
  "cells": [
    {
      "cell_type": "code",
      "metadata": {
        "colab": {
          "base_uri": "https://localhost:8080/"
        },
        "id": "qrDkoiTrUjEp",
        "outputId": "b5540950-f3b0-47f9-a23d-d7c2b76236ec"
      },
      "source": [
        "#Mount google drive\n",
        "from google.colab import drive\n",
        "drive.mount('/content/drive')\n",
        "\n",
        "from pandas import read_csv\n",
        "import pandas as pd\n",
        "import datetime as dt\n",
        "import matplotlib\n",
        "from sklearn.linear_model import LinearRegression\n",
        "import numpy as np\n",
        "from sklearn import metrics\n",
        "\n",
        "path1 = '/content/drive/MyDrive/Master_thesis/irradiance.csv'\n",
        "path2 = '/content/drive/MyDrive/Master_thesis/Gerdata.csv'"
      ],
      "execution_count": 175,
      "outputs": [
        {
          "output_type": "stream",
          "name": "stdout",
          "text": [
            "Drive already mounted at /content/drive; to attempt to forcibly remount, call drive.mount(\"/content/drive\", force_remount=True).\n"
          ]
        }
      ]
    },
    {
      "cell_type": "code",
      "metadata": {
        "colab": {
          "base_uri": "https://localhost:8080/"
        },
        "id": "VBxub1F3V6i7",
        "outputId": "3cc573d5-20eb-44aa-dfba-fa4cebf795fa"
      },
      "source": [
        "irradiance = read_csv(path1, header =0, index_col=0) \n",
        "irradiance.index = pd.to_datetime(irradiance.index, utc=True)\n",
        "\n",
        "irradiance.index\n"
      ],
      "execution_count": 176,
      "outputs": [
        {
          "output_type": "execute_result",
          "data": {
            "text/plain": [
              "DatetimeIndex(['2016-02-01 05:00:00+00:00', '2016-02-01 06:00:00+00:00',\n",
              "               '2016-02-01 07:00:00+00:00', '2016-02-01 08:00:00+00:00',\n",
              "               '2016-02-01 09:00:00+00:00', '2016-02-01 10:00:00+00:00',\n",
              "               '2016-02-01 11:00:00+00:00', '2016-02-01 12:00:00+00:00',\n",
              "               '2016-02-01 13:00:00+00:00', '2016-02-01 14:00:00+00:00',\n",
              "               ...\n",
              "               '2018-01-31 10:00:00+00:00', '2018-01-31 11:00:00+00:00',\n",
              "               '2018-01-31 12:00:00+00:00', '2018-01-31 13:00:00+00:00',\n",
              "               '2018-01-31 14:00:00+00:00', '2018-01-31 15:00:00+00:00',\n",
              "               '2018-01-31 16:00:00+00:00', '2018-01-31 17:00:00+00:00',\n",
              "               '2018-01-31 18:00:00+00:00', '2018-01-31 19:00:00+00:00'],\n",
              "              dtype='datetime64[ns, UTC]', name='time', length=10965, freq=None)"
            ]
          },
          "metadata": {},
          "execution_count": 176
        }
      ]
    },
    {
      "cell_type": "code",
      "metadata": {
        "colab": {
          "base_uri": "https://localhost:8080/"
        },
        "id": "JrkxdSIvqHRL",
        "outputId": "c334ecc0-10e2-44d6-8734-3069478a5750"
      },
      "source": [
        "Gerdata = read_csv(path2, header =0, index_col=0) \n",
        "\n",
        "Gerdata.index = pd.to_datetime(Gerdata.index, utc=True)\n",
        "\n",
        "#run only once (the line below)\n",
        "#Gerdata.index = pd.to_datetime(Gerdata.index).strftime('%d-%m-%Y %H:%m') \n",
        "\n",
        "Gerdata.index \n"
      ],
      "execution_count": 177,
      "outputs": [
        {
          "output_type": "execute_result",
          "data": {
            "text/plain": [
              "DatetimeIndex(['2016-02-01 05:00:00+00:00', '2016-02-01 06:00:00+00:00',\n",
              "               '2016-02-01 07:00:00+00:00', '2016-02-01 08:00:00+00:00',\n",
              "               '2016-02-01 09:00:00+00:00', '2016-02-01 10:00:00+00:00',\n",
              "               '2016-02-01 11:00:00+00:00', '2016-02-01 12:00:00+00:00',\n",
              "               '2016-02-01 13:00:00+00:00', '2016-02-01 14:00:00+00:00',\n",
              "               ...\n",
              "               '2018-01-31 10:00:00+00:00', '2018-01-31 11:00:00+00:00',\n",
              "               '2018-01-31 12:00:00+00:00', '2018-01-31 13:00:00+00:00',\n",
              "               '2018-01-31 14:00:00+00:00', '2018-01-31 15:00:00+00:00',\n",
              "               '2018-01-31 16:00:00+00:00', '2018-01-31 17:00:00+00:00',\n",
              "               '2018-01-31 18:00:00+00:00', '2018-01-31 19:00:00+00:00'],\n",
              "              dtype='datetime64[ns, UTC]', name='utc_timestamp', length=10965, freq=None)"
            ]
          },
          "metadata": {},
          "execution_count": 177
        }
      ]
    },
    {
      "cell_type": "code",
      "metadata": {
        "colab": {
          "base_uri": "https://localhost:8080/"
        },
        "id": "QWDty0VnWVNQ",
        "outputId": "6e1a227c-c284-48ca-bcd1-ae8933f57e5c"
      },
      "source": [
        "irradiance.head(10)\n",
        "irradiance.info()\n",
        "irradiance.describe()\n",
        "type(irradiance)\n"
      ],
      "execution_count": 178,
      "outputs": [
        {
          "output_type": "stream",
          "name": "stdout",
          "text": [
            "<class 'pandas.core.frame.DataFrame'>\n",
            "DatetimeIndex: 10965 entries, 2016-02-01 05:00:00+00:00 to 2018-01-31 19:00:00+00:00\n",
            "Data columns (total 2 columns):\n",
            " #   Column             Non-Null Count  Dtype  \n",
            "---  ------             --------------  -----  \n",
            " 0   local_time         10965 non-null  object \n",
            " 1   radiation_surface  10965 non-null  float64\n",
            "dtypes: float64(1), object(1)\n",
            "memory usage: 257.0+ KB\n"
          ]
        },
        {
          "output_type": "execute_result",
          "data": {
            "text/plain": [
              "pandas.core.frame.DataFrame"
            ]
          },
          "metadata": {},
          "execution_count": 178
        }
      ]
    },
    {
      "cell_type": "code",
      "metadata": {
        "colab": {
          "base_uri": "https://localhost:8080/"
        },
        "id": "1v_e6b_EWarI",
        "outputId": "85a5d199-c2a5-4932-b983-23e8c26c6c1f"
      },
      "source": [
        "Gerdata.head(10)\n",
        "\n",
        "Gerdata.info()\n",
        "Gerdata.describe()\n",
        "\n",
        "type(Gerdata)\n",
        "\n",
        "#comments: both datasets have 10965 rows for the same dates and hours. Ready to be merged "
      ],
      "execution_count": 179,
      "outputs": [
        {
          "output_type": "stream",
          "name": "stdout",
          "text": [
            "<class 'pandas.core.frame.DataFrame'>\n",
            "DatetimeIndex: 10965 entries, 2016-02-01 05:00:00+00:00 to 2018-01-31 19:00:00+00:00\n",
            "Data columns (total 18 columns):\n",
            " #   Column                       Non-Null Count  Dtype  \n",
            "---  ------                       --------------  -----  \n",
            " 0   cet_cest_timestamp           10965 non-null  object \n",
            " 1   DE_KN_industrial1_pv_1       9300 non-null   float64\n",
            " 2   DE_KN_industrial1_pv_2       9300 non-null   float64\n",
            " 3   DE_KN_industrial2_pv         5995 non-null   float64\n",
            " 4   DE_KN_industrial3_pv_facade  7350 non-null   float64\n",
            " 5   DE_KN_industrial3_pv_roof    7350 non-null   float64\n",
            " 6   DE_KN_residential1_pv        6090 non-null   float64\n",
            " 7   DE_KN_residential3_pv        10547 non-null  float64\n",
            " 8   DE_KN_residential4_pv        10965 non-null  float64\n",
            " 9   DE_KN_residential6_pv        10965 non-null  float64\n",
            " 10  Berlin_time                  10965 non-null  object \n",
            " 11  Year                         10965 non-null  int64  \n",
            " 12  Month                        10965 non-null  int64  \n",
            " 13  Season                       10965 non-null  int64  \n",
            " 14  Week                         10965 non-null  int64  \n",
            " 15  Day                          10965 non-null  int64  \n",
            " 16  Year_day                     10965 non-null  int64  \n",
            " 17  Hour                         10965 non-null  int64  \n",
            "dtypes: float64(9), int64(7), object(2)\n",
            "memory usage: 1.6+ MB\n"
          ]
        },
        {
          "output_type": "execute_result",
          "data": {
            "text/plain": [
              "pandas.core.frame.DataFrame"
            ]
          },
          "metadata": {},
          "execution_count": 179
        }
      ]
    },
    {
      "cell_type": "code",
      "metadata": {
        "colab": {
          "base_uri": "https://localhost:8080/",
          "height": 340
        },
        "id": "AsNjnskvXeOI",
        "outputId": "6cb3cf40-bfaa-49c3-f946-96f25e58d87d"
      },
      "source": [
        "df = Gerdata.merge(irradiance, how=\"outer\", left_index=True, right_index=True)\n",
        "\n",
        "df.head()"
      ],
      "execution_count": 180,
      "outputs": [
        {
          "output_type": "execute_result",
          "data": {
            "text/html": [
              "<div>\n",
              "<style scoped>\n",
              "    .dataframe tbody tr th:only-of-type {\n",
              "        vertical-align: middle;\n",
              "    }\n",
              "\n",
              "    .dataframe tbody tr th {\n",
              "        vertical-align: top;\n",
              "    }\n",
              "\n",
              "    .dataframe thead th {\n",
              "        text-align: right;\n",
              "    }\n",
              "</style>\n",
              "<table border=\"1\" class=\"dataframe\">\n",
              "  <thead>\n",
              "    <tr style=\"text-align: right;\">\n",
              "      <th></th>\n",
              "      <th>cet_cest_timestamp</th>\n",
              "      <th>DE_KN_industrial1_pv_1</th>\n",
              "      <th>DE_KN_industrial1_pv_2</th>\n",
              "      <th>DE_KN_industrial2_pv</th>\n",
              "      <th>DE_KN_industrial3_pv_facade</th>\n",
              "      <th>DE_KN_industrial3_pv_roof</th>\n",
              "      <th>DE_KN_residential1_pv</th>\n",
              "      <th>DE_KN_residential3_pv</th>\n",
              "      <th>DE_KN_residential4_pv</th>\n",
              "      <th>DE_KN_residential6_pv</th>\n",
              "      <th>Berlin_time</th>\n",
              "      <th>Year</th>\n",
              "      <th>Month</th>\n",
              "      <th>Season</th>\n",
              "      <th>Week</th>\n",
              "      <th>Day</th>\n",
              "      <th>Year_day</th>\n",
              "      <th>Hour</th>\n",
              "      <th>local_time</th>\n",
              "      <th>radiation_surface</th>\n",
              "    </tr>\n",
              "    <tr>\n",
              "      <th>utc_timestamp</th>\n",
              "      <th></th>\n",
              "      <th></th>\n",
              "      <th></th>\n",
              "      <th></th>\n",
              "      <th></th>\n",
              "      <th></th>\n",
              "      <th></th>\n",
              "      <th></th>\n",
              "      <th></th>\n",
              "      <th></th>\n",
              "      <th></th>\n",
              "      <th></th>\n",
              "      <th></th>\n",
              "      <th></th>\n",
              "      <th></th>\n",
              "      <th></th>\n",
              "      <th></th>\n",
              "      <th></th>\n",
              "      <th></th>\n",
              "      <th></th>\n",
              "    </tr>\n",
              "  </thead>\n",
              "  <tbody>\n",
              "    <tr>\n",
              "      <th>2016-02-01 05:00:00+00:00</th>\n",
              "      <td>2016-02-01T06:00:00+0100</td>\n",
              "      <td>0.00</td>\n",
              "      <td>0.000</td>\n",
              "      <td>0.000</td>\n",
              "      <td>0.000</td>\n",
              "      <td>0.000</td>\n",
              "      <td>0.000</td>\n",
              "      <td>NaN</td>\n",
              "      <td>0.000</td>\n",
              "      <td>0.000</td>\n",
              "      <td>2016-02-01 06:00:00+01:00</td>\n",
              "      <td>2016</td>\n",
              "      <td>2</td>\n",
              "      <td>1</td>\n",
              "      <td>5</td>\n",
              "      <td>1</td>\n",
              "      <td>32</td>\n",
              "      <td>6</td>\n",
              "      <td>2016-02-01 06:00</td>\n",
              "      <td>0.000</td>\n",
              "    </tr>\n",
              "    <tr>\n",
              "      <th>2016-02-01 06:00:00+00:00</th>\n",
              "      <td>2016-02-01T07:00:00+0100</td>\n",
              "      <td>0.00</td>\n",
              "      <td>0.000</td>\n",
              "      <td>0.000</td>\n",
              "      <td>0.000</td>\n",
              "      <td>0.000</td>\n",
              "      <td>0.000</td>\n",
              "      <td>NaN</td>\n",
              "      <td>0.000</td>\n",
              "      <td>0.000</td>\n",
              "      <td>2016-02-01 07:00:00+01:00</td>\n",
              "      <td>2016</td>\n",
              "      <td>2</td>\n",
              "      <td>1</td>\n",
              "      <td>5</td>\n",
              "      <td>1</td>\n",
              "      <td>32</td>\n",
              "      <td>7</td>\n",
              "      <td>2016-02-01 07:00</td>\n",
              "      <td>0.467</td>\n",
              "    </tr>\n",
              "    <tr>\n",
              "      <th>2016-02-01 07:00:00+00:00</th>\n",
              "      <td>2016-02-01T08:00:00+0100</td>\n",
              "      <td>0.00</td>\n",
              "      <td>0.000</td>\n",
              "      <td>0.692</td>\n",
              "      <td>0.067</td>\n",
              "      <td>0.007</td>\n",
              "      <td>0.291</td>\n",
              "      <td>NaN</td>\n",
              "      <td>0.367</td>\n",
              "      <td>0.000</td>\n",
              "      <td>2016-02-01 08:00:00+01:00</td>\n",
              "      <td>2016</td>\n",
              "      <td>2</td>\n",
              "      <td>1</td>\n",
              "      <td>5</td>\n",
              "      <td>1</td>\n",
              "      <td>32</td>\n",
              "      <td>8</td>\n",
              "      <td>2016-02-01 08:00</td>\n",
              "      <td>31.309</td>\n",
              "    </tr>\n",
              "    <tr>\n",
              "      <th>2016-02-01 08:00:00+00:00</th>\n",
              "      <td>2016-02-01T09:00:00+0100</td>\n",
              "      <td>0.02</td>\n",
              "      <td>0.000</td>\n",
              "      <td>2.712</td>\n",
              "      <td>0.813</td>\n",
              "      <td>0.063</td>\n",
              "      <td>1.258</td>\n",
              "      <td>NaN</td>\n",
              "      <td>1.628</td>\n",
              "      <td>0.038</td>\n",
              "      <td>2016-02-01 09:00:00+01:00</td>\n",
              "      <td>2016</td>\n",
              "      <td>2</td>\n",
              "      <td>1</td>\n",
              "      <td>5</td>\n",
              "      <td>1</td>\n",
              "      <td>32</td>\n",
              "      <td>9</td>\n",
              "      <td>2016-02-01 09:00</td>\n",
              "      <td>112.503</td>\n",
              "    </tr>\n",
              "    <tr>\n",
              "      <th>2016-02-01 09:00:00+00:00</th>\n",
              "      <td>2016-02-01T10:00:00+0100</td>\n",
              "      <td>0.32</td>\n",
              "      <td>0.195</td>\n",
              "      <td>3.113</td>\n",
              "      <td>3.284</td>\n",
              "      <td>0.135</td>\n",
              "      <td>1.677</td>\n",
              "      <td>NaN</td>\n",
              "      <td>1.813</td>\n",
              "      <td>0.607</td>\n",
              "      <td>2016-02-01 10:00:00+01:00</td>\n",
              "      <td>2016</td>\n",
              "      <td>2</td>\n",
              "      <td>1</td>\n",
              "      <td>5</td>\n",
              "      <td>1</td>\n",
              "      <td>32</td>\n",
              "      <td>10</td>\n",
              "      <td>2016-02-01 10:00</td>\n",
              "      <td>208.440</td>\n",
              "    </tr>\n",
              "  </tbody>\n",
              "</table>\n",
              "</div>"
            ],
            "text/plain": [
              "                                 cet_cest_timestamp  ...  radiation_surface\n",
              "utc_timestamp                                        ...                   \n",
              "2016-02-01 05:00:00+00:00  2016-02-01T06:00:00+0100  ...              0.000\n",
              "2016-02-01 06:00:00+00:00  2016-02-01T07:00:00+0100  ...              0.467\n",
              "2016-02-01 07:00:00+00:00  2016-02-01T08:00:00+0100  ...             31.309\n",
              "2016-02-01 08:00:00+00:00  2016-02-01T09:00:00+0100  ...            112.503\n",
              "2016-02-01 09:00:00+00:00  2016-02-01T10:00:00+0100  ...            208.440\n",
              "\n",
              "[5 rows x 20 columns]"
            ]
          },
          "metadata": {},
          "execution_count": 180
        }
      ]
    },
    {
      "cell_type": "markdown",
      "metadata": {
        "id": "NQl76VqjFQu2"
      },
      "source": [
        "#Standardize & Normalize"
      ]
    },
    {
      "cell_type": "code",
      "metadata": {
        "id": "WEZa7FzZFTVe"
      },
      "source": [
        "\n",
        "# perform a robust scaler transform of the dataset\n",
        "# trans = StandardScaler()\n",
        "# df2 = trans.fit_transform(df)\n",
        "\n",
        "# scaler = StandardScaler()\n",
        "# scaler.fit_transform(X_reshaped,[y_reshaped])"
      ],
      "execution_count": 181,
      "outputs": []
    },
    {
      "cell_type": "markdown",
      "metadata": {
        "id": "1AOIGOgn0vya"
      },
      "source": [
        "# Reahape & split\n"
      ]
    },
    {
      "cell_type": "code",
      "metadata": {
        "colab": {
          "base_uri": "https://localhost:8080/"
        },
        "id": "cz47OJGehrgz",
        "outputId": "2480162f-d34b-4c85-c0a3-d5cd61357fd0"
      },
      "source": [
        "from sklearn.linear_model import LinearRegression\n",
        "from sklearn.model_selection import train_test_split\n",
        "from sklearn.preprocessing import StandardScaler\n",
        "\n",
        "X = df[\"radiation_surface\"]\n",
        "y = df[\"DE_KN_residential6_pv\"]\n",
        "\n",
        "print(\"Shape of X\", X.shape)\n",
        "print(\"Shape of y\", y.shape)\n",
        "\n",
        "X_reshaped = X.values.reshape(-1,1) \n",
        "print(\"Shape of X\", X_reshaped.shape) \n",
        "\n",
        "y_reshaped = y.values.reshape(-1,1)\n",
        "print(\"Shape of y\", y_reshaped.shape)\n",
        "\n",
        "\n",
        "X_train, X_test, y_train, y_test = train_test_split( X_reshaped, y_reshaped, test_size=0.3, shuffle = False)\n"
      ],
      "execution_count": 182,
      "outputs": [
        {
          "output_type": "stream",
          "name": "stdout",
          "text": [
            "Shape of X (10965,)\n",
            "Shape of y (10965,)\n",
            "Shape of X (10965, 1)\n",
            "Shape of y (10965, 1)\n"
          ]
        }
      ]
    },
    {
      "cell_type": "markdown",
      "metadata": {
        "id": "4i5NfUa9K6rU"
      },
      "source": [
        "# Linear Regression"
      ]
    },
    {
      "cell_type": "code",
      "metadata": {
        "colab": {
          "base_uri": "https://localhost:8080/"
        },
        "id": "OljYo0TQ3NnQ",
        "outputId": "9592a927-d73c-435e-9ab8-25b52ccde9c7"
      },
      "source": [
        "from sklearn import metrics\n",
        "reg = LinearRegression().fit(X_train, y_train)\n",
        "print(\"R^2 of Linear Regression on the train set =\", reg.score(X_train, y_train))\n",
        "print(\"R^2 of Linear Regression on the test set =\", reg.score(X_test, y_test))\n",
        "\n",
        "y_pred = reg.predict(X_test)\n",
        "print(\"MAE:\", metrics.mean_absolute_error(y_test,y_pred))\n",
        "print(\"MSE:\", metrics.mean_squared_error(y_test,y_pred))\n",
        "print(\"RMSE:\", np.sqrt(metrics.mean_squared_error(y_test,y_pred)))"
      ],
      "execution_count": 183,
      "outputs": [
        {
          "output_type": "stream",
          "name": "stdout",
          "text": [
            "R^2 of Linear Regression on the train set = 0.7280358605649697\n",
            "R^2 of Linear Regression on the test set = 0.725504289924719\n",
            "MAE: 0.6978000809834454\n",
            "MSE: 1.0809348741370413\n",
            "RMSE: 1.0396801787747236\n"
          ]
        }
      ]
    },
    {
      "cell_type": "code",
      "metadata": {
        "colab": {
          "base_uri": "https://localhost:8080/"
        },
        "id": "HjtAlbVrQb83",
        "outputId": "d796ab18-de97-4b9f-b66a-b4b4d4a8582f"
      },
      "source": [
        "# for all houses\n",
        "\n",
        "X = df[\"radiation_surface\"]\n",
        "X_reshaped = X.values.reshape(-1,1) \n",
        "\n",
        "for col in df.columns:\n",
        "  if \"pv\" in col:\n",
        "    y = df[col].fillna(0)\n",
        "    y_reshaped = y.values.reshape(-1,1)\n",
        "    X_train, X_test, y_train, y_test = train_test_split( X_reshaped, y_reshaped, test_size=0.3, shuffle = False)\n",
        "    reg = LinearRegression().fit(X_train, y_train)\n",
        "    print(col)\n",
        "    print(\"R^2 of Linear Regression on the train set =\", reg.score(X_train, y_train))\n",
        "    print(\"R^2 of Linear Regression on the test set =\", reg.score(X_test, y_test))\n",
        "\n",
        "    y_pred = reg.predict(X_test)\n",
        "    print(\"MAE:\", metrics.mean_absolute_error(y_test,y_pred))\n",
        "    print(\"MSE:\", metrics.mean_squared_error(y_test,y_pred))\n",
        "    print(\"RMSE:\", np.sqrt(metrics.mean_squared_error(y_test,y_pred)))\n",
        "    print()\n",
        "\n"
      ],
      "execution_count": 197,
      "outputs": [
        {
          "output_type": "stream",
          "name": "stdout",
          "text": [
            "DE_KN_industrial1_pv_1\n",
            "R^2 of Linear Regression on the train set = 0.7303477767277216\n",
            "R^2 of Linear Regression on the test set = 0.7106249670514564\n",
            "MAE: 0.44751640161095224\n",
            "MSE: 0.4293053889661769\n",
            "RMSE: 0.655214002419192\n",
            "\n",
            "DE_KN_industrial1_pv_2\n",
            "R^2 of Linear Regression on the train set = 0.759647910756405\n",
            "R^2 of Linear Regression on the test set = 0.6822229775706473\n",
            "MAE: 0.3459183774719272\n",
            "MSE: 0.2510341249015148\n",
            "RMSE: 0.5010330576933171\n",
            "\n",
            "DE_KN_industrial2_pv\n",
            "R^2 of Linear Regression on the train set = 0.07050692582651008\n",
            "R^2 of Linear Regression on the test set = 0.0\n",
            "MAE: 2.16342384696102\n",
            "MSE: 8.880747843647935\n",
            "RMSE: 2.980058362456671\n",
            "\n",
            "DE_KN_industrial3_pv_facade\n",
            "R^2 of Linear Regression on the train set = 0.5270524898585706\n",
            "R^2 of Linear Regression on the test set = 0.0\n",
            "MAE: 0.8440866222190125\n",
            "MSE: 1.5651537013021593\n",
            "RMSE: 1.2510610302068237\n",
            "\n",
            "DE_KN_industrial3_pv_roof\n",
            "R^2 of Linear Regression on the train set = 0.6658662727307901\n",
            "R^2 of Linear Regression on the test set = 0.0\n",
            "MAE: 1.9731645778992284\n",
            "MSE: 8.623311614774126\n",
            "RMSE: 2.9365475672588937\n",
            "\n",
            "DE_KN_residential1_pv\n",
            "R^2 of Linear Regression on the train set = 0.4015284515802606\n",
            "R^2 of Linear Regression on the test set = 0.0\n",
            "MAE: 1.0424772727165281\n",
            "MSE: 2.407263347848166\n",
            "RMSE: 1.551535802954017\n",
            "\n",
            "DE_KN_residential3_pv\n",
            "R^2 of Linear Regression on the train set = 0.817598193380197\n",
            "R^2 of Linear Regression on the test set = 0.8454458775501371\n",
            "MAE: 0.23937809498144036\n",
            "MSE: 0.13258927707783416\n",
            "RMSE: 0.3641281053116254\n",
            "\n",
            "DE_KN_residential4_pv\n",
            "R^2 of Linear Regression on the train set = 0.7746773393731946\n",
            "R^2 of Linear Regression on the test set = 0.7300244893943454\n",
            "MAE: 0.7584264068624337\n",
            "MSE: 1.2747103805530713\n",
            "RMSE: 1.1290307261332932\n",
            "\n",
            "DE_KN_residential6_pv\n",
            "R^2 of Linear Regression on the train set = 0.7280358605649697\n",
            "R^2 of Linear Regression on the test set = 0.725504289924719\n",
            "MAE: 0.6978000809834454\n",
            "MSE: 1.0809348741370413\n",
            "RMSE: 1.0396801787747236\n",
            "\n"
          ]
        }
      ]
    },
    {
      "cell_type": "markdown",
      "metadata": {
        "id": "4e4H_a4n3jDe"
      },
      "source": [
        "#Ridge regression"
      ]
    },
    {
      "cell_type": "code",
      "metadata": {
        "colab": {
          "base_uri": "https://localhost:8080/"
        },
        "id": "y8_IzvNv3lvK",
        "outputId": "e915895e-5356-4178-b939-e062ad6b0c74"
      },
      "source": [
        "from sklearn.linear_model import Ridge\n",
        "\n",
        "X = df[\"radiation_surface\"]\n",
        "X_reshaped = X.values.reshape(-1,1) \n",
        "\n",
        "y = df['DE_KN_residential6_pv']fillna(0)\n",
        "y_reshaped = y.values.reshape(-1,1)\n",
        "\n",
        "StandardScaler()\n",
        "ridge = Ridge(alpha=1, fit_intercept=True)\n",
        "ridge.fit(X_train, y_train)\n",
        "\n",
        "print(\"R^2 of Linear Regression on the train set =\", ridge.score(X_train, y_train))\n",
        "print(\"R^2 of Linear Regression on the test set =\", ridge.score(X_test, y_test))"
      ],
      "execution_count": 184,
      "outputs": [
        {
          "output_type": "stream",
          "name": "stdout",
          "text": [
            "R^2 of Linear Regression on the train set = 0.7280358605649696\n",
            "R^2 of Linear Regression on the test set = 0.7255042899647246\n"
          ]
        }
      ]
    },
    {
      "cell_type": "markdown",
      "metadata": {
        "id": "QenmtB4K8JQj"
      },
      "source": [
        "#Gradient Boosting Regressor "
      ]
    },
    {
      "cell_type": "code",
      "metadata": {
        "colab": {
          "base_uri": "https://localhost:8080/"
        },
        "id": "b1VfIpcA8IzG",
        "outputId": "3e6523ff-b7c2-4e15-d4db-9964b0513b6c"
      },
      "source": [
        "from sklearn.ensemble import GradientBoostingRegressor\n",
        "\n",
        "GBR = GradientBoostingRegressor(random_state=None, learning_rate=0.09).fit(X_train, y_train)\n",
        "\n",
        "print(\"R^2 of Gradient Boosting Regressor on the training set =\",GBR.score(X_train, y_train))\n",
        "print(\"R^2 of Gradient Boosting Regressor on the test set =\",GBR.score(X_test, y_test))"
      ],
      "execution_count": 185,
      "outputs": [
        {
          "output_type": "stream",
          "name": "stderr",
          "text": [
            "/usr/local/lib/python3.7/dist-packages/sklearn/ensemble/_gb.py:1454: DataConversionWarning: A column-vector y was passed when a 1d array was expected. Please change the shape of y to (n_samples, ), for example using ravel().\n",
            "  y = column_or_1d(y, warn=True)\n"
          ]
        },
        {
          "output_type": "stream",
          "name": "stdout",
          "text": [
            "R^2 of Gradient Boosting Regressor on the training set = 0.7478343074173941\n",
            "R^2 of Gradient Boosting Regressor on the test set = 0.7210955866286123\n"
          ]
        }
      ]
    }
  ]
}