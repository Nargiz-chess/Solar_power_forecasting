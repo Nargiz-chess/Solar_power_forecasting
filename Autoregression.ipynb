{
  "nbformat": 4,
  "nbformat_minor": 0,
  "metadata": {
    "colab": {
      "name": "Autoregression.ipynb",
      "provenance": [],
      "collapsed_sections": [],
      "authorship_tag": "ABX9TyNyv5ZOxHwBRaXmIOwno06g",
      "include_colab_link": true
    },
    "kernelspec": {
      "name": "python3",
      "display_name": "Python 3"
    },
    "language_info": {
      "name": "python"
    }
  },
  "cells": [
    {
      "cell_type": "markdown",
      "metadata": {
        "id": "view-in-github",
        "colab_type": "text"
      },
      "source": [
        "<a href=\"https://colab.research.google.com/github/Nargiz-chess/Solar_forecasting/blob/main/Autoregression.ipynb\" target=\"_parent\"><img src=\"https://colab.research.google.com/assets/colab-badge.svg\" alt=\"Open In Colab\"/></a>"
      ]
    },
    {
      "cell_type": "code",
      "metadata": {
        "colab": {
          "base_uri": "https://localhost:8080/"
        },
        "id": "XVZs4mUE48t5",
        "outputId": "2a5dd9f0-e746-4c80-a60b-8b88ebcc17b4"
      },
      "source": [
        "#Mount google drive\n",
        "from google.colab import drive\n",
        "drive.mount('/content/drive')\n",
        "\n",
        "from pandas import read_csv\n",
        "import pandas as pd\n",
        "import datetime as dt\n",
        "import matplotlib\n",
        "from sklearn.linear_model import LinearRegression\n",
        "import numpy as np\n",
        "from sklearn import metrics\n",
        "import matplotlib.pyplot as plt\n",
        "\n",
        "\n",
        "path = '/content/drive/MyDrive/Master_thesis/Datasets/Merged(GER+weather).csv'"
      ],
      "execution_count": null,
      "outputs": [
        {
          "output_type": "stream",
          "name": "stdout",
          "text": [
            "Mounted at /content/drive\n"
          ]
        }
      ]
    },
    {
      "cell_type": "code",
      "metadata": {
        "colab": {
          "base_uri": "https://localhost:8080/",
          "height": 340
        },
        "id": "JH_CaK7J_fQ_",
        "outputId": "81650c8d-f45a-4325-f70a-13401015aace"
      },
      "source": [
        "df = read_csv(path, header =0, index_col=0) \n",
        "df.index = pd.to_datetime(df.index, utc=True)\n",
        "\n",
        "df.head()"
      ],
      "execution_count": null,
      "outputs": [
        {
          "output_type": "execute_result",
          "data": {
            "text/html": [
              "<div>\n",
              "<style scoped>\n",
              "    .dataframe tbody tr th:only-of-type {\n",
              "        vertical-align: middle;\n",
              "    }\n",
              "\n",
              "    .dataframe tbody tr th {\n",
              "        vertical-align: top;\n",
              "    }\n",
              "\n",
              "    .dataframe thead th {\n",
              "        text-align: right;\n",
              "    }\n",
              "</style>\n",
              "<table border=\"1\" class=\"dataframe\">\n",
              "  <thead>\n",
              "    <tr style=\"text-align: right;\">\n",
              "      <th></th>\n",
              "      <th>cet_cest_timestamp</th>\n",
              "      <th>DE_KN_industrial1_pv_1</th>\n",
              "      <th>DE_KN_industrial1_pv_2</th>\n",
              "      <th>DE_KN_industrial2_pv</th>\n",
              "      <th>DE_KN_industrial3_pv_facade</th>\n",
              "      <th>DE_KN_industrial3_pv_roof</th>\n",
              "      <th>DE_KN_residential1_pv</th>\n",
              "      <th>DE_KN_residential3_pv</th>\n",
              "      <th>DE_KN_residential4_pv</th>\n",
              "      <th>DE_KN_residential6_pv</th>\n",
              "      <th>Berlin_time</th>\n",
              "      <th>Year</th>\n",
              "      <th>Month</th>\n",
              "      <th>Season</th>\n",
              "      <th>Week</th>\n",
              "      <th>Day</th>\n",
              "      <th>Year_day</th>\n",
              "      <th>Hour</th>\n",
              "      <th>local_time</th>\n",
              "      <th>radiation_surface</th>\n",
              "    </tr>\n",
              "    <tr>\n",
              "      <th>utc_timestamp</th>\n",
              "      <th></th>\n",
              "      <th></th>\n",
              "      <th></th>\n",
              "      <th></th>\n",
              "      <th></th>\n",
              "      <th></th>\n",
              "      <th></th>\n",
              "      <th></th>\n",
              "      <th></th>\n",
              "      <th></th>\n",
              "      <th></th>\n",
              "      <th></th>\n",
              "      <th></th>\n",
              "      <th></th>\n",
              "      <th></th>\n",
              "      <th></th>\n",
              "      <th></th>\n",
              "      <th></th>\n",
              "      <th></th>\n",
              "      <th></th>\n",
              "    </tr>\n",
              "  </thead>\n",
              "  <tbody>\n",
              "    <tr>\n",
              "      <th>2016-02-01 05:00:00+00:00</th>\n",
              "      <td>2016-02-01T06:00:00+0100</td>\n",
              "      <td>0.00</td>\n",
              "      <td>0.000</td>\n",
              "      <td>0.000</td>\n",
              "      <td>0.000</td>\n",
              "      <td>0.000</td>\n",
              "      <td>0.000</td>\n",
              "      <td>NaN</td>\n",
              "      <td>0.000</td>\n",
              "      <td>0.000</td>\n",
              "      <td>2016-02-01 06:00:00+01:00</td>\n",
              "      <td>2016</td>\n",
              "      <td>2</td>\n",
              "      <td>1</td>\n",
              "      <td>5</td>\n",
              "      <td>1</td>\n",
              "      <td>32</td>\n",
              "      <td>6</td>\n",
              "      <td>2016-02-01 06:00</td>\n",
              "      <td>0.000</td>\n",
              "    </tr>\n",
              "    <tr>\n",
              "      <th>2016-02-01 06:00:00+00:00</th>\n",
              "      <td>2016-02-01T07:00:00+0100</td>\n",
              "      <td>0.00</td>\n",
              "      <td>0.000</td>\n",
              "      <td>0.000</td>\n",
              "      <td>0.000</td>\n",
              "      <td>0.000</td>\n",
              "      <td>0.000</td>\n",
              "      <td>NaN</td>\n",
              "      <td>0.000</td>\n",
              "      <td>0.000</td>\n",
              "      <td>2016-02-01 07:00:00+01:00</td>\n",
              "      <td>2016</td>\n",
              "      <td>2</td>\n",
              "      <td>1</td>\n",
              "      <td>5</td>\n",
              "      <td>1</td>\n",
              "      <td>32</td>\n",
              "      <td>7</td>\n",
              "      <td>2016-02-01 07:00</td>\n",
              "      <td>0.467</td>\n",
              "    </tr>\n",
              "    <tr>\n",
              "      <th>2016-02-01 07:00:00+00:00</th>\n",
              "      <td>2016-02-01T08:00:00+0100</td>\n",
              "      <td>0.00</td>\n",
              "      <td>0.000</td>\n",
              "      <td>0.692</td>\n",
              "      <td>0.067</td>\n",
              "      <td>0.007</td>\n",
              "      <td>0.291</td>\n",
              "      <td>NaN</td>\n",
              "      <td>0.367</td>\n",
              "      <td>0.000</td>\n",
              "      <td>2016-02-01 08:00:00+01:00</td>\n",
              "      <td>2016</td>\n",
              "      <td>2</td>\n",
              "      <td>1</td>\n",
              "      <td>5</td>\n",
              "      <td>1</td>\n",
              "      <td>32</td>\n",
              "      <td>8</td>\n",
              "      <td>2016-02-01 08:00</td>\n",
              "      <td>31.309</td>\n",
              "    </tr>\n",
              "    <tr>\n",
              "      <th>2016-02-01 08:00:00+00:00</th>\n",
              "      <td>2016-02-01T09:00:00+0100</td>\n",
              "      <td>0.02</td>\n",
              "      <td>0.000</td>\n",
              "      <td>2.712</td>\n",
              "      <td>0.813</td>\n",
              "      <td>0.063</td>\n",
              "      <td>1.258</td>\n",
              "      <td>NaN</td>\n",
              "      <td>1.628</td>\n",
              "      <td>0.038</td>\n",
              "      <td>2016-02-01 09:00:00+01:00</td>\n",
              "      <td>2016</td>\n",
              "      <td>2</td>\n",
              "      <td>1</td>\n",
              "      <td>5</td>\n",
              "      <td>1</td>\n",
              "      <td>32</td>\n",
              "      <td>9</td>\n",
              "      <td>2016-02-01 09:00</td>\n",
              "      <td>112.503</td>\n",
              "    </tr>\n",
              "    <tr>\n",
              "      <th>2016-02-01 09:00:00+00:00</th>\n",
              "      <td>2016-02-01T10:00:00+0100</td>\n",
              "      <td>0.32</td>\n",
              "      <td>0.195</td>\n",
              "      <td>3.113</td>\n",
              "      <td>3.284</td>\n",
              "      <td>0.135</td>\n",
              "      <td>1.677</td>\n",
              "      <td>NaN</td>\n",
              "      <td>1.813</td>\n",
              "      <td>0.607</td>\n",
              "      <td>2016-02-01 10:00:00+01:00</td>\n",
              "      <td>2016</td>\n",
              "      <td>2</td>\n",
              "      <td>1</td>\n",
              "      <td>5</td>\n",
              "      <td>1</td>\n",
              "      <td>32</td>\n",
              "      <td>10</td>\n",
              "      <td>2016-02-01 10:00</td>\n",
              "      <td>208.440</td>\n",
              "    </tr>\n",
              "  </tbody>\n",
              "</table>\n",
              "</div>"
            ],
            "text/plain": [
              "                                 cet_cest_timestamp  ...  radiation_surface\n",
              "utc_timestamp                                        ...                   \n",
              "2016-02-01 05:00:00+00:00  2016-02-01T06:00:00+0100  ...              0.000\n",
              "2016-02-01 06:00:00+00:00  2016-02-01T07:00:00+0100  ...              0.467\n",
              "2016-02-01 07:00:00+00:00  2016-02-01T08:00:00+0100  ...             31.309\n",
              "2016-02-01 08:00:00+00:00  2016-02-01T09:00:00+0100  ...            112.503\n",
              "2016-02-01 09:00:00+00:00  2016-02-01T10:00:00+0100  ...            208.440\n",
              "\n",
              "[5 rows x 20 columns]"
            ]
          },
          "metadata": {},
          "execution_count": 2
        }
      ]
    },
    {
      "cell_type": "code",
      "metadata": {
        "colab": {
          "base_uri": "https://localhost:8080/",
          "height": 280
        },
        "id": "R93o387wANFl",
        "outputId": "aea941c8-314f-438b-89c5-0f1514206f0c"
      },
      "source": [
        "df['radiation_surface'].plot()\n",
        "plt.show()"
      ],
      "execution_count": null,
      "outputs": [
        {
          "output_type": "display_data",
          "data": {
            "image/png": "[encoded data removed]",
            "text/plain": [
              "<Figure size 432x288 with 1 Axes>"
            ]
          },
          "metadata": {
            "needs_background": "light"
          }
        }
      ]
    },
    {
      "cell_type": "code",
      "metadata": {
        "colab": {
          "base_uri": "https://localhost:8080/",
          "height": 281
        },
        "id": "U3NOdGkpAPwr",
        "outputId": "5d9e6831-5b85-4543-a302-f5d96da824f6"
      },
      "source": [
        "df['DE_KN_residential6_pv'].plot()\n",
        "plt.show()"
      ],
      "execution_count": null,
      "outputs": [
        {
          "output_type": "display_data",
          "data": {
            "image/png": "[encoded data removed]",
            "text/plain": [
              "<Figure size 432x288 with 1 Axes>"
            ]
          },
          "metadata": {
            "needs_background": "light"
          }
        }
      ]
    },
    {
      "cell_type": "markdown",
      "metadata": {
        "id": "8wMC0WZ6AURZ"
      },
      "source": [
        "***Autocorrelation check***\n",
        "\n",
        "https://machinelearningmastery.com/autoregression-models-time-series-forecasting-python/\n",
        "\n",
        "https://machinelearningmastery.com/make-predictions-time-series-forecasting-python/"
      ]
    },
    {
      "cell_type": "code",
      "metadata": {
        "colab": {
          "base_uri": "https://localhost:8080/",
          "height": 281
        },
        "id": "EaC2QrJXAU_u",
        "outputId": "d32f0d4c-0950-4f5d-d159-1e0f24a5dfc7"
      },
      "source": [
        "from pandas.plotting import lag_plot\n",
        "\n",
        "lag_plot(df['radiation_surface'])\n",
        "plt.show()"
      ],
      "execution_count": null,
      "outputs": [
        {
          "output_type": "display_data",
          "data": {
            "image/png": "[encoded data removed]",
            "text/plain": [
              "<Figure size 432x288 with 1 Axes>"
            ]
          },
          "metadata": {
            "needs_background": "light"
          }
        }
      ]
    },
    {
      "cell_type": "code",
      "metadata": {
        "colab": {
          "base_uri": "https://localhost:8080/",
          "height": 283
        },
        "id": "16Ah0CA4AYe-",
        "outputId": "b191b493-80bc-44d9-8b51-9421b4096b87"
      },
      "source": [
        "lag_plot(df['DE_KN_residential6_pv'])\n",
        "plt.show()"
      ],
      "execution_count": null,
      "outputs": [
        {
          "output_type": "display_data",
          "data": {
            "image/png": "[encoded data removed]",
            "text/plain": [
              "<Figure size 432x288 with 1 Axes>"
            ]
          },
          "metadata": {
            "needs_background": "light"
          }
        }
      ]
    },
    {
      "cell_type": "code",
      "metadata": {
        "colab": {
          "base_uri": "https://localhost:8080/"
        },
        "id": "SUa1PKeVAkax",
        "outputId": "d7f0f2d5-1a10-4c82-e4b0-46ca28691106"
      },
      "source": [
        "from pandas import DataFrame\n",
        "from pandas import concat\n",
        "from matplotlib import pyplot\n",
        "\n",
        "series = df['radiation_surface']\n",
        "values = DataFrame(series.values)\n",
        "dataframe = concat([values.shift(1), values], axis=1)\n",
        "dataframe.columns = ['t-1', 't+1']\n",
        "result = dataframe.corr()\n",
        "print(\"autocorrelation for irradiance\",result)\n",
        "print()\n",
        "\n",
        "series2 = df['DE_KN_residential6_pv']\n",
        "values2 = DataFrame(series2.values)\n",
        "dataframe2 = concat([values2.shift(1), values2], axis=1)\n",
        "dataframe2.columns = ['t-1', 't+1']\n",
        "result2 = dataframe2.corr()\n",
        "print(\"autocorrelation for solar output\",result2)"
      ],
      "execution_count": null,
      "outputs": [
        {
          "output_type": "stream",
          "name": "stdout",
          "text": [
            "autocorrelation for irradiance           t-1       t+1\n",
            "t-1  1.000000  0.935115\n",
            "t+1  0.935115  1.000000\n",
            "\n",
            "autocorrelation for solar output          t-1      t+1\n",
            "t-1  1.00000  0.88927\n",
            "t+1  0.88927  1.00000\n"
          ]
        }
      ]
    },
    {
      "cell_type": "code",
      "metadata": {
        "colab": {
          "base_uri": "https://localhost:8080/",
          "height": 283
        },
        "id": "DM7UKZyAAr0Q",
        "outputId": "acdd59b3-75f2-42c1-8497-f6f04c7737e3"
      },
      "source": [
        "from pandas.plotting import autocorrelation_plot\n",
        "\n",
        "autocorrelation_plot(df['radiation_surface'])\n",
        "pyplot.show()"
      ],
      "execution_count": null,
      "outputs": [
        {
          "output_type": "display_data",
          "data": {
            "image/png": "[encoded data removed]",
            "text/plain": [
              "<Figure size 432x288 with 1 Axes>"
            ]
          },
          "metadata": {
            "needs_background": "light"
          }
        }
      ]
    },
    {
      "cell_type": "code",
      "metadata": {
        "colab": {
          "base_uri": "https://localhost:8080/",
          "height": 283
        },
        "id": "i7vdlFK_AxOh",
        "outputId": "3b577069-c036-485f-f4fb-a56a2aad142a"
      },
      "source": [
        "autocorrelation_plot(df['DE_KN_residential6_pv'])\n",
        "pyplot.show()\n",
        "\n",
        "# the swing in positive and negative correlation indicate that the temperature values change across summer and winter seasons each previous year."
      ],
      "execution_count": null,
      "outputs": [
        {
          "output_type": "display_data",
          "data": {
            "image/png": "[encoded data removed]",
            "text/plain": [
              "<Figure size 432x288 with 1 Axes>"
            ]
          },
          "metadata": {
            "needs_background": "light"
          }
        }
      ]
    },
    {
      "cell_type": "code",
      "metadata": {
        "colab": {
          "base_uri": "https://localhost:8080/",
          "height": 335
        },
        "id": "g8PcbMMIA1LD",
        "outputId": "1785f029-9710-4de1-8ba4-0f39992a65a6"
      },
      "source": [
        "from statsmodels.graphics.tsaplots import plot_acf\n",
        "\n",
        "plot_acf(df['DE_KN_residential6_pv'], lags = 40)\n",
        "pyplot.show()\n"
      ],
      "execution_count": null,
      "outputs": [
        {
          "output_type": "stream",
          "name": "stderr",
          "text": [
            "/usr/local/lib/python3.7/dist-packages/statsmodels/tools/_testing.py:19: FutureWarning: pandas.util.testing is deprecated. Use the functions in the public API at pandas.testing instead.\n",
            "  import pandas.util.testing as tm\n"
          ]
        },
        {
          "output_type": "display_data",
          "data": {
            "image/png": "[encoded data removed]",
            "text/plain": [
              "<Figure size 432x288 with 1 Axes>"
            ]
          },
          "metadata": {
            "needs_background": "light"
          }
        }
      ]
    },
    {
      "cell_type": "markdown",
      "metadata": {
        "id": "skiUTCG9A5CF"
      },
      "source": [
        "# Persistence model"
      ]
    },
    {
      "cell_type": "code",
      "metadata": {
        "colab": {
          "base_uri": "https://localhost:8080/",
          "height": 282
        },
        "id": "vVSQTzM-A6ip",
        "outputId": "b327c5f5-af5f-422d-dfc1-6a77e54479ae"
      },
      "source": [
        "from pandas import DataFrame\n",
        "from pandas import concat\n",
        "from matplotlib import pyplot\n",
        "from sklearn.metrics import mean_squared_error\n",
        "\n",
        "\n",
        "# create lagged dataset\n",
        "values = DataFrame(df['radiation_surface'])\n",
        "dataframe = concat([values.shift(1), values], axis=1)\n",
        "dataframe.columns = ['t-1', 't+1']\n",
        "\n",
        "# split into train and test sets\n",
        "X = dataframe.values\n",
        "train, test = X[1:len(X)-17], X[len(X)-17:]\n",
        "train_X, train_y = train[:,0], train[:,1]\n",
        "test_X, test_y = test[:,0], test[:,1]\n",
        " \n",
        "# persistence model\n",
        "def model_persistence(x):\n",
        "\treturn x\n",
        " \n",
        "# walk-forward validation\n",
        "predictions = list()\n",
        "for x in test_X:\n",
        "\tyhat = model_persistence(x)\n",
        "\tpredictions.append(yhat)\n",
        "test_score = mean_squared_error(test_y, predictions)\n",
        "print('Test MSE: %.3f' % test_score)\n",
        "# plot predictions vs expected\n",
        "pyplot.plot(test_y)\n",
        "pyplot.plot(predictions, color='red')\n",
        "plt.legend(['actual', 'predicted'])\n",
        "pyplot.show()\n",
        "\n",
        "#something is wrong? why MSE becomes zero? too many zero values? and MSE looks too high"
      ],
      "execution_count": null,
      "outputs": [
        {
          "output_type": "stream",
          "name": "stdout",
          "text": [
            "Test MSE: 4543.419\n"
          ]
        },
        {
          "output_type": "display_data",
          "data": {
            "image/png": "[encoded data removed]",
            "text/plain": [
              "<Figure size 432x288 with 1 Axes>"
            ]
          },
          "metadata": {
            "needs_background": "light"
          }
        }
      ]
    },
    {
      "cell_type": "markdown",
      "metadata": {
        "id": "SNCmJiF8BFBv"
      },
      "source": [
        "#Autoregression model"
      ]
    },
    {
      "cell_type": "code",
      "metadata": {
        "colab": {
          "base_uri": "https://localhost:8080/",
          "height": 392
        },
        "id": "M-uMzc8fBGpG",
        "outputId": "a0660de7-0f83-47b4-b091-9bd9fc57483f"
      },
      "source": [
        "pip install statsmodels --upgrade"
      ],
      "execution_count": null,
      "outputs": [
        {
          "output_type": "stream",
          "name": "stdout",
          "text": [
            "Requirement already satisfied: statsmodels in /usr/local/lib/python3.7/dist-packages (0.10.2)\n",
            "Collecting statsmodels\n",
            "  Downloading statsmodels-0.13.0-cp37-cp37m-manylinux_2_17_x86_64.manylinux2014_x86_64.whl (9.8 MB)\n",
            "\u001b[K     |████████████████████████████████| 9.8 MB 4.2 MB/s \n",
            "\u001b[?25hRequirement already satisfied: numpy>=1.17 in /usr/local/lib/python3.7/dist-packages (from statsmodels) (1.19.5)\n",
            "Requirement already satisfied: scipy>=1.3 in /usr/local/lib/python3.7/dist-packages (from statsmodels) (1.4.1)\n",
            "Requirement already satisfied: pandas>=0.25 in /usr/local/lib/python3.7/dist-packages (from statsmodels) (1.1.5)\n",
            "Requirement already satisfied: patsy>=0.5.2 in /usr/local/lib/python3.7/dist-packages (from statsmodels) (0.5.2)\n",
            "Requirement already satisfied: python-dateutil>=2.7.3 in /usr/local/lib/python3.7/dist-packages (from pandas>=0.25->statsmodels) (2.8.2)\n",
            "Requirement already satisfied: pytz>=2017.2 in /usr/local/lib/python3.7/dist-packages (from pandas>=0.25->statsmodels) (2018.9)\n",
            "Requirement already satisfied: six in /usr/local/lib/python3.7/dist-packages (from patsy>=0.5.2->statsmodels) (1.15.0)\n",
            "Installing collected packages: statsmodels\n",
            "  Attempting uninstall: statsmodels\n",
            "    Found existing installation: statsmodels 0.10.2\n",
            "    Uninstalling statsmodels-0.10.2:\n",
            "      Successfully uninstalled statsmodels-0.10.2\n",
            "Successfully installed statsmodels-0.13.0\n"
          ]
        },
        {
          "output_type": "display_data",
          "data": {
            "application/vnd.colab-display-data+json": {
              "pip_warning": {
                "packages": [
                  "statsmodels"
                ]
              }
            }
          },
          "metadata": {}
        }
      ]
    },
    {
      "cell_type": "code",
      "metadata": {
        "colab": {
          "base_uri": "https://localhost:8080/",
          "height": 707
        },
        "id": "gWp3aafmBLGo",
        "outputId": "94e55f44-6694-4b9d-ffc9-39cd2498807b"
      },
      "source": [
        "# create and evaluate a static autoregressive model\n",
        "from pandas import read_csv\n",
        "from matplotlib import pyplot\n",
        "from statsmodels.tsa.ar_model import AutoReg\n",
        "from sklearn.metrics import mean_squared_error\n",
        "from math import sqrt\n",
        "\n",
        "\n",
        "series = df['radiation_surface']\n",
        "# split dataset\n",
        "X = series.values\n",
        "train, test = X[1:len(X)-17], X[len(X)-17:]\n",
        "# train autoregression\n",
        "model = AutoReg(train, lags=29)\n",
        "model_fit = model.fit()\n",
        "print('Coefficients: %s' % model_fit.params)\n",
        "# make predictions\n",
        "predictions = model_fit.predict(start=len(train), end=len(train)+len(test)-1, dynamic=False)\n",
        "for i in range(len(predictions)):\n",
        "\tprint('predicted=%f, expected=%f' % (predictions[i], test[i]))\n",
        "rmse = sqrt(mean_squared_error(test, predictions))\n",
        "print('Test RMSE: %.3f' % rmse)\n",
        "# plot results\n",
        "pyplot.plot(test)\n",
        "pyplot.plot(predictions, color='red')\n",
        "plt.legend(['expected','predicted'])\n",
        "pyplot.show()\n",
        "\n",
        "#conclusion: the model does not learn zeros"
      ],
      "execution_count": null,
      "outputs": [
        {
          "output_type": "stream",
          "name": "stdout",
          "text": [
            "Coefficients: [ 3.35877404e+00  1.62721499e+00 -9.29715932e-01  2.79192919e-01\n",
            " -1.12399310e-01  4.10731285e-02 -2.67799239e-02  3.89288572e-02\n",
            " -3.62837074e-02  3.79068006e-02 -2.40293759e-02  1.70184224e-02\n",
            "  6.09501852e-03  2.87938049e-02 -3.09268790e-02  4.37063574e-01\n",
            " -7.11616313e-01  4.23556585e-01 -1.62146427e-01  5.53166672e-02\n",
            " -1.48738629e-02  1.47895466e-03  4.65577471e-03  2.58234331e-03\n",
            " -2.93598412e-02  1.75679999e-02 -1.01986414e-02  4.95152212e-03\n",
            "  5.64707408e-02 -4.93656607e-03]\n",
            "predicted=5.165420, expected=0.000000\n",
            "predicted=12.321759, expected=0.000000\n",
            "predicted=22.959707, expected=0.000000\n",
            "predicted=36.410540, expected=2.139000\n",
            "predicted=69.235296, expected=76.736000\n",
            "predicted=120.824374, expected=212.643000\n",
            "predicted=177.893055, expected=326.733000\n",
            "predicted=215.991562, expected=395.363000\n",
            "predicted=253.693229, expected=392.363000\n",
            "predicted=240.763475, expected=345.674000\n",
            "predicted=204.153989, expected=277.277000\n",
            "predicted=136.639370, expected=180.379000\n",
            "predicted=70.163854, expected=51.763000\n",
            "predicted=36.278292, expected=0.060000\n",
            "predicted=21.509571, expected=0.000000\n",
            "predicted=17.839075, expected=0.000000\n",
            "predicted=21.513011, expected=0.000000\n",
            "Test RMSE: 78.622\n"
          ]
        },
        {
          "output_type": "display_data",
          "data": {
            "image/png": "[encoded data removed]",
            "text/plain": [
              "<Figure size 432x288 with 1 Axes>"
            ]
          },
          "metadata": {
            "needs_background": "light"
          }
        }
      ]
    },
    {
      "cell_type": "code",
      "metadata": {
        "colab": {
          "base_uri": "https://localhost:8080/",
          "height": 707
        },
        "id": "QjnqTfWIDxKz",
        "outputId": "5e647947-0c20-4b6d-bf5a-a2e1aae4b7d6"
      },
      "source": [
        "series = df['DE_KN_residential6_pv']\n",
        "# split dataset\n",
        "X = series.values\n",
        "train, test = X[1:len(X)-17], X[len(X)-17:]\n",
        "# train autoregression\n",
        "model = AutoReg(train, lags=29)\n",
        "model_fit = model.fit()\n",
        "print('Coefficients: %s' % model_fit.params)\n",
        "# make predictions\n",
        "predictions = model_fit.predict(start=len(train), end=len(train)+len(test)-1, dynamic=False)\n",
        "for i in range(len(predictions)):\n",
        "\tprint('predicted=%f, expected=%f' % (predictions[i], test[i]))\n",
        "rmse = sqrt(mean_squared_error(test, predictions))\n",
        "print('Test RMSE: %.3f' % rmse)\n",
        "# plot results\n",
        "pyplot.plot(test)\n",
        "pyplot.plot(predictions, color='red')\n",
        "plt.legend(['expected','predicted'])\n",
        "pyplot.show()\n",
        "\n",
        "#conclusion: the model does not spikes "
      ],
      "execution_count": null,
      "outputs": [
        {
          "output_type": "stream",
          "name": "stdout",
          "text": [
            "Coefficients: [ 8.62496437e-02  9.37916401e-01 -9.90430328e-02 -3.37085756e-02\n",
            " -2.17084196e-02 -2.85016376e-02  6.00829584e-03 -1.85173987e-02\n",
            "  1.09126090e-02 -6.35557151e-04  1.93850457e-02 -1.09036200e-03\n",
            "  1.57548638e-02  6.01983529e-02  6.58414806e-02  4.00944469e-02\n",
            " -3.48331631e-02 -3.61134741e-02 -1.14100642e-02  5.55442225e-03\n",
            " -5.71470186e-03 -6.36672668e-03  3.03043631e-03 -1.30456153e-02\n",
            " -4.59390074e-03 -3.27122991e-03  1.89169640e-02 -1.54724357e-02\n",
            "  2.35674325e-02  7.55246871e-02]\n",
            "predicted=-0.018149, expected=0.000000\n",
            "predicted=0.019003, expected=0.000000\n",
            "predicted=0.046907, expected=0.000000\n",
            "predicted=0.171382, expected=0.000000\n",
            "predicted=0.337532, expected=0.143000\n",
            "predicted=0.751102, expected=0.816000\n",
            "predicted=1.269715, expected=2.775000\n",
            "predicted=1.648487, expected=2.394000\n",
            "predicted=1.972770, expected=4.316000\n",
            "predicted=2.100619, expected=3.595000\n",
            "predicted=2.056064, expected=0.944000\n",
            "predicted=1.736464, expected=1.400000\n",
            "predicted=1.301239, expected=0.286000\n",
            "predicted=0.922134, expected=0.000000\n",
            "predicted=0.633002, expected=0.000000\n",
            "predicted=0.427819, expected=0.000000\n",
            "predicted=0.328489, expected=0.000000\n",
            "Test RMSE: 0.925\n"
          ]
        },
        {
          "output_type": "display_data",
          "data": {
            "image/png": "[encoded data removed]",
            "text/plain": [
              "<Figure size 432x288 with 1 Axes>"
            ]
          },
          "metadata": {
            "needs_background": "light"
          }
        }
      ]
    },
    {
      "cell_type": "code",
      "metadata": {
        "colab": {
          "base_uri": "https://localhost:8080/",
          "height": 571
        },
        "id": "77nhy6I9EwpN",
        "outputId": "05c82945-7341-458a-a347-ed0edbf04b41"
      },
      "source": [
        "X = df['DE_KN_residential6_pv'].values\n",
        "train, test = X[1:len(X)-17], X[len(X)-17:]\n",
        "\n",
        "# train autoregression\n",
        "window = 29\n",
        "model = AutoReg(train, lags=29)\n",
        "model_fit = model.fit()\n",
        "coef = model_fit.params\n",
        "# walk forward over time steps in test\n",
        "history = train[len(train)-window:]\n",
        "history = [history[i] for i in range(len(history))]\n",
        "predictions = list()\n",
        "for t in range(len(test)):\n",
        "\tlength = len(history)\n",
        "\tlag = [history[i] for i in range(length-window,length)]\n",
        "\tyhat = coef[0]\n",
        "\tfor d in range(window):\n",
        "\t\tyhat += coef[d+1] * lag[window-d-1]\n",
        "\tobs = test[t]\n",
        "\tpredictions.append(yhat)\n",
        "\thistory.append(obs)\n",
        "\tprint('predicted=%f, expected=%f' % (yhat, obs))\n",
        "rmse = sqrt(mean_squared_error(test, predictions))\n",
        "print('Test RMSE: %.3f' % rmse)\n",
        "# plot\n",
        "pyplot.plot(test)\n",
        "pyplot.plot(predictions, color='red')\n",
        "plt.legend(['expected','predicted'])\n",
        "pyplot.show()"
      ],
      "execution_count": null,
      "outputs": [
        {
          "output_type": "stream",
          "name": "stdout",
          "text": [
            "predicted=-0.018149, expected=0.000000\n",
            "predicted=0.036025, expected=0.000000\n",
            "predicted=0.027287, expected=0.000000\n",
            "predicted=0.128657, expected=0.000000\n",
            "predicted=0.181683, expected=0.143000\n",
            "predicted=0.587097, expected=0.816000\n",
            "predicted=1.357298, expected=2.775000\n",
            "predicted=3.065055, expected=2.394000\n",
            "predicted=2.530099, expected=4.316000\n",
            "predicted=4.177550, expected=3.595000\n",
            "predicted=3.167787, expected=0.944000\n",
            "predicted=0.409122, expected=1.400000\n",
            "predicted=0.978542, expected=0.286000\n",
            "predicted=-0.083532, expected=0.000000\n",
            "predicted=-0.126052, expected=0.000000\n",
            "predicted=-0.033142, expected=0.000000\n",
            "predicted=0.054626, expected=0.000000\n",
            "Test RMSE: 0.857\n"
          ]
        },
        {
          "output_type": "display_data",
          "data": {
            "image/png": "[encoded data removed]",
            "text/plain": [
              "<Figure size 432x288 with 1 Axes>"
            ]
          },
          "metadata": {
            "needs_background": "light"
          }
        }
      ]
    },
    {
      "cell_type": "markdown",
      "metadata": {
        "id": "5YOAVYq7HMyg"
      },
      "source": [
        "# Multivariate time series forecasting – Vector Auto Regression (VAR).\n",
        "\n",
        "https://www.analyticsvidhya.com/blog/2018/09/multivariate-time-series-guide-forecasting-modeling-python-codes/"
      ]
    },
    {
      "cell_type": "code",
      "metadata": {
        "colab": {
          "base_uri": "https://localhost:8080/"
        },
        "id": "MTfnuuMYHMan",
        "outputId": "0de48296-38cc-4f32-abdd-2ac83862ae5d"
      },
      "source": [
        "#checking stationarity\n",
        "from statsmodels.tsa.vector_ar.vecm import coint_johansen\n",
        "\n",
        "df2= df[['DE_KN_residential6_pv','radiation_surface']]\n",
        "\n",
        "#in the next iteration, I would drop another and check the eigenvalues\n",
        "coint_johansen(df2,-1,1).eig"
      ],
      "execution_count": null,
      "outputs": [
        {
          "output_type": "stream",
          "name": "stderr",
          "text": [
            "/usr/local/lib/python3.7/dist-packages/statsmodels/tools/_testing.py:19: FutureWarning: pandas.util.testing is deprecated. Use the functions in the public API at pandas.testing instead.\n",
            "  import pandas.util.testing as tm\n"
          ]
        },
        {
          "output_type": "execute_result",
          "data": {
            "text/plain": [
              "array([0.18037599, 0.13967902])"
            ]
          },
          "metadata": {},
          "execution_count": 3
        }
      ]
    },
    {
      "cell_type": "code",
      "metadata": {
        "colab": {
          "base_uri": "https://localhost:8080/",
          "height": 337
        },
        "id": "gKpIkDLhk327",
        "outputId": "d5332f5b-279d-4030-fa5b-ce073051b13f"
      },
      "source": [
        "# df2['Date_Time'] = pd.to_datetime(df.index , format = '%d/%m/%Y %H.%M.%S')\n",
        "# #data = df2.drop(['Date_Time'], axis=1)\n",
        "# data.index = df2.Date_Time\n",
        "\n",
        "# data.head()"
      ],
      "execution_count": null,
      "outputs": [
        {
          "output_type": "stream",
          "name": "stderr",
          "text": [
            "/usr/local/lib/python3.7/dist-packages/ipykernel_launcher.py:1: SettingWithCopyWarning: \n",
            "A value is trying to be set on a copy of a slice from a DataFrame.\n",
            "Try using .loc[row_indexer,col_indexer] = value instead\n",
            "\n",
            "See the caveats in the documentation: https://pandas.pydata.org/pandas-docs/stable/user_guide/indexing.html#returning-a-view-versus-a-copy\n",
            "  \"\"\"Entry point for launching an IPython kernel.\n"
          ]
        },
        {
          "output_type": "execute_result",
          "data": {
            "text/html": [
              "<div>\n",
              "<style scoped>\n",
              "    .dataframe tbody tr th:only-of-type {\n",
              "        vertical-align: middle;\n",
              "    }\n",
              "\n",
              "    .dataframe tbody tr th {\n",
              "        vertical-align: top;\n",
              "    }\n",
              "\n",
              "    .dataframe thead th {\n",
              "        text-align: right;\n",
              "    }\n",
              "</style>\n",
              "<table border=\"1\" class=\"dataframe\">\n",
              "  <thead>\n",
              "    <tr style=\"text-align: right;\">\n",
              "      <th></th>\n",
              "      <th>DE_KN_residential6_pv</th>\n",
              "      <th>radiation_surface</th>\n",
              "    </tr>\n",
              "    <tr>\n",
              "      <th>Date_Time</th>\n",
              "      <th></th>\n",
              "      <th></th>\n",
              "    </tr>\n",
              "  </thead>\n",
              "  <tbody>\n",
              "    <tr>\n",
              "      <th>2016-02-01 05:00:00+00:00</th>\n",
              "      <td>0.000</td>\n",
              "      <td>0.000</td>\n",
              "    </tr>\n",
              "    <tr>\n",
              "      <th>2016-02-01 06:00:00+00:00</th>\n",
              "      <td>0.000</td>\n",
              "      <td>0.467</td>\n",
              "    </tr>\n",
              "    <tr>\n",
              "      <th>2016-02-01 07:00:00+00:00</th>\n",
              "      <td>0.000</td>\n",
              "      <td>31.309</td>\n",
              "    </tr>\n",
              "    <tr>\n",
              "      <th>2016-02-01 08:00:00+00:00</th>\n",
              "      <td>0.038</td>\n",
              "      <td>112.503</td>\n",
              "    </tr>\n",
              "    <tr>\n",
              "      <th>2016-02-01 09:00:00+00:00</th>\n",
              "      <td>0.607</td>\n",
              "      <td>208.440</td>\n",
              "    </tr>\n",
              "  </tbody>\n",
              "</table>\n",
              "</div>"
            ],
            "text/plain": [
              "                           DE_KN_residential6_pv  radiation_surface\n",
              "Date_Time                                                          \n",
              "2016-02-01 05:00:00+00:00                  0.000              0.000\n",
              "2016-02-01 06:00:00+00:00                  0.000              0.467\n",
              "2016-02-01 07:00:00+00:00                  0.000             31.309\n",
              "2016-02-01 08:00:00+00:00                  0.038            112.503\n",
              "2016-02-01 09:00:00+00:00                  0.607            208.440"
            ]
          },
          "metadata": {},
          "execution_count": 54
        }
      ]
    },
    {
      "cell_type": "code",
      "metadata": {
        "colab": {
          "base_uri": "https://localhost:8080/"
        },
        "id": "bV30WOJlqDrI",
        "outputId": "c9f58050-f75c-47c6-f595-1e2f489712ac"
      },
      "source": [
        "len(df2)\n",
        "\n",
        "0.8 * len(df2)"
      ],
      "execution_count": null,
      "outputs": [
        {
          "output_type": "execute_result",
          "data": {
            "text/plain": [
              "8772.0"
            ]
          },
          "metadata": {},
          "execution_count": 78
        }
      ]
    },
    {
      "cell_type": "code",
      "metadata": {
        "colab": {
          "base_uri": "https://localhost:8080/"
        },
        "id": "jBjTTBQRYgKE",
        "outputId": "314aef58-7445-4e4e-bbb7-e90c7692a8dc"
      },
      "source": [
        "#creating the train and validation set\n",
        "train = df2[:int(0.8*(len(df2)))]\n",
        "valid = df2[int(0.8*(len(df2))):]\n",
        "\n",
        "df2.head()\n",
        "df2.info()\n",
        "train.head()\n",
        "print(type(train))\n",
        "\n",
        "#fit the model\n",
        "from statsmodels.tsa.vector_ar.var_model import VAR\n",
        "from statsmodels.tsa.vector_ar.var_model import forecast\n",
        "\n",
        "model = VAR(endog=train)\n",
        "model_fit = model.fit()\n",
        "model_fit.summary()\n",
        "\n",
        "print(model_fit.params)\n",
        "#print(model_fit)\n",
        "\n",
        "# # make prediction on validation\n",
        "prediction = model_fit.forecast(model.y, steps=len(valid))\n",
        "\n",
        "print(prediction)"
      ],
      "execution_count": null,
      "outputs": [
        {
          "output_type": "stream",
          "name": "stdout",
          "text": [
            "<class 'pandas.core.frame.DataFrame'>\n",
            "DatetimeIndex: 10965 entries, 2016-02-01 05:00:00+00:00 to 2018-01-31 19:00:00+00:00\n",
            "Data columns (total 2 columns):\n",
            " #   Column                 Non-Null Count  Dtype  \n",
            "---  ------                 --------------  -----  \n",
            " 0   DE_KN_residential6_pv  10965 non-null  float64\n",
            " 1   radiation_surface      10965 non-null  float64\n",
            "dtypes: float64(2)\n",
            "memory usage: 257.0 KB\n",
            "<class 'pandas.core.frame.DataFrame'>\n",
            "                          DE_KN_residential6_pv  radiation_surface\n",
            "const                                 -0.135616          13.572917\n",
            "L1.DE_KN_residential6_pv               0.525221         -31.026343\n",
            "L1.radiation_surface                   0.003612           1.155918\n",
            "[[  1.11838834 149.88829242]\n",
            " [  0.99312013 152.13200529]\n",
            " [  0.93543007 158.61216794]\n",
            " ...\n",
            " [  1.84509345 280.10595794]\n",
            " [  1.84509345 280.10595794]\n",
            " [  1.84509345 280.10595794]]\n"
          ]
        },
        {
          "output_type": "stream",
          "name": "stderr",
          "text": [
            "/usr/local/lib/python3.7/dist-packages/statsmodels/tsa/base/tsa_model.py:219: ValueWarning: A date index has been provided, but it has no associated frequency information and so will be ignored when e.g. forecasting.\n",
            "  ' ignored when e.g. forecasting.', ValueWarning)\n",
            "/usr/local/lib/python3.7/dist-packages/ipykernel_launcher.py:22: FutureWarning: y is a deprecated alias for endog, will be removed in version 0.11.0\n"
          ]
        }
      ]
    },
    {
      "cell_type": "code",
      "metadata": {
        "colab": {
          "base_uri": "https://localhost:8080/"
        },
        "id": "PHgzm9sqnmgL",
        "outputId": "cdfbc6d7-8b00-4200-d2f7-69e98e7f4b13"
      },
      "source": [
        "#converting predictions to dataframe\n",
        "pred = pd.DataFrame(index=range(0,len(prediction)),columns=df2.columns)\n",
        "for j in range(0,2):\n",
        "    for i in range(0, len(prediction)):\n",
        "       pred.iloc[i][j] = prediction[i][j]\n",
        "\n",
        "#check rmse\n",
        "for i in df2.columns:\n",
        "    print('mse value for', i, 'is : ', mean_squared_error(pred[i], valid[i]))"
      ],
      "execution_count": null,
      "outputs": [
        {
          "output_type": "stream",
          "name": "stdout",
          "text": [
            "mse value for DE_KN_residential6_pv is :  3.376257564348511\n",
            "mse value for radiation_surface is :  48545.97830772812\n"
          ]
        }
      ]
    },
    {
      "cell_type": "code",
      "metadata": {
        "colab": {
          "base_uri": "https://localhost:8080/"
        },
        "id": "U8lrTO9zohgZ",
        "outputId": "bd03d19f-6d77-4ccf-8d3f-5d882cd3a64b"
      },
      "source": [
        "#make final predictions\n",
        "model = VAR(endog=data)\n",
        "model_fit = model.fit()\n",
        "yhat = model_fit.forecast(model.y, steps=1)\n",
        "print(yhat)\n",
        "\n",
        "#first value is solar output - can't be minus. Check dataset"
      ],
      "execution_count": null,
      "outputs": [
        {
          "output_type": "stream",
          "name": "stdout",
          "text": [
            "[[-0.10196451 12.3413057 ]]\n"
          ]
        },
        {
          "output_type": "stream",
          "name": "stderr",
          "text": [
            "/usr/local/lib/python3.7/dist-packages/statsmodels/tsa/base/tsa_model.py:595: ValueWarning: A date index has been provided, but it has no associated frequency information and so will be ignored when e.g. forecasting.\n",
            "  ' ignored when e.g. forecasting.', ValueWarning)\n",
            "/usr/local/lib/python3.7/dist-packages/ipykernel_launcher.py:4: FutureWarning: y is a deprecated alias for endog, will be removed in version 0.11.0\n",
            "  after removing the cwd from sys.path.\n"
          ]
        }
      ]
    },
    {
      "cell_type": "code",
      "metadata": {
        "colab": {
          "base_uri": "https://localhost:8080/"
        },
        "id": "HrD4rIg8pteQ",
        "outputId": "56fd5c0b-4937-4427-d062-df89e5eb5abf"
      },
      "source": [
        "model.y"
      ],
      "execution_count": null,
      "outputs": [
        {
          "output_type": "stream",
          "name": "stderr",
          "text": [
            "/usr/local/lib/python3.7/dist-packages/ipykernel_launcher.py:1: FutureWarning: y is a deprecated alias for endog, will be removed in version 0.11.0\n",
            "  \"\"\"Entry point for launching an IPython kernel.\n"
          ]
        },
        {
          "output_type": "execute_result",
          "data": {
            "text/plain": [
              "array([[ 0.   ,  0.   ],\n",
              "       [ 0.   ,  0.467],\n",
              "       [ 0.   , 31.309],\n",
              "       ...,\n",
              "       [ 0.   ,  0.   ],\n",
              "       [ 0.   ,  0.   ],\n",
              "       [ 0.   ,  0.   ]])"
            ]
          },
          "metadata": {},
          "execution_count": 75
        }
      ]
    }
  ]
}