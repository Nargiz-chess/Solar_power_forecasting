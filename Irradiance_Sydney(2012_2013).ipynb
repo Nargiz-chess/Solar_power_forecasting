{
  "nbformat": 4,
  "nbformat_minor": 0,
  "metadata": {
    "colab": {
      "name": "Irradiance_Sydney(2012-2013).ipynb",
      "provenance": [],
      "collapsed_sections": [],
      "include_colab_link": true
    },
    "kernelspec": {
      "name": "python3",
      "display_name": "Python 3"
    },
    "language_info": {
      "name": "python"
    }
  },
  "cells": [
    {
      "cell_type": "markdown",
      "metadata": {
        "id": "view-in-github",
        "colab_type": "text"
      },
      "source": [
        "<a href=\"https://colab.research.google.com/github/Nargiz-chess/Solar_power_forecasting/blob/main/Irradiance_Sydney(2012_2013).ipynb\" target=\"_parent\"><img src=\"https://colab.research.google.com/assets/colab-badge.svg\" alt=\"Open In Colab\"/></a>"
      ]
    },
    {
      "cell_type": "code",
      "metadata": {
        "colab": {
          "base_uri": "https://localhost:8080/"
        },
        "id": "FCRnr1kDByDf",
        "outputId": "ec8c863e-ab13-421e-ff89-6ec298ae533d"
      },
      "source": [
        "#Mount google drive\n",
        "from google.colab import drive\n",
        "drive.mount('/content/drive')\n",
        "\n",
        "from pandas import read_csv\n",
        "import pandas as pd\n",
        "\n",
        "path1=  '/content/drive/MyDrive/Master_thesis/Datasets/Weather-renewables.ninja/ninja_weather_AUS_2011.csv'\n",
        "path2 = '/content/drive/MyDrive/Master_thesis/Datasets/Weather-renewables.ninja/ninja_weather_AUS_2012.csv'\n",
        "path3 = '/content/drive/MyDrive/Master_thesis/Datasets/Weather-renewables.ninja/ninja_weather_AUS_2013.csv'\n"
      ],
      "execution_count": null,
      "outputs": [
        {
          "output_type": "stream",
          "name": "stdout",
          "text": [
            "Mounted at /content/drive\n"
          ]
        }
      ]
    },
    {
      "cell_type": "code",
      "metadata": {
        "colab": {
          "base_uri": "https://localhost:8080/"
        },
        "id": "uz_LmcOMB7mJ",
        "outputId": "21995fed-17a3-4d5a-acbf-7436960849af"
      },
      "source": [
        "ninja_2011 = read_csv(path1, header =3, index_col=1) # start from row 3 - remove previous rows because it is text, not an error \n",
        "ninja_2011.info()"
      ],
      "execution_count": null,
      "outputs": [
        {
          "output_type": "stream",
          "name": "stdout",
          "text": [
            "<class 'pandas.core.frame.DataFrame'>\n",
            "Index: 8760 entries, 2011-01-01 11:00 to 2012-01-01 10:00\n",
            "Data columns (total 2 columns):\n",
            " #   Column             Non-Null Count  Dtype  \n",
            "---  ------             --------------  -----  \n",
            " 0   time               8760 non-null   object \n",
            " 1   radiation_surface  8760 non-null   float64\n",
            "dtypes: float64(1), object(1)\n",
            "memory usage: 205.3+ KB\n"
          ]
        }
      ]
    },
    {
      "cell_type": "code",
      "metadata": {
        "colab": {
          "base_uri": "https://localhost:8080/",
          "height": 390
        },
        "id": "O5pxGDTtHD3e",
        "outputId": "5de15bd7-f6ce-40ef-dc38-d07a63b0461f"
      },
      "source": [
        "ninja_2012 = read_csv(path2, header =3,index_col=1)\n",
        "ninja_2012.head(10)"
      ],
      "execution_count": null,
      "outputs": [
        {
          "output_type": "execute_result",
          "data": {
            "text/html": [
              "<div>\n",
              "<style scoped>\n",
              "    .dataframe tbody tr th:only-of-type {\n",
              "        vertical-align: middle;\n",
              "    }\n",
              "\n",
              "    .dataframe tbody tr th {\n",
              "        vertical-align: top;\n",
              "    }\n",
              "\n",
              "    .dataframe thead th {\n",
              "        text-align: right;\n",
              "    }\n",
              "</style>\n",
              "<table border=\"1\" class=\"dataframe\">\n",
              "  <thead>\n",
              "    <tr style=\"text-align: right;\">\n",
              "      <th></th>\n",
              "      <th>time</th>\n",
              "      <th>radiation_surface</th>\n",
              "    </tr>\n",
              "    <tr>\n",
              "      <th>local_time</th>\n",
              "      <th></th>\n",
              "      <th></th>\n",
              "    </tr>\n",
              "  </thead>\n",
              "  <tbody>\n",
              "    <tr>\n",
              "      <th>2012-01-01 11:00</th>\n",
              "      <td>2012-01-01 00:00</td>\n",
              "      <td>1041.517</td>\n",
              "    </tr>\n",
              "    <tr>\n",
              "      <th>2012-01-01 12:00</th>\n",
              "      <td>2012-01-01 01:00</td>\n",
              "      <td>1102.061</td>\n",
              "    </tr>\n",
              "    <tr>\n",
              "      <th>2012-01-01 13:00</th>\n",
              "      <td>2012-01-01 02:00</td>\n",
              "      <td>1097.361</td>\n",
              "    </tr>\n",
              "    <tr>\n",
              "      <th>2012-01-01 14:00</th>\n",
              "      <td>2012-01-01 03:00</td>\n",
              "      <td>1027.802</td>\n",
              "    </tr>\n",
              "    <tr>\n",
              "      <th>2012-01-01 15:00</th>\n",
              "      <td>2012-01-01 04:00</td>\n",
              "      <td>899.326</td>\n",
              "    </tr>\n",
              "    <tr>\n",
              "      <th>2012-01-01 16:00</th>\n",
              "      <td>2012-01-01 05:00</td>\n",
              "      <td>721.893</td>\n",
              "    </tr>\n",
              "    <tr>\n",
              "      <th>2012-01-01 17:00</th>\n",
              "      <td>2012-01-01 06:00</td>\n",
              "      <td>511.427</td>\n",
              "    </tr>\n",
              "    <tr>\n",
              "      <th>2012-01-01 18:00</th>\n",
              "      <td>2012-01-01 07:00</td>\n",
              "      <td>285.686</td>\n",
              "    </tr>\n",
              "    <tr>\n",
              "      <th>2012-01-01 19:00</th>\n",
              "      <td>2012-01-01 08:00</td>\n",
              "      <td>78.842</td>\n",
              "    </tr>\n",
              "    <tr>\n",
              "      <th>2012-01-01 20:00</th>\n",
              "      <td>2012-01-01 09:00</td>\n",
              "      <td>0.065</td>\n",
              "    </tr>\n",
              "  </tbody>\n",
              "</table>\n",
              "</div>"
            ],
            "text/plain": [
              "                              time  radiation_surface\n",
              "local_time                                           \n",
              "2012-01-01 11:00  2012-01-01 00:00           1041.517\n",
              "2012-01-01 12:00  2012-01-01 01:00           1102.061\n",
              "2012-01-01 13:00  2012-01-01 02:00           1097.361\n",
              "2012-01-01 14:00  2012-01-01 03:00           1027.802\n",
              "2012-01-01 15:00  2012-01-01 04:00            899.326\n",
              "2012-01-01 16:00  2012-01-01 05:00            721.893\n",
              "2012-01-01 17:00  2012-01-01 06:00            511.427\n",
              "2012-01-01 18:00  2012-01-01 07:00            285.686\n",
              "2012-01-01 19:00  2012-01-01 08:00             78.842\n",
              "2012-01-01 20:00  2012-01-01 09:00              0.065"
            ]
          },
          "metadata": {},
          "execution_count": 3
        }
      ]
    },
    {
      "cell_type": "code",
      "metadata": {
        "colab": {
          "base_uri": "https://localhost:8080/",
          "height": 390
        },
        "id": "chc6s9R69Hk4",
        "outputId": "4d344c0f-2349-4104-ead6-2b74573cfb96"
      },
      "source": [
        "ninja_2013 = read_csv(path3, header =3,index_col=1)\n",
        "ninja_2013.head(10)"
      ],
      "execution_count": null,
      "outputs": [
        {
          "output_type": "execute_result",
          "data": {
            "text/html": [
              "<div>\n",
              "<style scoped>\n",
              "    .dataframe tbody tr th:only-of-type {\n",
              "        vertical-align: middle;\n",
              "    }\n",
              "\n",
              "    .dataframe tbody tr th {\n",
              "        vertical-align: top;\n",
              "    }\n",
              "\n",
              "    .dataframe thead th {\n",
              "        text-align: right;\n",
              "    }\n",
              "</style>\n",
              "<table border=\"1\" class=\"dataframe\">\n",
              "  <thead>\n",
              "    <tr style=\"text-align: right;\">\n",
              "      <th></th>\n",
              "      <th>time</th>\n",
              "      <th>radiation_surface</th>\n",
              "    </tr>\n",
              "    <tr>\n",
              "      <th>local_time</th>\n",
              "      <th></th>\n",
              "      <th></th>\n",
              "    </tr>\n",
              "  </thead>\n",
              "  <tbody>\n",
              "    <tr>\n",
              "      <th>2013-01-01 11:00</th>\n",
              "      <td>2013-01-01 00:00</td>\n",
              "      <td>1024.234</td>\n",
              "    </tr>\n",
              "    <tr>\n",
              "      <th>2013-01-01 12:00</th>\n",
              "      <td>2013-01-01 01:00</td>\n",
              "      <td>1084.880</td>\n",
              "    </tr>\n",
              "    <tr>\n",
              "      <th>2013-01-01 13:00</th>\n",
              "      <td>2013-01-01 02:00</td>\n",
              "      <td>1082.148</td>\n",
              "    </tr>\n",
              "    <tr>\n",
              "      <th>2013-01-01 14:00</th>\n",
              "      <td>2013-01-01 03:00</td>\n",
              "      <td>1015.586</td>\n",
              "    </tr>\n",
              "    <tr>\n",
              "      <th>2013-01-01 15:00</th>\n",
              "      <td>2013-01-01 04:00</td>\n",
              "      <td>889.572</td>\n",
              "    </tr>\n",
              "    <tr>\n",
              "      <th>2013-01-01 16:00</th>\n",
              "      <td>2013-01-01 05:00</td>\n",
              "      <td>715.241</td>\n",
              "    </tr>\n",
              "    <tr>\n",
              "      <th>2013-01-01 17:00</th>\n",
              "      <td>2013-01-01 06:00</td>\n",
              "      <td>506.267</td>\n",
              "    </tr>\n",
              "    <tr>\n",
              "      <th>2013-01-01 18:00</th>\n",
              "      <td>2013-01-01 07:00</td>\n",
              "      <td>282.117</td>\n",
              "    </tr>\n",
              "    <tr>\n",
              "      <th>2013-01-01 19:00</th>\n",
              "      <td>2013-01-01 08:00</td>\n",
              "      <td>77.085</td>\n",
              "    </tr>\n",
              "    <tr>\n",
              "      <th>2013-01-01 20:00</th>\n",
              "      <td>2013-01-01 09:00</td>\n",
              "      <td>0.062</td>\n",
              "    </tr>\n",
              "  </tbody>\n",
              "</table>\n",
              "</div>"
            ],
            "text/plain": [
              "                              time  radiation_surface\n",
              "local_time                                           \n",
              "2013-01-01 11:00  2013-01-01 00:00           1024.234\n",
              "2013-01-01 12:00  2013-01-01 01:00           1084.880\n",
              "2013-01-01 13:00  2013-01-01 02:00           1082.148\n",
              "2013-01-01 14:00  2013-01-01 03:00           1015.586\n",
              "2013-01-01 15:00  2013-01-01 04:00            889.572\n",
              "2013-01-01 16:00  2013-01-01 05:00            715.241\n",
              "2013-01-01 17:00  2013-01-01 06:00            506.267\n",
              "2013-01-01 18:00  2013-01-01 07:00            282.117\n",
              "2013-01-01 19:00  2013-01-01 08:00             77.085\n",
              "2013-01-01 20:00  2013-01-01 09:00              0.062"
            ]
          },
          "metadata": {},
          "execution_count": 4
        }
      ]
    },
    {
      "cell_type": "code",
      "metadata": {
        "id": "7FVx31ykH5Rt",
        "colab": {
          "base_uri": "https://localhost:8080/",
          "height": 388
        },
        "outputId": "e2dee290-2085-443c-c50d-d8b36fd76231"
      },
      "source": [
        "#merge years\n",
        "\n",
        "combined = ninja_2011.append(ninja_2012)\n",
        "combined.info()\n",
        "\n",
        "combined.head()\n",
        "#combined.tail()\n",
        "\n"
      ],
      "execution_count": null,
      "outputs": [
        {
          "output_type": "stream",
          "name": "stdout",
          "text": [
            "<class 'pandas.core.frame.DataFrame'>\n",
            "Index: 17544 entries, 2011-01-01 11:00 to 2013-01-01 10:00\n",
            "Data columns (total 2 columns):\n",
            " #   Column             Non-Null Count  Dtype  \n",
            "---  ------             --------------  -----  \n",
            " 0   time               17544 non-null  object \n",
            " 1   radiation_surface  17544 non-null  float64\n",
            "dtypes: float64(1), object(1)\n",
            "memory usage: 411.2+ KB\n"
          ]
        },
        {
          "output_type": "execute_result",
          "data": {
            "text/html": [
              "<div>\n",
              "<style scoped>\n",
              "    .dataframe tbody tr th:only-of-type {\n",
              "        vertical-align: middle;\n",
              "    }\n",
              "\n",
              "    .dataframe tbody tr th {\n",
              "        vertical-align: top;\n",
              "    }\n",
              "\n",
              "    .dataframe thead th {\n",
              "        text-align: right;\n",
              "    }\n",
              "</style>\n",
              "<table border=\"1\" class=\"dataframe\">\n",
              "  <thead>\n",
              "    <tr style=\"text-align: right;\">\n",
              "      <th></th>\n",
              "      <th>time</th>\n",
              "      <th>radiation_surface</th>\n",
              "    </tr>\n",
              "    <tr>\n",
              "      <th>local_time</th>\n",
              "      <th></th>\n",
              "      <th></th>\n",
              "    </tr>\n",
              "  </thead>\n",
              "  <tbody>\n",
              "    <tr>\n",
              "      <th>2011-01-01 11:00</th>\n",
              "      <td>2011-01-01 00:00</td>\n",
              "      <td>1037.543</td>\n",
              "    </tr>\n",
              "    <tr>\n",
              "      <th>2011-01-01 12:00</th>\n",
              "      <td>2011-01-01 01:00</td>\n",
              "      <td>1099.101</td>\n",
              "    </tr>\n",
              "    <tr>\n",
              "      <th>2011-01-01 13:00</th>\n",
              "      <td>2011-01-01 02:00</td>\n",
              "      <td>1095.290</td>\n",
              "    </tr>\n",
              "    <tr>\n",
              "      <th>2011-01-01 14:00</th>\n",
              "      <td>2011-01-01 03:00</td>\n",
              "      <td>1026.531</td>\n",
              "    </tr>\n",
              "    <tr>\n",
              "      <th>2011-01-01 15:00</th>\n",
              "      <td>2011-01-01 04:00</td>\n",
              "      <td>898.085</td>\n",
              "    </tr>\n",
              "  </tbody>\n",
              "</table>\n",
              "</div>"
            ],
            "text/plain": [
              "                              time  radiation_surface\n",
              "local_time                                           \n",
              "2011-01-01 11:00  2011-01-01 00:00           1037.543\n",
              "2011-01-01 12:00  2011-01-01 01:00           1099.101\n",
              "2011-01-01 13:00  2011-01-01 02:00           1095.290\n",
              "2011-01-01 14:00  2011-01-01 03:00           1026.531\n",
              "2011-01-01 15:00  2011-01-01 04:00            898.085"
            ]
          },
          "metadata": {},
          "execution_count": 5
        }
      ]
    },
    {
      "cell_type": "code",
      "metadata": {
        "colab": {
          "base_uri": "https://localhost:8080/"
        },
        "id": "zpiYFy0R9Zid",
        "outputId": "3cbddf0d-a094-4098-b156-81323acae573"
      },
      "source": [
        "combined_full = combined.append(ninja_2013)\n",
        "combined_full.info()"
      ],
      "execution_count": null,
      "outputs": [
        {
          "output_type": "stream",
          "name": "stdout",
          "text": [
            "<class 'pandas.core.frame.DataFrame'>\n",
            "Index: 26304 entries, 2011-01-01 11:00 to 2014-01-01 10:00\n",
            "Data columns (total 2 columns):\n",
            " #   Column             Non-Null Count  Dtype  \n",
            "---  ------             --------------  -----  \n",
            " 0   time               26304 non-null  object \n",
            " 1   radiation_surface  26304 non-null  float64\n",
            "dtypes: float64(1), object(1)\n",
            "memory usage: 616.5+ KB\n"
          ]
        }
      ]
    },
    {
      "cell_type": "code",
      "metadata": {
        "id": "bktKg9J4Lzj8"
      },
      "source": [
        "combined_full.index = pd.to_datetime(combined_full.index) "
      ],
      "execution_count": null,
      "outputs": []
    },
    {
      "cell_type": "code",
      "metadata": {
        "colab": {
          "base_uri": "https://localhost:8080/",
          "height": 700
        },
        "id": "Ta2YXnPyMPKy",
        "outputId": "f3c55817-b55b-41a9-ef6f-2a7ca88247a3"
      },
      "source": [
        "irradiance = combined_full.loc['2012-07-01 00:00' : '2013-06-30 23:00']\n",
        "\n",
        "irradiance.head()\n",
        "irradiance.tail(20)"
      ],
      "execution_count": null,
      "outputs": [
        {
          "output_type": "execute_result",
          "data": {
            "text/html": [
              "<div>\n",
              "<style scoped>\n",
              "    .dataframe tbody tr th:only-of-type {\n",
              "        vertical-align: middle;\n",
              "    }\n",
              "\n",
              "    .dataframe tbody tr th {\n",
              "        vertical-align: top;\n",
              "    }\n",
              "\n",
              "    .dataframe thead th {\n",
              "        text-align: right;\n",
              "    }\n",
              "</style>\n",
              "<table border=\"1\" class=\"dataframe\">\n",
              "  <thead>\n",
              "    <tr style=\"text-align: right;\">\n",
              "      <th></th>\n",
              "      <th>time</th>\n",
              "      <th>radiation_surface</th>\n",
              "    </tr>\n",
              "    <tr>\n",
              "      <th>local_time</th>\n",
              "      <th></th>\n",
              "      <th></th>\n",
              "    </tr>\n",
              "  </thead>\n",
              "  <tbody>\n",
              "    <tr>\n",
              "      <th>2013-06-30 04:00:00</th>\n",
              "      <td>2013-06-29 18:00</td>\n",
              "      <td>0.000</td>\n",
              "    </tr>\n",
              "    <tr>\n",
              "      <th>2013-06-30 05:00:00</th>\n",
              "      <td>2013-06-29 19:00</td>\n",
              "      <td>0.000</td>\n",
              "    </tr>\n",
              "    <tr>\n",
              "      <th>2013-06-30 06:00:00</th>\n",
              "      <td>2013-06-29 20:00</td>\n",
              "      <td>0.000</td>\n",
              "    </tr>\n",
              "    <tr>\n",
              "      <th>2013-06-30 07:00:00</th>\n",
              "      <td>2013-06-29 21:00</td>\n",
              "      <td>16.520</td>\n",
              "    </tr>\n",
              "    <tr>\n",
              "      <th>2013-06-30 08:00:00</th>\n",
              "      <td>2013-06-29 22:00</td>\n",
              "      <td>82.227</td>\n",
              "    </tr>\n",
              "    <tr>\n",
              "      <th>2013-06-30 09:00:00</th>\n",
              "      <td>2013-06-29 23:00</td>\n",
              "      <td>181.026</td>\n",
              "    </tr>\n",
              "    <tr>\n",
              "      <th>2013-06-30 10:00:00</th>\n",
              "      <td>2013-06-30 00:00</td>\n",
              "      <td>284.155</td>\n",
              "    </tr>\n",
              "    <tr>\n",
              "      <th>2013-06-30 11:00:00</th>\n",
              "      <td>2013-06-30 01:00</td>\n",
              "      <td>377.279</td>\n",
              "    </tr>\n",
              "    <tr>\n",
              "      <th>2013-06-30 12:00:00</th>\n",
              "      <td>2013-06-30 02:00</td>\n",
              "      <td>423.853</td>\n",
              "    </tr>\n",
              "    <tr>\n",
              "      <th>2013-06-30 13:00:00</th>\n",
              "      <td>2013-06-30 03:00</td>\n",
              "      <td>400.891</td>\n",
              "    </tr>\n",
              "    <tr>\n",
              "      <th>2013-06-30 14:00:00</th>\n",
              "      <td>2013-06-30 04:00</td>\n",
              "      <td>305.821</td>\n",
              "    </tr>\n",
              "    <tr>\n",
              "      <th>2013-06-30 15:00:00</th>\n",
              "      <td>2013-06-30 05:00</td>\n",
              "      <td>161.418</td>\n",
              "    </tr>\n",
              "    <tr>\n",
              "      <th>2013-06-30 16:00:00</th>\n",
              "      <td>2013-06-30 06:00</td>\n",
              "      <td>36.001</td>\n",
              "    </tr>\n",
              "    <tr>\n",
              "      <th>2013-06-30 17:00:00</th>\n",
              "      <td>2013-06-30 07:00</td>\n",
              "      <td>0.000</td>\n",
              "    </tr>\n",
              "    <tr>\n",
              "      <th>2013-06-30 18:00:00</th>\n",
              "      <td>2013-06-30 08:00</td>\n",
              "      <td>0.000</td>\n",
              "    </tr>\n",
              "    <tr>\n",
              "      <th>2013-06-30 19:00:00</th>\n",
              "      <td>2013-06-30 09:00</td>\n",
              "      <td>0.000</td>\n",
              "    </tr>\n",
              "    <tr>\n",
              "      <th>2013-06-30 20:00:00</th>\n",
              "      <td>2013-06-30 10:00</td>\n",
              "      <td>0.000</td>\n",
              "    </tr>\n",
              "    <tr>\n",
              "      <th>2013-06-30 21:00:00</th>\n",
              "      <td>2013-06-30 11:00</td>\n",
              "      <td>0.000</td>\n",
              "    </tr>\n",
              "    <tr>\n",
              "      <th>2013-06-30 22:00:00</th>\n",
              "      <td>2013-06-30 12:00</td>\n",
              "      <td>0.000</td>\n",
              "    </tr>\n",
              "    <tr>\n",
              "      <th>2013-06-30 23:00:00</th>\n",
              "      <td>2013-06-30 13:00</td>\n",
              "      <td>0.000</td>\n",
              "    </tr>\n",
              "  </tbody>\n",
              "</table>\n",
              "</div>"
            ],
            "text/plain": [
              "                                 time  radiation_surface\n",
              "local_time                                              \n",
              "2013-06-30 04:00:00  2013-06-29 18:00              0.000\n",
              "2013-06-30 05:00:00  2013-06-29 19:00              0.000\n",
              "2013-06-30 06:00:00  2013-06-29 20:00              0.000\n",
              "2013-06-30 07:00:00  2013-06-29 21:00             16.520\n",
              "2013-06-30 08:00:00  2013-06-29 22:00             82.227\n",
              "2013-06-30 09:00:00  2013-06-29 23:00            181.026\n",
              "2013-06-30 10:00:00  2013-06-30 00:00            284.155\n",
              "2013-06-30 11:00:00  2013-06-30 01:00            377.279\n",
              "2013-06-30 12:00:00  2013-06-30 02:00            423.853\n",
              "2013-06-30 13:00:00  2013-06-30 03:00            400.891\n",
              "2013-06-30 14:00:00  2013-06-30 04:00            305.821\n",
              "2013-06-30 15:00:00  2013-06-30 05:00            161.418\n",
              "2013-06-30 16:00:00  2013-06-30 06:00             36.001\n",
              "2013-06-30 17:00:00  2013-06-30 07:00              0.000\n",
              "2013-06-30 18:00:00  2013-06-30 08:00              0.000\n",
              "2013-06-30 19:00:00  2013-06-30 09:00              0.000\n",
              "2013-06-30 20:00:00  2013-06-30 10:00              0.000\n",
              "2013-06-30 21:00:00  2013-06-30 11:00              0.000\n",
              "2013-06-30 22:00:00  2013-06-30 12:00              0.000\n",
              "2013-06-30 23:00:00  2013-06-30 13:00              0.000"
            ]
          },
          "metadata": {},
          "execution_count": 8
        }
      ]
    },
    {
      "cell_type": "markdown",
      "metadata": {
        "id": "yfPnxnwgTYKa"
      },
      "source": [
        "#Visualization"
      ]
    },
    {
      "cell_type": "code",
      "metadata": {
        "colab": {
          "base_uri": "https://localhost:8080/"
        },
        "id": "P91HcFAiP0t8",
        "outputId": "cda13e6f-d91d-4b79-a7bb-fa0ada4f9430"
      },
      "source": [
        "irraidance = pd.DataFrame(irradiance)\n",
        "type(irradiance)"
      ],
      "execution_count": null,
      "outputs": [
        {
          "output_type": "execute_result",
          "data": {
            "text/plain": [
              "pandas.core.frame.DataFrame"
            ]
          },
          "metadata": {},
          "execution_count": 27
        }
      ]
    },
    {
      "cell_type": "code",
      "metadata": {
        "colab": {
          "base_uri": "https://localhost:8080/",
          "height": 235
        },
        "id": "gpanZr50PgNr",
        "outputId": "6121debb-0dcb-44f1-b841-4e6c03f6932a"
      },
      "source": [
        "irradiance[\"Hour\"] = irradiance.index.hour\n",
        "#irradiance[\"Month\"] = irradiance.index.month\n",
        "\n",
        "irradiance.head()"
      ],
      "execution_count": null,
      "outputs": [
        {
          "output_type": "execute_result",
          "data": {
            "text/html": [
              "<div>\n",
              "<style scoped>\n",
              "    .dataframe tbody tr th:only-of-type {\n",
              "        vertical-align: middle;\n",
              "    }\n",
              "\n",
              "    .dataframe tbody tr th {\n",
              "        vertical-align: top;\n",
              "    }\n",
              "\n",
              "    .dataframe thead th {\n",
              "        text-align: right;\n",
              "    }\n",
              "</style>\n",
              "<table border=\"1\" class=\"dataframe\">\n",
              "  <thead>\n",
              "    <tr style=\"text-align: right;\">\n",
              "      <th></th>\n",
              "      <th>time</th>\n",
              "      <th>radiation_surface</th>\n",
              "      <th>Hour</th>\n",
              "    </tr>\n",
              "    <tr>\n",
              "      <th>local_time</th>\n",
              "      <th></th>\n",
              "      <th></th>\n",
              "      <th></th>\n",
              "    </tr>\n",
              "  </thead>\n",
              "  <tbody>\n",
              "    <tr>\n",
              "      <th>2012-07-01 05:00:00</th>\n",
              "      <td>2012-06-30 19:00</td>\n",
              "      <td>0.000</td>\n",
              "      <td>5</td>\n",
              "    </tr>\n",
              "    <tr>\n",
              "      <th>2012-07-01 06:00:00</th>\n",
              "      <td>2012-06-30 20:00</td>\n",
              "      <td>0.000</td>\n",
              "      <td>6</td>\n",
              "    </tr>\n",
              "    <tr>\n",
              "      <th>2012-07-01 07:00:00</th>\n",
              "      <td>2012-06-30 21:00</td>\n",
              "      <td>53.377</td>\n",
              "      <td>7</td>\n",
              "    </tr>\n",
              "    <tr>\n",
              "      <th>2012-07-01 08:00:00</th>\n",
              "      <td>2012-06-30 22:00</td>\n",
              "      <td>210.825</td>\n",
              "      <td>8</td>\n",
              "    </tr>\n",
              "    <tr>\n",
              "      <th>2012-07-01 09:00:00</th>\n",
              "      <td>2012-06-30 23:00</td>\n",
              "      <td>362.929</td>\n",
              "      <td>9</td>\n",
              "    </tr>\n",
              "  </tbody>\n",
              "</table>\n",
              "</div>"
            ],
            "text/plain": [
              "                                 time  radiation_surface  Hour\n",
              "local_time                                                    \n",
              "2012-07-01 05:00:00  2012-06-30 19:00              0.000     5\n",
              "2012-07-01 06:00:00  2012-06-30 20:00              0.000     6\n",
              "2012-07-01 07:00:00  2012-06-30 21:00             53.377     7\n",
              "2012-07-01 08:00:00  2012-06-30 22:00            210.825     8\n",
              "2012-07-01 09:00:00  2012-06-30 23:00            362.929     9"
            ]
          },
          "metadata": {},
          "execution_count": 28
        }
      ]
    },
    {
      "cell_type": "code",
      "metadata": {
        "colab": {
          "base_uri": "https://localhost:8080/",
          "height": 282
        },
        "id": "DgTpeTukRs5G",
        "outputId": "6880a804-cc9d-41c3-e7bc-cd366d8ea7ff"
      },
      "source": [
        "import matplotlib.pyplot as plt\n",
        "\n",
        "irradiance_hour = irradiance.groupby(irradiance[\"Hour\"]).mean().plot(kind=\"bar\")\n",
        "plt.show(irradiance_hour)"
      ],
      "execution_count": null,
      "outputs": [
        {
          "output_type": "display_data",
          "data": {
            "image/png": "[encoded data removed]",
            "text/plain": [
              "<Figure size 432x288 with 1 Axes>"
            ]
          },
          "metadata": {
            "needs_background": "light"
          }
        }
      ]
    },
    {
      "cell_type": "code",
      "metadata": {
        "colab": {
          "base_uri": "https://localhost:8080/",
          "height": 282
        },
        "id": "A7zO7zMOkEnm",
        "outputId": "c4d1b40e-6f38-4c0f-c6ca-e52d45985864"
      },
      "source": [
        "irradiance_month= irradiance.groupby(irradiance[\"Month\"]).mean().plot(kind=\"bar\")\n",
        "plt.show(irradiance_month)"
      ],
      "execution_count": null,
      "outputs": [
        {
          "output_type": "display_data",
          "data": {
            "image/png": "[encoded data removed]",
            "text/plain": [
              "<Figure size 432x288 with 1 Axes>"
            ]
          },
          "metadata": {
            "needs_background": "light"
          }
        }
      ]
    },
    {
      "cell_type": "markdown",
      "source": [
        "#Save on drive as csv"
      ],
      "metadata": {
        "id": "sokE6pV5Q1Dy"
      }
    },
    {
      "cell_type": "code",
      "metadata": {
        "id": "SKLBsuTHW1e8"
      },
      "source": [
        "irradiance_csv_24h = irradiance.to_csv()\n",
        "with open (\"/content/drive/MyDrive/Master_thesis/Datasets/24h_irradiance_AUS(2012-2013).csv\", \"w\") as a:\n",
        "  a.write(irradiance_csv_24h)\n",
        "\n",
        "irradiance = irradiance.between_time('05:00','22:00') #local time between 5am and 10pm\n",
        "\n",
        "#save on drive as csv\n",
        "\n",
        "irradiance_csv = irradiance.to_csv()\n",
        "with open (\"/content/drive/MyDrive/Master_thesis/Datasets/irradiance_AUS(2012-2013).csv\", \"w\") as a:\n",
        "  a.write(irradiance_csv)"
      ],
      "execution_count": null,
      "outputs": []
    }
  ]
}