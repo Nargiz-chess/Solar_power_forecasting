{
  "nbformat": 4,
  "nbformat_minor": 0,
  "metadata": {
    "colab": {
      "name": "Moving_average_baseline.ipynb",
      "provenance": [],
      "include_colab_link": true
    },
    "kernelspec": {
      "name": "python3",
      "display_name": "Python 3"
    },
    "language_info": {
      "name": "python"
    }
  },
  "cells": [
    {
      "cell_type": "markdown",
      "metadata": {
        "id": "view-in-github",
        "colab_type": "text"
      },
      "source": [
        "<a href=\"https://colab.research.google.com/github/Nargiz-chess/Solar_power_forecasting/blob/main/Moving_average_baseline.ipynb\" target=\"_parent\"><img src=\"https://colab.research.google.com/assets/colab-badge.svg\" alt=\"Open In Colab\"/></a>"
      ]
    },
    {
      "cell_type": "code",
      "metadata": {
        "colab": {
          "base_uri": "https://localhost:8080/"
        },
        "id": "MAnEMj_c5mdC",
        "outputId": "4ee52e70-13a1-4a84-dd64-bbdde9650c0b"
      },
      "source": [
        "#Mount google drive\n",
        "from google.colab import drive\n",
        "drive.mount('/content/drive')\n",
        "\n",
        "from pandas import read_csv\n",
        "import pandas as pd\n",
        "import datetime as dt\n",
        "import matplotlib\n",
        "import numpy as np\n",
        "import matplotlib.pyplot as plt\n",
        "from sklearn.linear_model import LinearRegression\n",
        "from sklearn.model_selection import train_test_split\n",
        "from statistics import mean\n",
        "from sklearn import metrics\n",
        "from sklearn.metrics import mean_squared_error\n",
        "from sklearn.metrics import mean_absolute_error\n",
        "from math import sqrt\n",
        "import csv"
      ],
      "execution_count": null,
      "outputs": [
        {
          "output_type": "stream",
          "name": "stdout",
          "text": [
            "Mounted at /content/drive\n"
          ]
        }
      ]
    },
    {
      "cell_type": "code",
      "metadata": {
        "id": "gNhz9Ni_5uwY"
      },
      "source": [
        "path1 = '/content/drive/MyDrive/Master_thesis/Datasets/Australia_numpy_removed_night_hours.npy'\n",
        "path2 = '/content/drive/MyDrive/Master_thesis/Datasets/irradiance_AUS(2012-2013).csv'"
      ],
      "execution_count": null,
      "outputs": []
    },
    {
      "cell_type": "markdown",
      "metadata": {
        "id": "OtpeV9JrN-9j"
      },
      "source": [
        "#Parameters to change"
      ]
    },
    {
      "cell_type": "code",
      "metadata": {
        "id": "jl2WoYlWOE1w"
      },
      "source": [
        "test_size = 20\n",
        "n_house = test_size\n",
        "n_days = 5"
      ],
      "execution_count": null,
      "outputs": []
    },
    {
      "cell_type": "code",
      "metadata": {
        "colab": {
          "base_uri": "https://localhost:8080/"
        },
        "id": "Zr4ijr6VUn-i",
        "outputId": "cce698bd-4c5a-4827-8743-f1e35ccfcfee"
      },
      "source": [
        "weath_data=read_csv(path2, header =0, index_col=0) \n",
        "weath_data=weath_data.drop(\"time\", axis=1)\n",
        "weath_data=weath_data.values\n",
        "weath_data = weath_data.reshape(weath_data.shape[0]*weath_data.shape[1])\n",
        "weath_data.shape"
      ],
      "execution_count": null,
      "outputs": [
        {
          "output_type": "execute_result",
          "data": {
            "text/plain": [
              "(6570,)"
            ]
          },
          "metadata": {},
          "execution_count": 4
        }
      ]
    },
    {
      "cell_type": "code",
      "metadata": {
        "id": "bw6UTH0e5zJL",
        "colab": {
          "base_uri": "https://localhost:8080/"
        },
        "outputId": "c6cd977a-daa0-4ac3-8964-e4a6ebb3a946"
      },
      "source": [
        "np.random.seed(42)\n",
        "\n",
        "houses = np.loadtxt(path1)\n",
        "shuffle = np.arange(houses.shape[1])\n",
        "np.random.shuffle(shuffle)\n",
        "houses = houses[:,shuffle]\n",
        "houses.shape"
      ],
      "execution_count": null,
      "outputs": [
        {
          "output_type": "execute_result",
          "data": {
            "text/plain": [
              "(6570, 299)"
            ]
          },
          "metadata": {},
          "execution_count": 5
        }
      ]
    },
    {
      "cell_type": "code",
      "metadata": {
        "colab": {
          "base_uri": "https://localhost:8080/"
        },
        "id": "2c6BxRhofSBH",
        "outputId": "b5a25f66-ea8f-45df-f210-d596ee5f8ebf"
      },
      "source": [
        "print(shuffle)"
      ],
      "execution_count": null,
      "outputs": [
        {
          "output_type": "stream",
          "name": "stdout",
          "text": [
            "[281 265 164   9  77 278  93 109   5 173  97 195 184 154  57  60 147 108\n",
            "  63 140 155 104 247  46  42 275 280 116 213 236  17 239  33  24  45   7\n",
            " 113 194 111  92  75  82 118  76 129 197 210 288 219 178 144 186  84 248\n",
            " 277  73 244  25 209  59   6 183 185 146  30  22 254  56 237 285 126 228\n",
            " 283 255 158 225  78  66 296 192 181  19 170  79  90 132  72  15  10 157\n",
            " 224  68 222  37  16 119 268 269  67 101  69  31 172 148 223 114  18 179\n",
            "  96 165 291  86 246 143 231 124 139 152 204  55 232 182 180 137 251  38\n",
            " 125 193 167 203 112 264 117 282 273 221 176   2 115 177 175 120 208 259\n",
            " 127  74  29  83 261 107 287 245 250 294 230  65 196  85 211 159  12  35\n",
            "  28 142 229 279 168  51  95 206 218  41  89 215 136  26 292 141 198   0\n",
            " 267 271 100 258 253 171  98  36  61 150 234 200 240  11 295 266  27 242\n",
            "   4 122  32 202 162 226 256 138  62 135 128 289   8  70 263  64  44 233\n",
            " 156  40 123 274 216 153  23 260 110  81 207 212  39 238 290 284 199  14\n",
            "  47  94 262 227 272 201 161  43 217 145 190 220 249   3 105  53 133   1\n",
            " 131 103  49 163  80 205  34  91  52 241  13  88 166 293 134 286 243  54\n",
            "  50 174 189 297 187 169  58  48 235 252  21 160 276 191 257 149 130 151\n",
            "  99  87 214 121 298  20 188  71 106 270 102]\n"
          ]
        }
      ]
    },
    {
      "cell_type": "code",
      "metadata": {
        "colab": {
          "base_uri": "https://localhost:8080/"
        },
        "id": "d0HjTsje7_ry",
        "outputId": "33d73b1f-c69d-4b1c-e9e5-1fcc6cb7d334"
      },
      "source": [
        "test_houses = houses[:,-20:]\n",
        "print(\"Shape of test houses = \", test_houses.shape)"
      ],
      "execution_count": null,
      "outputs": [
        {
          "output_type": "stream",
          "name": "stdout",
          "text": [
            "Shape of test houses =  (6570, 20)\n"
          ]
        }
      ]
    },
    {
      "cell_type": "code",
      "metadata": {
        "colab": {
          "base_uri": "https://localhost:8080/"
        },
        "id": "fz5SWBYpruJ-",
        "outputId": "bbc5cf26-fe4e-42be-fdf5-48ca40f49772"
      },
      "source": [
        "from statsmodels.tsa.vector_ar.var_model import VAR\n",
        "from random import random\n",
        "\n",
        "n_day =1\n",
        "time_steps = 18\n",
        "n_lenght = n_day * time_steps\n",
        "\n",
        "all_predictions = list()\n",
        "\n",
        "for house in range(test_houses.shape[1]):\n",
        "  predictions = []\n",
        "  data = test_houses[:,house]\n",
        "\n",
        "  start = 0\n",
        "  end = n_lenght\n",
        "  for day in range(0,len(data)-n_lenght,time_steps):\n",
        "    sample = data[start:end]\n",
        "    sample = sample.reshape(n_day,time_steps)\n",
        "    avg = np.average(sample,axis = 0)\n",
        "    predictions.append(avg)\n",
        "\n",
        "    with open('/content/drive/MyDrive/Master_thesis/Results/Baseline/Average/Input='+str(n_lenght)+'house_num='+str(house)+'.csv','a') as nd:\n",
        "      write_n = csv.writer(nd)\n",
        "      write_n.writerow(avg)\n",
        "    \n",
        "    start += time_steps\n",
        "    end += time_steps\n",
        "  all_predictions.append(predictions)\n",
        "\n",
        "np.array(all_predictions).shape"
      ],
      "execution_count": null,
      "outputs": [
        {
          "output_type": "execute_result",
          "data": {
            "text/plain": [
              "(20, 364, 18)"
            ]
          },
          "metadata": {},
          "execution_count": 15
        }
      ]
    },
    {
      "cell_type": "markdown",
      "metadata": {
        "id": "FedPxkODXG9s"
      },
      "source": [
        "#Main Evaluation"
      ]
    },
    {
      "cell_type": "code",
      "metadata": {
        "id": "MPuRuD6-XODT",
        "colab": {
          "base_uri": "https://localhost:8080/"
        },
        "outputId": "dace07ab-2094-4e11-b302-2750eee75cf1"
      },
      "source": [
        "time_steps = 18\n",
        "n_lenght = n_day * time_steps\n",
        "\n",
        "# substract hours with input length from the beginning of the data\n",
        "data = test_houses[n_lenght:,:]\n",
        "from statistics import mean\n",
        "\n",
        "RMSEs = list()\n",
        "MAEs=list()\n",
        "\n",
        "for house in range(data.shape[1]):\n",
        "  actual_house = data[:,house]\n",
        "  path ='/content/drive/MyDrive/Master_thesis/Results/Baseline/Average/Input='+str(n_lenght)+'house_num='+str(house)+'.csv'\n",
        "  pred_house = read_csv(path,header=None)[:-1]\n",
        "  pred_house = np.array(pred_house)\n",
        "  #print(actual_house.shape,pred_house.shape)\n",
        "  \n",
        "  row_pred = 0\n",
        "  for hours in range(0,data.shape[0]-n_lenght,18):\n",
        "    actual =  actual_house[hours: 18+hours]\n",
        "    pred = pred_house[row_pred,:]\n",
        " \n",
        "    rmse = sqrt(mean_squared_error(actual,pred))\n",
        "    RMSEs.append(rmse)\n",
        "    mae= mean_absolute_error(actual,pred) \n",
        "    MAEs.append(mae)\n",
        "    row_pred+=1\n",
        "\n",
        "print(\"RMSE\",mean(RMSEs),\"Shape of RMSEs = \", np.array(RMSEs).shape)\n",
        "print(\"MAE\",mean(MAEs),\"Shape of MAEs = \", np.array(MAEs).shape)"
      ],
      "execution_count": null,
      "outputs": [
        {
          "output_type": "stream",
          "name": "stdout",
          "text": [
            "RMSE 0.20752998798833838 Shape of RMSEs =  (7260,)\n",
            "MAE 0.1260386516681971 Shape of MAEs =  (7260,)\n"
          ]
        }
      ]
    }
  ]
}