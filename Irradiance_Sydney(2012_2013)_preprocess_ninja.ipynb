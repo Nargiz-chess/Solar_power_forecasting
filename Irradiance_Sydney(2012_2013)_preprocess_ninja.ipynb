{
  "nbformat": 4,
  "nbformat_minor": 0,
  "metadata": {
    "colab": {
      "name": "Irradiance_Sydney(2012-2013)_preprocess_ninja.ipynb",
      "provenance": [],
      "collapsed_sections": [],
      "authorship_tag": "ABX9TyPb/n0vGqYRwlWMKw4J0xSb",
      "include_colab_link": true
    },
    "kernelspec": {
      "name": "python3",
      "display_name": "Python 3"
    },
    "language_info": {
      "name": "python"
    }
  },
  "cells": [
    {
      "cell_type": "markdown",
      "metadata": {
        "id": "view-in-github",
        "colab_type": "text"
      },
      "source": [
        "<a href=\"https://colab.research.google.com/github/Nargiz-chess/Solar_forecasting/blob/main/Irradiance_Sydney(2012_2013)_preprocess_ninja.ipynb\" target=\"_parent\"><img src=\"https://colab.research.google.com/assets/colab-badge.svg\" alt=\"Open In Colab\"/></a>"
      ]
    },
    {
      "cell_type": "code",
      "metadata": {
        "colab": {
          "base_uri": "https://localhost:8080/"
        },
        "id": "FCRnr1kDByDf",
        "outputId": "62aee53a-0e98-4356-84e7-fb6c55a8a0b9"
      },
      "source": [
        "#Mount google drive\n",
        "from google.colab import drive\n",
        "drive.mount('/content/drive')\n",
        "\n",
        "from pandas import read_csv\n",
        "import pandas as pd\n",
        "\n",
        "path1=  '/content/drive/MyDrive/Master_thesis/Datasets/Weather-renewables.ninja/ninja_weather_AUS_2011.csv'\n",
        "path2 = '/content/drive/MyDrive/Master_thesis/Datasets/Weather-renewables.ninja/ninja_weather_AUS_2012.csv'\n",
        "path3 = '/content/drive/MyDrive/Master_thesis/Datasets/Weather-renewables.ninja/ninja_weather_AUS_2013.csv'\n"
      ],
      "execution_count": null,
      "outputs": [
        {
          "output_type": "stream",
          "name": "stdout",
          "text": [
            "Drive already mounted at /content/drive; to attempt to forcibly remount, call drive.mount(\"/content/drive\", force_remount=True).\n"
          ]
        }
      ]
    },
    {
      "cell_type": "code",
      "metadata": {
        "colab": {
          "base_uri": "https://localhost:8080/"
        },
        "id": "uz_LmcOMB7mJ",
        "outputId": "37478fa5-85d5-4df1-d15c-905af4c5dfe4"
      },
      "source": [
        "ninja_2011 = read_csv(path1, header =3, index_col=1) # start from row 3 - remove previous rows because it is text, not an error \n",
        "ninja_2011.info()"
      ],
      "execution_count": null,
      "outputs": [
        {
          "output_type": "stream",
          "name": "stdout",
          "text": [
            "<class 'pandas.core.frame.DataFrame'>\n",
            "Index: 8760 entries, 2011-01-01 11:00 to 2012-01-01 10:00\n",
            "Data columns (total 2 columns):\n",
            " #   Column             Non-Null Count  Dtype  \n",
            "---  ------             --------------  -----  \n",
            " 0   time               8760 non-null   object \n",
            " 1   radiation_surface  8760 non-null   float64\n",
            "dtypes: float64(1), object(1)\n",
            "memory usage: 205.3+ KB\n"
          ]
        }
      ]
    },
    {
      "cell_type": "code",
      "metadata": {
        "colab": {
          "base_uri": "https://localhost:8080/",
          "height": 390
        },
        "id": "O5pxGDTtHD3e",
        "outputId": "73ff1791-1472-41af-9653-a1cffa003b42"
      },
      "source": [
        "ninja_2012 = read_csv(path2, header =3,index_col=1)\n",
        "ninja_2012.head(10)"
      ],
      "execution_count": null,
      "outputs": [
        {
          "output_type": "execute_result",
          "data": {
            "text/html": [
              "<div>\n",
              "<style scoped>\n",
              "    .dataframe tbody tr th:only-of-type {\n",
              "        vertical-align: middle;\n",
              "    }\n",
              "\n",
              "    .dataframe tbody tr th {\n",
              "        vertical-align: top;\n",
              "    }\n",
              "\n",
              "    .dataframe thead th {\n",
              "        text-align: right;\n",
              "    }\n",
              "</style>\n",
              "<table border=\"1\" class=\"dataframe\">\n",
              "  <thead>\n",
              "    <tr style=\"text-align: right;\">\n",
              "      <th></th>\n",
              "      <th>time</th>\n",
              "      <th>radiation_surface</th>\n",
              "    </tr>\n",
              "    <tr>\n",
              "      <th>local_time</th>\n",
              "      <th></th>\n",
              "      <th></th>\n",
              "    </tr>\n",
              "  </thead>\n",
              "  <tbody>\n",
              "    <tr>\n",
              "      <th>2012-01-01 11:00</th>\n",
              "      <td>2012-01-01 00:00</td>\n",
              "      <td>1041.517</td>\n",
              "    </tr>\n",
              "    <tr>\n",
              "      <th>2012-01-01 12:00</th>\n",
              "      <td>2012-01-01 01:00</td>\n",
              "      <td>1102.061</td>\n",
              "    </tr>\n",
              "    <tr>\n",
              "      <th>2012-01-01 13:00</th>\n",
              "      <td>2012-01-01 02:00</td>\n",
              "      <td>1097.361</td>\n",
              "    </tr>\n",
              "    <tr>\n",
              "      <th>2012-01-01 14:00</th>\n",
              "      <td>2012-01-01 03:00</td>\n",
              "      <td>1027.802</td>\n",
              "    </tr>\n",
              "    <tr>\n",
              "      <th>2012-01-01 15:00</th>\n",
              "      <td>2012-01-01 04:00</td>\n",
              "      <td>899.326</td>\n",
              "    </tr>\n",
              "    <tr>\n",
              "      <th>2012-01-01 16:00</th>\n",
              "      <td>2012-01-01 05:00</td>\n",
              "      <td>721.893</td>\n",
              "    </tr>\n",
              "    <tr>\n",
              "      <th>2012-01-01 17:00</th>\n",
              "      <td>2012-01-01 06:00</td>\n",
              "      <td>511.427</td>\n",
              "    </tr>\n",
              "    <tr>\n",
              "      <th>2012-01-01 18:00</th>\n",
              "      <td>2012-01-01 07:00</td>\n",
              "      <td>285.686</td>\n",
              "    </tr>\n",
              "    <tr>\n",
              "      <th>2012-01-01 19:00</th>\n",
              "      <td>2012-01-01 08:00</td>\n",
              "      <td>78.842</td>\n",
              "    </tr>\n",
              "    <tr>\n",
              "      <th>2012-01-01 20:00</th>\n",
              "      <td>2012-01-01 09:00</td>\n",
              "      <td>0.065</td>\n",
              "    </tr>\n",
              "  </tbody>\n",
              "</table>\n",
              "</div>"
            ],
            "text/plain": [
              "                              time  radiation_surface\n",
              "local_time                                           \n",
              "2012-01-01 11:00  2012-01-01 00:00           1041.517\n",
              "2012-01-01 12:00  2012-01-01 01:00           1102.061\n",
              "2012-01-01 13:00  2012-01-01 02:00           1097.361\n",
              "2012-01-01 14:00  2012-01-01 03:00           1027.802\n",
              "2012-01-01 15:00  2012-01-01 04:00            899.326\n",
              "2012-01-01 16:00  2012-01-01 05:00            721.893\n",
              "2012-01-01 17:00  2012-01-01 06:00            511.427\n",
              "2012-01-01 18:00  2012-01-01 07:00            285.686\n",
              "2012-01-01 19:00  2012-01-01 08:00             78.842\n",
              "2012-01-01 20:00  2012-01-01 09:00              0.065"
            ]
          },
          "metadata": {},
          "execution_count": 19
        }
      ]
    },
    {
      "cell_type": "code",
      "metadata": {
        "colab": {
          "base_uri": "https://localhost:8080/",
          "height": 390
        },
        "id": "chc6s9R69Hk4",
        "outputId": "6dc148d7-3d05-40a8-e7a6-c766ce348796"
      },
      "source": [
        "ninja_2013 = read_csv(path3, header =3,index_col=1)\n",
        "ninja_2013.head(10)"
      ],
      "execution_count": null,
      "outputs": [
        {
          "output_type": "execute_result",
          "data": {
            "text/html": [
              "<div>\n",
              "<style scoped>\n",
              "    .dataframe tbody tr th:only-of-type {\n",
              "        vertical-align: middle;\n",
              "    }\n",
              "\n",
              "    .dataframe tbody tr th {\n",
              "        vertical-align: top;\n",
              "    }\n",
              "\n",
              "    .dataframe thead th {\n",
              "        text-align: right;\n",
              "    }\n",
              "</style>\n",
              "<table border=\"1\" class=\"dataframe\">\n",
              "  <thead>\n",
              "    <tr style=\"text-align: right;\">\n",
              "      <th></th>\n",
              "      <th>time</th>\n",
              "      <th>radiation_surface</th>\n",
              "    </tr>\n",
              "    <tr>\n",
              "      <th>local_time</th>\n",
              "      <th></th>\n",
              "      <th></th>\n",
              "    </tr>\n",
              "  </thead>\n",
              "  <tbody>\n",
              "    <tr>\n",
              "      <th>2013-01-01 11:00</th>\n",
              "      <td>2013-01-01 00:00</td>\n",
              "      <td>1024.234</td>\n",
              "    </tr>\n",
              "    <tr>\n",
              "      <th>2013-01-01 12:00</th>\n",
              "      <td>2013-01-01 01:00</td>\n",
              "      <td>1084.880</td>\n",
              "    </tr>\n",
              "    <tr>\n",
              "      <th>2013-01-01 13:00</th>\n",
              "      <td>2013-01-01 02:00</td>\n",
              "      <td>1082.148</td>\n",
              "    </tr>\n",
              "    <tr>\n",
              "      <th>2013-01-01 14:00</th>\n",
              "      <td>2013-01-01 03:00</td>\n",
              "      <td>1015.586</td>\n",
              "    </tr>\n",
              "    <tr>\n",
              "      <th>2013-01-01 15:00</th>\n",
              "      <td>2013-01-01 04:00</td>\n",
              "      <td>889.572</td>\n",
              "    </tr>\n",
              "    <tr>\n",
              "      <th>2013-01-01 16:00</th>\n",
              "      <td>2013-01-01 05:00</td>\n",
              "      <td>715.241</td>\n",
              "    </tr>\n",
              "    <tr>\n",
              "      <th>2013-01-01 17:00</th>\n",
              "      <td>2013-01-01 06:00</td>\n",
              "      <td>506.267</td>\n",
              "    </tr>\n",
              "    <tr>\n",
              "      <th>2013-01-01 18:00</th>\n",
              "      <td>2013-01-01 07:00</td>\n",
              "      <td>282.117</td>\n",
              "    </tr>\n",
              "    <tr>\n",
              "      <th>2013-01-01 19:00</th>\n",
              "      <td>2013-01-01 08:00</td>\n",
              "      <td>77.085</td>\n",
              "    </tr>\n",
              "    <tr>\n",
              "      <th>2013-01-01 20:00</th>\n",
              "      <td>2013-01-01 09:00</td>\n",
              "      <td>0.062</td>\n",
              "    </tr>\n",
              "  </tbody>\n",
              "</table>\n",
              "</div>"
            ],
            "text/plain": [
              "                              time  radiation_surface\n",
              "local_time                                           \n",
              "2013-01-01 11:00  2013-01-01 00:00           1024.234\n",
              "2013-01-01 12:00  2013-01-01 01:00           1084.880\n",
              "2013-01-01 13:00  2013-01-01 02:00           1082.148\n",
              "2013-01-01 14:00  2013-01-01 03:00           1015.586\n",
              "2013-01-01 15:00  2013-01-01 04:00            889.572\n",
              "2013-01-01 16:00  2013-01-01 05:00            715.241\n",
              "2013-01-01 17:00  2013-01-01 06:00            506.267\n",
              "2013-01-01 18:00  2013-01-01 07:00            282.117\n",
              "2013-01-01 19:00  2013-01-01 08:00             77.085\n",
              "2013-01-01 20:00  2013-01-01 09:00              0.062"
            ]
          },
          "metadata": {},
          "execution_count": 20
        }
      ]
    },
    {
      "cell_type": "code",
      "metadata": {
        "id": "7FVx31ykH5Rt",
        "colab": {
          "base_uri": "https://localhost:8080/",
          "height": 388
        },
        "outputId": "6718840d-2b5e-4176-97a6-c164471d3053"
      },
      "source": [
        "#merge years\n",
        "\n",
        "combined = ninja_2011.append(ninja_2012)\n",
        "combined.info()\n",
        "\n",
        "combined.head()\n",
        "#combined.tail()\n",
        "\n"
      ],
      "execution_count": null,
      "outputs": [
        {
          "output_type": "stream",
          "name": "stdout",
          "text": [
            "<class 'pandas.core.frame.DataFrame'>\n",
            "Index: 17544 entries, 2011-01-01 11:00 to 2013-01-01 10:00\n",
            "Data columns (total 2 columns):\n",
            " #   Column             Non-Null Count  Dtype  \n",
            "---  ------             --------------  -----  \n",
            " 0   time               17544 non-null  object \n",
            " 1   radiation_surface  17544 non-null  float64\n",
            "dtypes: float64(1), object(1)\n",
            "memory usage: 411.2+ KB\n"
          ]
        },
        {
          "output_type": "execute_result",
          "data": {
            "text/html": [
              "<div>\n",
              "<style scoped>\n",
              "    .dataframe tbody tr th:only-of-type {\n",
              "        vertical-align: middle;\n",
              "    }\n",
              "\n",
              "    .dataframe tbody tr th {\n",
              "        vertical-align: top;\n",
              "    }\n",
              "\n",
              "    .dataframe thead th {\n",
              "        text-align: right;\n",
              "    }\n",
              "</style>\n",
              "<table border=\"1\" class=\"dataframe\">\n",
              "  <thead>\n",
              "    <tr style=\"text-align: right;\">\n",
              "      <th></th>\n",
              "      <th>time</th>\n",
              "      <th>radiation_surface</th>\n",
              "    </tr>\n",
              "    <tr>\n",
              "      <th>local_time</th>\n",
              "      <th></th>\n",
              "      <th></th>\n",
              "    </tr>\n",
              "  </thead>\n",
              "  <tbody>\n",
              "    <tr>\n",
              "      <th>2011-01-01 11:00</th>\n",
              "      <td>2011-01-01 00:00</td>\n",
              "      <td>1037.543</td>\n",
              "    </tr>\n",
              "    <tr>\n",
              "      <th>2011-01-01 12:00</th>\n",
              "      <td>2011-01-01 01:00</td>\n",
              "      <td>1099.101</td>\n",
              "    </tr>\n",
              "    <tr>\n",
              "      <th>2011-01-01 13:00</th>\n",
              "      <td>2011-01-01 02:00</td>\n",
              "      <td>1095.290</td>\n",
              "    </tr>\n",
              "    <tr>\n",
              "      <th>2011-01-01 14:00</th>\n",
              "      <td>2011-01-01 03:00</td>\n",
              "      <td>1026.531</td>\n",
              "    </tr>\n",
              "    <tr>\n",
              "      <th>2011-01-01 15:00</th>\n",
              "      <td>2011-01-01 04:00</td>\n",
              "      <td>898.085</td>\n",
              "    </tr>\n",
              "  </tbody>\n",
              "</table>\n",
              "</div>"
            ],
            "text/plain": [
              "                              time  radiation_surface\n",
              "local_time                                           \n",
              "2011-01-01 11:00  2011-01-01 00:00           1037.543\n",
              "2011-01-01 12:00  2011-01-01 01:00           1099.101\n",
              "2011-01-01 13:00  2011-01-01 02:00           1095.290\n",
              "2011-01-01 14:00  2011-01-01 03:00           1026.531\n",
              "2011-01-01 15:00  2011-01-01 04:00            898.085"
            ]
          },
          "metadata": {},
          "execution_count": 21
        }
      ]
    },
    {
      "cell_type": "code",
      "metadata": {
        "colab": {
          "base_uri": "https://localhost:8080/"
        },
        "id": "zpiYFy0R9Zid",
        "outputId": "d3b23e67-6ebf-4146-eaed-c76a4b66bd30"
      },
      "source": [
        "combined_full = combined.append(ninja_2013)\n",
        "combined_full.info()"
      ],
      "execution_count": null,
      "outputs": [
        {
          "output_type": "stream",
          "name": "stdout",
          "text": [
            "<class 'pandas.core.frame.DataFrame'>\n",
            "Index: 26304 entries, 2011-01-01 11:00 to 2014-01-01 10:00\n",
            "Data columns (total 2 columns):\n",
            " #   Column             Non-Null Count  Dtype  \n",
            "---  ------             --------------  -----  \n",
            " 0   time               26304 non-null  object \n",
            " 1   radiation_surface  26304 non-null  float64\n",
            "dtypes: float64(1), object(1)\n",
            "memory usage: 616.5+ KB\n"
          ]
        }
      ]
    },
    {
      "cell_type": "code",
      "metadata": {
        "id": "bktKg9J4Lzj8"
      },
      "source": [
        "combined_full.index = pd.to_datetime(combined_full.index) "
      ],
      "execution_count": null,
      "outputs": []
    },
    {
      "cell_type": "code",
      "metadata": {
        "colab": {
          "base_uri": "https://localhost:8080/",
          "height": 700
        },
        "id": "Ta2YXnPyMPKy",
        "outputId": "f66e0370-483e-4f50-bd95-b2814390bf04"
      },
      "source": [
        "irradiance = combined_full.loc['2012-07-01 00:00' : '2013-06-30 23:00']\n",
        "\n",
        "irradiance.head()\n",
        "irradiance.tail(20)"
      ],
      "execution_count": null,
      "outputs": [
        {
          "output_type": "execute_result",
          "data": {
            "text/html": [
              "<div>\n",
              "<style scoped>\n",
              "    .dataframe tbody tr th:only-of-type {\n",
              "        vertical-align: middle;\n",
              "    }\n",
              "\n",
              "    .dataframe tbody tr th {\n",
              "        vertical-align: top;\n",
              "    }\n",
              "\n",
              "    .dataframe thead th {\n",
              "        text-align: right;\n",
              "    }\n",
              "</style>\n",
              "<table border=\"1\" class=\"dataframe\">\n",
              "  <thead>\n",
              "    <tr style=\"text-align: right;\">\n",
              "      <th></th>\n",
              "      <th>time</th>\n",
              "      <th>radiation_surface</th>\n",
              "    </tr>\n",
              "    <tr>\n",
              "      <th>local_time</th>\n",
              "      <th></th>\n",
              "      <th></th>\n",
              "    </tr>\n",
              "  </thead>\n",
              "  <tbody>\n",
              "    <tr>\n",
              "      <th>2013-06-30 04:00:00</th>\n",
              "      <td>2013-06-29 18:00</td>\n",
              "      <td>0.000</td>\n",
              "    </tr>\n",
              "    <tr>\n",
              "      <th>2013-06-30 05:00:00</th>\n",
              "      <td>2013-06-29 19:00</td>\n",
              "      <td>0.000</td>\n",
              "    </tr>\n",
              "    <tr>\n",
              "      <th>2013-06-30 06:00:00</th>\n",
              "      <td>2013-06-29 20:00</td>\n",
              "      <td>0.000</td>\n",
              "    </tr>\n",
              "    <tr>\n",
              "      <th>2013-06-30 07:00:00</th>\n",
              "      <td>2013-06-29 21:00</td>\n",
              "      <td>16.520</td>\n",
              "    </tr>\n",
              "    <tr>\n",
              "      <th>2013-06-30 08:00:00</th>\n",
              "      <td>2013-06-29 22:00</td>\n",
              "      <td>82.227</td>\n",
              "    </tr>\n",
              "    <tr>\n",
              "      <th>2013-06-30 09:00:00</th>\n",
              "      <td>2013-06-29 23:00</td>\n",
              "      <td>181.026</td>\n",
              "    </tr>\n",
              "    <tr>\n",
              "      <th>2013-06-30 10:00:00</th>\n",
              "      <td>2013-06-30 00:00</td>\n",
              "      <td>284.155</td>\n",
              "    </tr>\n",
              "    <tr>\n",
              "      <th>2013-06-30 11:00:00</th>\n",
              "      <td>2013-06-30 01:00</td>\n",
              "      <td>377.279</td>\n",
              "    </tr>\n",
              "    <tr>\n",
              "      <th>2013-06-30 12:00:00</th>\n",
              "      <td>2013-06-30 02:00</td>\n",
              "      <td>423.853</td>\n",
              "    </tr>\n",
              "    <tr>\n",
              "      <th>2013-06-30 13:00:00</th>\n",
              "      <td>2013-06-30 03:00</td>\n",
              "      <td>400.891</td>\n",
              "    </tr>\n",
              "    <tr>\n",
              "      <th>2013-06-30 14:00:00</th>\n",
              "      <td>2013-06-30 04:00</td>\n",
              "      <td>305.821</td>\n",
              "    </tr>\n",
              "    <tr>\n",
              "      <th>2013-06-30 15:00:00</th>\n",
              "      <td>2013-06-30 05:00</td>\n",
              "      <td>161.418</td>\n",
              "    </tr>\n",
              "    <tr>\n",
              "      <th>2013-06-30 16:00:00</th>\n",
              "      <td>2013-06-30 06:00</td>\n",
              "      <td>36.001</td>\n",
              "    </tr>\n",
              "    <tr>\n",
              "      <th>2013-06-30 17:00:00</th>\n",
              "      <td>2013-06-30 07:00</td>\n",
              "      <td>0.000</td>\n",
              "    </tr>\n",
              "    <tr>\n",
              "      <th>2013-06-30 18:00:00</th>\n",
              "      <td>2013-06-30 08:00</td>\n",
              "      <td>0.000</td>\n",
              "    </tr>\n",
              "    <tr>\n",
              "      <th>2013-06-30 19:00:00</th>\n",
              "      <td>2013-06-30 09:00</td>\n",
              "      <td>0.000</td>\n",
              "    </tr>\n",
              "    <tr>\n",
              "      <th>2013-06-30 20:00:00</th>\n",
              "      <td>2013-06-30 10:00</td>\n",
              "      <td>0.000</td>\n",
              "    </tr>\n",
              "    <tr>\n",
              "      <th>2013-06-30 21:00:00</th>\n",
              "      <td>2013-06-30 11:00</td>\n",
              "      <td>0.000</td>\n",
              "    </tr>\n",
              "    <tr>\n",
              "      <th>2013-06-30 22:00:00</th>\n",
              "      <td>2013-06-30 12:00</td>\n",
              "      <td>0.000</td>\n",
              "    </tr>\n",
              "    <tr>\n",
              "      <th>2013-06-30 23:00:00</th>\n",
              "      <td>2013-06-30 13:00</td>\n",
              "      <td>0.000</td>\n",
              "    </tr>\n",
              "  </tbody>\n",
              "</table>\n",
              "</div>"
            ],
            "text/plain": [
              "                                 time  radiation_surface\n",
              "local_time                                              \n",
              "2013-06-30 04:00:00  2013-06-29 18:00              0.000\n",
              "2013-06-30 05:00:00  2013-06-29 19:00              0.000\n",
              "2013-06-30 06:00:00  2013-06-29 20:00              0.000\n",
              "2013-06-30 07:00:00  2013-06-29 21:00             16.520\n",
              "2013-06-30 08:00:00  2013-06-29 22:00             82.227\n",
              "2013-06-30 09:00:00  2013-06-29 23:00            181.026\n",
              "2013-06-30 10:00:00  2013-06-30 00:00            284.155\n",
              "2013-06-30 11:00:00  2013-06-30 01:00            377.279\n",
              "2013-06-30 12:00:00  2013-06-30 02:00            423.853\n",
              "2013-06-30 13:00:00  2013-06-30 03:00            400.891\n",
              "2013-06-30 14:00:00  2013-06-30 04:00            305.821\n",
              "2013-06-30 15:00:00  2013-06-30 05:00            161.418\n",
              "2013-06-30 16:00:00  2013-06-30 06:00             36.001\n",
              "2013-06-30 17:00:00  2013-06-30 07:00              0.000\n",
              "2013-06-30 18:00:00  2013-06-30 08:00              0.000\n",
              "2013-06-30 19:00:00  2013-06-30 09:00              0.000\n",
              "2013-06-30 20:00:00  2013-06-30 10:00              0.000\n",
              "2013-06-30 21:00:00  2013-06-30 11:00              0.000\n",
              "2013-06-30 22:00:00  2013-06-30 12:00              0.000\n",
              "2013-06-30 23:00:00  2013-06-30 13:00              0.000"
            ]
          },
          "metadata": {},
          "execution_count": 28
        }
      ]
    },
    {
      "cell_type": "code",
      "metadata": {
        "id": "jxB1MWYnOW4g"
      },
      "source": [
        "irradiance = irradiance.between_time('05:00','22:00') #local time between 5am and 10pm"
      ],
      "execution_count": null,
      "outputs": []
    },
    {
      "cell_type": "code",
      "metadata": {
        "id": "wmd9IqcTTPb5"
      },
      "source": [
        "#save on drive as csv\n",
        "\n",
        "irradiance_csv = irradiance.to_csv()\n",
        "with open (\"/content/drive/MyDrive/Master_thesis/Datasets/irradiance_AUS(2012-2013).csv\", \"w\") as a:\n",
        "  a.write(irradiance_csv)"
      ],
      "execution_count": null,
      "outputs": []
    },
    {
      "cell_type": "markdown",
      "metadata": {
        "id": "yfPnxnwgTYKa"
      },
      "source": [
        "#Visualization"
      ]
    },
    {
      "cell_type": "code",
      "metadata": {
        "colab": {
          "base_uri": "https://localhost:8080/"
        },
        "id": "P91HcFAiP0t8",
        "outputId": "cdba40d2-fda8-4181-914c-560f3f8e7f57"
      },
      "source": [
        "irraidance = pd.DataFrame(irradiance)\n",
        "type(irradiance)"
      ],
      "execution_count": null,
      "outputs": [
        {
          "output_type": "execute_result",
          "data": {
            "text/plain": [
              "pandas.core.frame.DataFrame"
            ]
          },
          "metadata": {},
          "execution_count": 31
        }
      ]
    },
    {
      "cell_type": "code",
      "metadata": {
        "colab": {
          "base_uri": "https://localhost:8080/",
          "height": 235
        },
        "id": "gpanZr50PgNr",
        "outputId": "e3254cf2-2090-480e-f907-e61ef9fd666e"
      },
      "source": [
        "irradiance[\"Hour\"] = irradiance.index.hour\n",
        "irradiance[\"Month\"] = irradiance.index.month\n",
        "\n",
        "irradiance.head()"
      ],
      "execution_count": null,
      "outputs": [
        {
          "output_type": "execute_result",
          "data": {
            "text/html": [
              "<div>\n",
              "<style scoped>\n",
              "    .dataframe tbody tr th:only-of-type {\n",
              "        vertical-align: middle;\n",
              "    }\n",
              "\n",
              "    .dataframe tbody tr th {\n",
              "        vertical-align: top;\n",
              "    }\n",
              "\n",
              "    .dataframe thead th {\n",
              "        text-align: right;\n",
              "    }\n",
              "</style>\n",
              "<table border=\"1\" class=\"dataframe\">\n",
              "  <thead>\n",
              "    <tr style=\"text-align: right;\">\n",
              "      <th></th>\n",
              "      <th>time</th>\n",
              "      <th>radiation_surface</th>\n",
              "      <th>Hour</th>\n",
              "      <th>Month</th>\n",
              "    </tr>\n",
              "    <tr>\n",
              "      <th>local_time</th>\n",
              "      <th></th>\n",
              "      <th></th>\n",
              "      <th></th>\n",
              "      <th></th>\n",
              "    </tr>\n",
              "  </thead>\n",
              "  <tbody>\n",
              "    <tr>\n",
              "      <th>2012-07-01 05:00:00</th>\n",
              "      <td>2012-06-30 19:00</td>\n",
              "      <td>0.000</td>\n",
              "      <td>5</td>\n",
              "      <td>7</td>\n",
              "    </tr>\n",
              "    <tr>\n",
              "      <th>2012-07-01 06:00:00</th>\n",
              "      <td>2012-06-30 20:00</td>\n",
              "      <td>0.000</td>\n",
              "      <td>6</td>\n",
              "      <td>7</td>\n",
              "    </tr>\n",
              "    <tr>\n",
              "      <th>2012-07-01 07:00:00</th>\n",
              "      <td>2012-06-30 21:00</td>\n",
              "      <td>53.377</td>\n",
              "      <td>7</td>\n",
              "      <td>7</td>\n",
              "    </tr>\n",
              "    <tr>\n",
              "      <th>2012-07-01 08:00:00</th>\n",
              "      <td>2012-06-30 22:00</td>\n",
              "      <td>210.825</td>\n",
              "      <td>8</td>\n",
              "      <td>7</td>\n",
              "    </tr>\n",
              "    <tr>\n",
              "      <th>2012-07-01 09:00:00</th>\n",
              "      <td>2012-06-30 23:00</td>\n",
              "      <td>362.929</td>\n",
              "      <td>9</td>\n",
              "      <td>7</td>\n",
              "    </tr>\n",
              "  </tbody>\n",
              "</table>\n",
              "</div>"
            ],
            "text/plain": [
              "                                 time  radiation_surface  Hour  Month\n",
              "local_time                                                           \n",
              "2012-07-01 05:00:00  2012-06-30 19:00              0.000     5      7\n",
              "2012-07-01 06:00:00  2012-06-30 20:00              0.000     6      7\n",
              "2012-07-01 07:00:00  2012-06-30 21:00             53.377     7      7\n",
              "2012-07-01 08:00:00  2012-06-30 22:00            210.825     8      7\n",
              "2012-07-01 09:00:00  2012-06-30 23:00            362.929     9      7"
            ]
          },
          "metadata": {},
          "execution_count": 32
        }
      ]
    },
    {
      "cell_type": "code",
      "metadata": {
        "colab": {
          "base_uri": "https://localhost:8080/",
          "height": 282
        },
        "id": "DgTpeTukRs5G",
        "outputId": "88aec877-7bd4-410d-afbf-a305b4f18415"
      },
      "source": [
        "import matplotlib.pyplot as plt\n",
        "\n",
        "irradiance_hour = irradiance.groupby(irradiance[\"Hour\"]).mean().plot(kind=\"bar\")\n",
        "plt.show(irradiance_hour)"
      ],
      "execution_count": null,
      "outputs": [
        {
          "output_type": "display_data",
          "data": {
            "image/png": "[encoded data removed]",
            "text/plain": [
              "<Figure size 432x288 with 1 Axes>"
            ]
          },
          "metadata": {
            "needs_background": "light"
          }
        }
      ]
    },
    {
      "cell_type": "code",
      "metadata": {
        "colab": {
          "base_uri": "https://localhost:8080/",
          "height": 282
        },
        "id": "A7zO7zMOkEnm",
        "outputId": "646f4819-c394-4013-d8c3-f359fb5b0bbe"
      },
      "source": [
        "irradiance_month= irradiance.groupby(irradiance[\"Month\"]).mean().plot(kind=\"bar\")\n",
        "plt.show(irradiance_hour)"
      ],
      "execution_count": null,
      "outputs": [
        {
          "output_type": "display_data",
          "data": {
            "image/png": "[encoded data removed]",
            "text/plain": [
              "<Figure size 432x288 with 1 Axes>"
            ]
          },
          "metadata": {
            "needs_background": "light"
          }
        }
      ]
    }
  ]
}