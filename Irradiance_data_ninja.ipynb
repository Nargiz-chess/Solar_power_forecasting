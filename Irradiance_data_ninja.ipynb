{
  "nbformat": 4,
  "nbformat_minor": 0,
  "metadata": {
    "colab": {
      "name": "Irradiance data_ninja",
      "provenance": [],
      "collapsed_sections": []
    },
    "kernelspec": {
      "name": "python3",
      "display_name": "Python 3"
    },
    "language_info": {
      "name": "python"
    }
  },
  "cells": [
    {
      "cell_type": "code",
      "metadata": {
        "colab": {
          "base_uri": "https://localhost:8080/"
        },
        "id": "FCRnr1kDByDf",
        "outputId": "effea1b5-7d1e-4f60-87d9-478c3b7ad4c0"
      },
      "source": [
        "#Mount google drive\n",
        "from google.colab import drive\n",
        "drive.mount('/content/drive')\n",
        "\n",
        "from pandas import read_csv\n",
        "import pandas as pd\n",
        "\n",
        "path1 = '/content/drive/MyDrive/Master_thesis/Weather-renewables.ninja/ninja_weather_47.6592_9.1751_uncorrected.csv'\n",
        "path2 = '/content/drive/MyDrive/Master_thesis/Weather-renewables.ninja/ninja_weather_47.6592_9.1751_uncorrected-3.csv'\n",
        "path3 =  '/content/drive/MyDrive/Master_thesis/Weather-renewables.ninja/ninja_weather_47.6592_9.1751_uncorrected-2.csv'"
      ],
      "execution_count": 1,
      "outputs": [
        {
          "output_type": "stream",
          "name": "stdout",
          "text": [
            "Mounted at /content/drive\n"
          ]
        }
      ]
    },
    {
      "cell_type": "code",
      "metadata": {
        "colab": {
          "base_uri": "https://localhost:8080/"
        },
        "id": "uz_LmcOMB7mJ",
        "outputId": "7fdb1649-3a43-4ec2-f2d0-96ce83d026da"
      },
      "source": [
        "ninja_2016 = read_csv(path1, header =3, index_col=0) # start from row 3 - remove previous rows because it is text, not an error \n",
        "#weather_2016.head(10)\n",
        "\n",
        "ninja_2016.info()"
      ],
      "execution_count": 2,
      "outputs": [
        {
          "output_type": "stream",
          "name": "stdout",
          "text": [
            "<class 'pandas.core.frame.DataFrame'>\n",
            "Index: 8784 entries, 2016-01-01 00:00 to 2016-12-31 23:00\n",
            "Data columns (total 2 columns):\n",
            " #   Column             Non-Null Count  Dtype  \n",
            "---  ------             --------------  -----  \n",
            " 0   local_time         8784 non-null   object \n",
            " 1   radiation_surface  8784 non-null   float64\n",
            "dtypes: float64(1), object(1)\n",
            "memory usage: 205.9+ KB\n"
          ]
        }
      ]
    },
    {
      "cell_type": "code",
      "metadata": {
        "colab": {
          "base_uri": "https://localhost:8080/",
          "height": 390
        },
        "id": "O5pxGDTtHD3e",
        "outputId": "44ab4047-5cd2-4891-b20c-512157abd048"
      },
      "source": [
        "ninja_2017 = read_csv(path3, header =3,index_col=0)\n",
        "ninja_2017.head(10)"
      ],
      "execution_count": 3,
      "outputs": [
        {
          "output_type": "execute_result",
          "data": {
            "text/html": [
              "<div>\n",
              "<style scoped>\n",
              "    .dataframe tbody tr th:only-of-type {\n",
              "        vertical-align: middle;\n",
              "    }\n",
              "\n",
              "    .dataframe tbody tr th {\n",
              "        vertical-align: top;\n",
              "    }\n",
              "\n",
              "    .dataframe thead th {\n",
              "        text-align: right;\n",
              "    }\n",
              "</style>\n",
              "<table border=\"1\" class=\"dataframe\">\n",
              "  <thead>\n",
              "    <tr style=\"text-align: right;\">\n",
              "      <th></th>\n",
              "      <th>local_time</th>\n",
              "      <th>radiation_surface</th>\n",
              "    </tr>\n",
              "    <tr>\n",
              "      <th>time</th>\n",
              "      <th></th>\n",
              "      <th></th>\n",
              "    </tr>\n",
              "  </thead>\n",
              "  <tbody>\n",
              "    <tr>\n",
              "      <th>2017-01-01 00:00</th>\n",
              "      <td>2017-01-01 01:00</td>\n",
              "      <td>0.000</td>\n",
              "    </tr>\n",
              "    <tr>\n",
              "      <th>2017-01-01 01:00</th>\n",
              "      <td>2017-01-01 02:00</td>\n",
              "      <td>0.000</td>\n",
              "    </tr>\n",
              "    <tr>\n",
              "      <th>2017-01-01 02:00</th>\n",
              "      <td>2017-01-01 03:00</td>\n",
              "      <td>0.000</td>\n",
              "    </tr>\n",
              "    <tr>\n",
              "      <th>2017-01-01 03:00</th>\n",
              "      <td>2017-01-01 04:00</td>\n",
              "      <td>0.000</td>\n",
              "    </tr>\n",
              "    <tr>\n",
              "      <th>2017-01-01 04:00</th>\n",
              "      <td>2017-01-01 05:00</td>\n",
              "      <td>0.000</td>\n",
              "    </tr>\n",
              "    <tr>\n",
              "      <th>2017-01-01 05:00</th>\n",
              "      <td>2017-01-01 06:00</td>\n",
              "      <td>0.000</td>\n",
              "    </tr>\n",
              "    <tr>\n",
              "      <th>2017-01-01 06:00</th>\n",
              "      <td>2017-01-01 07:00</td>\n",
              "      <td>0.000</td>\n",
              "    </tr>\n",
              "    <tr>\n",
              "      <th>2017-01-01 07:00</th>\n",
              "      <td>2017-01-01 08:00</td>\n",
              "      <td>27.348</td>\n",
              "    </tr>\n",
              "    <tr>\n",
              "      <th>2017-01-01 08:00</th>\n",
              "      <td>2017-01-01 09:00</td>\n",
              "      <td>142.571</td>\n",
              "    </tr>\n",
              "    <tr>\n",
              "      <th>2017-01-01 09:00</th>\n",
              "      <td>2017-01-01 10:00</td>\n",
              "      <td>250.948</td>\n",
              "    </tr>\n",
              "  </tbody>\n",
              "</table>\n",
              "</div>"
            ],
            "text/plain": [
              "                        local_time  radiation_surface\n",
              "time                                                 \n",
              "2017-01-01 00:00  2017-01-01 01:00              0.000\n",
              "2017-01-01 01:00  2017-01-01 02:00              0.000\n",
              "2017-01-01 02:00  2017-01-01 03:00              0.000\n",
              "2017-01-01 03:00  2017-01-01 04:00              0.000\n",
              "2017-01-01 04:00  2017-01-01 05:00              0.000\n",
              "2017-01-01 05:00  2017-01-01 06:00              0.000\n",
              "2017-01-01 06:00  2017-01-01 07:00              0.000\n",
              "2017-01-01 07:00  2017-01-01 08:00             27.348\n",
              "2017-01-01 08:00  2017-01-01 09:00            142.571\n",
              "2017-01-01 09:00  2017-01-01 10:00            250.948"
            ]
          },
          "metadata": {},
          "execution_count": 3
        }
      ]
    },
    {
      "cell_type": "code",
      "metadata": {
        "colab": {
          "base_uri": "https://localhost:8080/",
          "height": 390
        },
        "id": "7enw0bLJGqRX",
        "outputId": "4d694aef-c892-4437-9843-117f47c05b2f"
      },
      "source": [
        "ninja_2018 = read_csv(path2, header =3, index_col=0)\n",
        "ninja_2018.head(10)\n",
        "\n"
      ],
      "execution_count": 4,
      "outputs": [
        {
          "output_type": "execute_result",
          "data": {
            "text/html": [
              "<div>\n",
              "<style scoped>\n",
              "    .dataframe tbody tr th:only-of-type {\n",
              "        vertical-align: middle;\n",
              "    }\n",
              "\n",
              "    .dataframe tbody tr th {\n",
              "        vertical-align: top;\n",
              "    }\n",
              "\n",
              "    .dataframe thead th {\n",
              "        text-align: right;\n",
              "    }\n",
              "</style>\n",
              "<table border=\"1\" class=\"dataframe\">\n",
              "  <thead>\n",
              "    <tr style=\"text-align: right;\">\n",
              "      <th></th>\n",
              "      <th>local_time</th>\n",
              "      <th>radiation_surface</th>\n",
              "    </tr>\n",
              "    <tr>\n",
              "      <th>time</th>\n",
              "      <th></th>\n",
              "      <th></th>\n",
              "    </tr>\n",
              "  </thead>\n",
              "  <tbody>\n",
              "    <tr>\n",
              "      <th>2018-01-01 00:00</th>\n",
              "      <td>2018-01-01 01:00</td>\n",
              "      <td>0.000</td>\n",
              "    </tr>\n",
              "    <tr>\n",
              "      <th>2018-01-01 01:00</th>\n",
              "      <td>2018-01-01 02:00</td>\n",
              "      <td>0.000</td>\n",
              "    </tr>\n",
              "    <tr>\n",
              "      <th>2018-01-01 02:00</th>\n",
              "      <td>2018-01-01 03:00</td>\n",
              "      <td>0.000</td>\n",
              "    </tr>\n",
              "    <tr>\n",
              "      <th>2018-01-01 03:00</th>\n",
              "      <td>2018-01-01 04:00</td>\n",
              "      <td>0.000</td>\n",
              "    </tr>\n",
              "    <tr>\n",
              "      <th>2018-01-01 04:00</th>\n",
              "      <td>2018-01-01 05:00</td>\n",
              "      <td>0.000</td>\n",
              "    </tr>\n",
              "    <tr>\n",
              "      <th>2018-01-01 05:00</th>\n",
              "      <td>2018-01-01 06:00</td>\n",
              "      <td>0.000</td>\n",
              "    </tr>\n",
              "    <tr>\n",
              "      <th>2018-01-01 06:00</th>\n",
              "      <td>2018-01-01 07:00</td>\n",
              "      <td>0.000</td>\n",
              "    </tr>\n",
              "    <tr>\n",
              "      <th>2018-01-01 07:00</th>\n",
              "      <td>2018-01-01 08:00</td>\n",
              "      <td>8.045</td>\n",
              "    </tr>\n",
              "    <tr>\n",
              "      <th>2018-01-01 08:00</th>\n",
              "      <td>2018-01-01 09:00</td>\n",
              "      <td>62.199</td>\n",
              "    </tr>\n",
              "    <tr>\n",
              "      <th>2018-01-01 09:00</th>\n",
              "      <td>2018-01-01 10:00</td>\n",
              "      <td>175.185</td>\n",
              "    </tr>\n",
              "  </tbody>\n",
              "</table>\n",
              "</div>"
            ],
            "text/plain": [
              "                        local_time  radiation_surface\n",
              "time                                                 \n",
              "2018-01-01 00:00  2018-01-01 01:00              0.000\n",
              "2018-01-01 01:00  2018-01-01 02:00              0.000\n",
              "2018-01-01 02:00  2018-01-01 03:00              0.000\n",
              "2018-01-01 03:00  2018-01-01 04:00              0.000\n",
              "2018-01-01 04:00  2018-01-01 05:00              0.000\n",
              "2018-01-01 05:00  2018-01-01 06:00              0.000\n",
              "2018-01-01 06:00  2018-01-01 07:00              0.000\n",
              "2018-01-01 07:00  2018-01-01 08:00              8.045\n",
              "2018-01-01 08:00  2018-01-01 09:00             62.199\n",
              "2018-01-01 09:00  2018-01-01 10:00            175.185"
            ]
          },
          "metadata": {},
          "execution_count": 4
        }
      ]
    },
    {
      "cell_type": "code",
      "metadata": {
        "colab": {
          "base_uri": "https://localhost:8080/",
          "height": 235
        },
        "id": "7FVx31ykH5Rt",
        "outputId": "884eb06a-d5c9-445f-dd15-27bf80f60359"
      },
      "source": [
        "#merge years\n",
        "\n",
        "combined = ninja_2016.append(ninja_2017)\n",
        "combined_full = combined.append(ninja_2018)\n",
        "\n",
        "\n",
        "combined_full.head()\n",
        "#combined_full.tail()\n",
        "# combined.info()\n",
        "# combined_full.info()\n"
      ],
      "execution_count": 5,
      "outputs": [
        {
          "output_type": "execute_result",
          "data": {
            "text/html": [
              "<div>\n",
              "<style scoped>\n",
              "    .dataframe tbody tr th:only-of-type {\n",
              "        vertical-align: middle;\n",
              "    }\n",
              "\n",
              "    .dataframe tbody tr th {\n",
              "        vertical-align: top;\n",
              "    }\n",
              "\n",
              "    .dataframe thead th {\n",
              "        text-align: right;\n",
              "    }\n",
              "</style>\n",
              "<table border=\"1\" class=\"dataframe\">\n",
              "  <thead>\n",
              "    <tr style=\"text-align: right;\">\n",
              "      <th></th>\n",
              "      <th>local_time</th>\n",
              "      <th>radiation_surface</th>\n",
              "    </tr>\n",
              "    <tr>\n",
              "      <th>time</th>\n",
              "      <th></th>\n",
              "      <th></th>\n",
              "    </tr>\n",
              "  </thead>\n",
              "  <tbody>\n",
              "    <tr>\n",
              "      <th>2016-01-01 00:00</th>\n",
              "      <td>2016-01-01 01:00</td>\n",
              "      <td>0.0</td>\n",
              "    </tr>\n",
              "    <tr>\n",
              "      <th>2016-01-01 01:00</th>\n",
              "      <td>2016-01-01 02:00</td>\n",
              "      <td>0.0</td>\n",
              "    </tr>\n",
              "    <tr>\n",
              "      <th>2016-01-01 02:00</th>\n",
              "      <td>2016-01-01 03:00</td>\n",
              "      <td>0.0</td>\n",
              "    </tr>\n",
              "    <tr>\n",
              "      <th>2016-01-01 03:00</th>\n",
              "      <td>2016-01-01 04:00</td>\n",
              "      <td>0.0</td>\n",
              "    </tr>\n",
              "    <tr>\n",
              "      <th>2016-01-01 04:00</th>\n",
              "      <td>2016-01-01 05:00</td>\n",
              "      <td>0.0</td>\n",
              "    </tr>\n",
              "  </tbody>\n",
              "</table>\n",
              "</div>"
            ],
            "text/plain": [
              "                        local_time  radiation_surface\n",
              "time                                                 \n",
              "2016-01-01 00:00  2016-01-01 01:00                0.0\n",
              "2016-01-01 01:00  2016-01-01 02:00                0.0\n",
              "2016-01-01 02:00  2016-01-01 03:00                0.0\n",
              "2016-01-01 03:00  2016-01-01 04:00                0.0\n",
              "2016-01-01 04:00  2016-01-01 05:00                0.0"
            ]
          },
          "metadata": {},
          "execution_count": 5
        }
      ]
    },
    {
      "cell_type": "code",
      "metadata": {
        "id": "bktKg9J4Lzj8"
      },
      "source": [
        "combined_full.index = pd.to_datetime(combined_full.index) "
      ],
      "execution_count": 9,
      "outputs": []
    },
    {
      "cell_type": "code",
      "metadata": {
        "colab": {
          "base_uri": "https://localhost:8080/",
          "height": 235
        },
        "id": "Ta2YXnPyMPKy",
        "outputId": "a514fe31-a42f-4e95-ca08-dc0968b5714e"
      },
      "source": [
        "irradiance = combined_full.loc['2016-01-31 23:00' : '2018-01-31 23:00']\n",
        "\n",
        "irradiance.head()\n",
        "irradiance.tail()"
      ],
      "execution_count": 10,
      "outputs": [
        {
          "output_type": "execute_result",
          "data": {
            "text/html": [
              "<div>\n",
              "<style scoped>\n",
              "    .dataframe tbody tr th:only-of-type {\n",
              "        vertical-align: middle;\n",
              "    }\n",
              "\n",
              "    .dataframe tbody tr th {\n",
              "        vertical-align: top;\n",
              "    }\n",
              "\n",
              "    .dataframe thead th {\n",
              "        text-align: right;\n",
              "    }\n",
              "</style>\n",
              "<table border=\"1\" class=\"dataframe\">\n",
              "  <thead>\n",
              "    <tr style=\"text-align: right;\">\n",
              "      <th></th>\n",
              "      <th>local_time</th>\n",
              "      <th>radiation_surface</th>\n",
              "    </tr>\n",
              "    <tr>\n",
              "      <th>time</th>\n",
              "      <th></th>\n",
              "      <th></th>\n",
              "    </tr>\n",
              "  </thead>\n",
              "  <tbody>\n",
              "    <tr>\n",
              "      <th>2018-01-31 19:00:00</th>\n",
              "      <td>2018-01-31 20:00</td>\n",
              "      <td>0.0</td>\n",
              "    </tr>\n",
              "    <tr>\n",
              "      <th>2018-01-31 20:00:00</th>\n",
              "      <td>2018-01-31 21:00</td>\n",
              "      <td>0.0</td>\n",
              "    </tr>\n",
              "    <tr>\n",
              "      <th>2018-01-31 21:00:00</th>\n",
              "      <td>2018-01-31 22:00</td>\n",
              "      <td>0.0</td>\n",
              "    </tr>\n",
              "    <tr>\n",
              "      <th>2018-01-31 22:00:00</th>\n",
              "      <td>2018-01-31 23:00</td>\n",
              "      <td>0.0</td>\n",
              "    </tr>\n",
              "    <tr>\n",
              "      <th>2018-01-31 23:00:00</th>\n",
              "      <td>2018-02-01 00:00</td>\n",
              "      <td>0.0</td>\n",
              "    </tr>\n",
              "  </tbody>\n",
              "</table>\n",
              "</div>"
            ],
            "text/plain": [
              "                           local_time  radiation_surface\n",
              "time                                                    \n",
              "2018-01-31 19:00:00  2018-01-31 20:00                0.0\n",
              "2018-01-31 20:00:00  2018-01-31 21:00                0.0\n",
              "2018-01-31 21:00:00  2018-01-31 22:00                0.0\n",
              "2018-01-31 22:00:00  2018-01-31 23:00                0.0\n",
              "2018-01-31 23:00:00  2018-02-01 00:00                0.0"
            ]
          },
          "metadata": {},
          "execution_count": 10
        }
      ]
    },
    {
      "cell_type": "code",
      "metadata": {
        "id": "jxB1MWYnOW4g"
      },
      "source": [
        "irradiance = irradiance.between_time('05:00','19:00')"
      ],
      "execution_count": 11,
      "outputs": []
    },
    {
      "cell_type": "code",
      "metadata": {
        "id": "wmd9IqcTTPb5"
      },
      "source": [
        "#save on drive as csv\n",
        "\n",
        "# irradiance_csv = irradiance.to_csv()\n",
        "# with open (\"/content/drive/MyDrive/Master_thesis/irradiance.csv\", \"w\") as a:\n",
        "#   a.write(irradiance_csv)"
      ],
      "execution_count": 94,
      "outputs": []
    },
    {
      "cell_type": "markdown",
      "metadata": {
        "id": "yfPnxnwgTYKa"
      },
      "source": [
        "#Visualization"
      ]
    },
    {
      "cell_type": "code",
      "metadata": {
        "colab": {
          "base_uri": "https://localhost:8080/"
        },
        "id": "P91HcFAiP0t8",
        "outputId": "7c56441e-0f2a-4224-9087-d278548772ba"
      },
      "source": [
        "irraidance = pd.DataFrame(irradiance)\n",
        "type(irradiance)"
      ],
      "execution_count": 12,
      "outputs": [
        {
          "output_type": "execute_result",
          "data": {
            "text/plain": [
              "pandas.core.frame.DataFrame"
            ]
          },
          "metadata": {},
          "execution_count": 12
        }
      ]
    },
    {
      "cell_type": "code",
      "metadata": {
        "colab": {
          "base_uri": "https://localhost:8080/",
          "height": 235
        },
        "id": "gpanZr50PgNr",
        "outputId": "475b40fa-0fb5-4c28-f85b-739754e5125d"
      },
      "source": [
        "irradiance[\"Hour\"] = irradiance.index.hour\n",
        "\n",
        "irradiance.head()"
      ],
      "execution_count": 13,
      "outputs": [
        {
          "output_type": "execute_result",
          "data": {
            "text/html": [
              "<div>\n",
              "<style scoped>\n",
              "    .dataframe tbody tr th:only-of-type {\n",
              "        vertical-align: middle;\n",
              "    }\n",
              "\n",
              "    .dataframe tbody tr th {\n",
              "        vertical-align: top;\n",
              "    }\n",
              "\n",
              "    .dataframe thead th {\n",
              "        text-align: right;\n",
              "    }\n",
              "</style>\n",
              "<table border=\"1\" class=\"dataframe\">\n",
              "  <thead>\n",
              "    <tr style=\"text-align: right;\">\n",
              "      <th></th>\n",
              "      <th>local_time</th>\n",
              "      <th>radiation_surface</th>\n",
              "      <th>Hour</th>\n",
              "    </tr>\n",
              "    <tr>\n",
              "      <th>time</th>\n",
              "      <th></th>\n",
              "      <th></th>\n",
              "      <th></th>\n",
              "    </tr>\n",
              "  </thead>\n",
              "  <tbody>\n",
              "    <tr>\n",
              "      <th>2016-02-01 05:00:00</th>\n",
              "      <td>2016-02-01 06:00</td>\n",
              "      <td>0.000</td>\n",
              "      <td>5</td>\n",
              "    </tr>\n",
              "    <tr>\n",
              "      <th>2016-02-01 06:00:00</th>\n",
              "      <td>2016-02-01 07:00</td>\n",
              "      <td>0.467</td>\n",
              "      <td>6</td>\n",
              "    </tr>\n",
              "    <tr>\n",
              "      <th>2016-02-01 07:00:00</th>\n",
              "      <td>2016-02-01 08:00</td>\n",
              "      <td>31.309</td>\n",
              "      <td>7</td>\n",
              "    </tr>\n",
              "    <tr>\n",
              "      <th>2016-02-01 08:00:00</th>\n",
              "      <td>2016-02-01 09:00</td>\n",
              "      <td>112.503</td>\n",
              "      <td>8</td>\n",
              "    </tr>\n",
              "    <tr>\n",
              "      <th>2016-02-01 09:00:00</th>\n",
              "      <td>2016-02-01 10:00</td>\n",
              "      <td>208.440</td>\n",
              "      <td>9</td>\n",
              "    </tr>\n",
              "  </tbody>\n",
              "</table>\n",
              "</div>"
            ],
            "text/plain": [
              "                           local_time  radiation_surface  Hour\n",
              "time                                                          \n",
              "2016-02-01 05:00:00  2016-02-01 06:00              0.000     5\n",
              "2016-02-01 06:00:00  2016-02-01 07:00              0.467     6\n",
              "2016-02-01 07:00:00  2016-02-01 08:00             31.309     7\n",
              "2016-02-01 08:00:00  2016-02-01 09:00            112.503     8\n",
              "2016-02-01 09:00:00  2016-02-01 10:00            208.440     9"
            ]
          },
          "metadata": {},
          "execution_count": 13
        }
      ]
    },
    {
      "cell_type": "code",
      "metadata": {
        "colab": {
          "base_uri": "https://localhost:8080/",
          "height": 282
        },
        "id": "DgTpeTukRs5G",
        "outputId": "363b7f7f-fb90-452b-9cd2-fa4dfea1b6bb"
      },
      "source": [
        "import matplotlib.pyplot as plt\n",
        "\n",
        "irradiance_hour = irradiance.groupby(irradiance[\"Hour\"]).mean().plot(kind=\"bar\")\n",
        "plt.show(irradiance_hour)"
      ],
      "execution_count": 14,
      "outputs": [
        {
          "output_type": "display_data",
          "data": {
            "image/png": "[encoded data removed]",
            "text/plain": [
              "<Figure size 432x288 with 1 Axes>"
            ]
          },
          "metadata": {
            "needs_background": "light"
          }
        }
      ]
    }
  ]
}