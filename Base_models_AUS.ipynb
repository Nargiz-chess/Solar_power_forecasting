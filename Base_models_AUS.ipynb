{
  "nbformat": 4,
  "nbformat_minor": 0,
  "metadata": {
    "colab": {
      "name": "Base models_AUS.ipynb",
      "provenance": [],
      "collapsed_sections": [],
      "authorship_tag": "ABX9TyOg9tEEBm7BTwBGnus8TzMO",
      "include_colab_link": true
    },
    "kernelspec": {
      "name": "python3",
      "display_name": "Python 3"
    },
    "language_info": {
      "name": "python"
    }
  },
  "cells": [
    {
      "cell_type": "markdown",
      "metadata": {
        "id": "view-in-github",
        "colab_type": "text"
      },
      "source": [
        "<a href=\"https://colab.research.google.com/github/Nargiz-chess/Solar_forecasting/blob/main/Base_models_AUS.ipynb\" target=\"_parent\"><img src=\"https://colab.research.google.com/assets/colab-badge.svg\" alt=\"Open In Colab\"/></a>"
      ]
    },
    {
      "cell_type": "code",
      "metadata": {
        "colab": {
          "base_uri": "https://localhost:8080/"
        },
        "id": "LqRBrTp6sGvG",
        "outputId": "02cb43e3-3f06-4535-e7aa-fa8922e1d7de"
      },
      "source": [
        "#Mount google drive\n",
        "from google.colab import drive\n",
        "drive.mount('/content/drive')\n",
        "\n",
        "from pandas import read_csv\n",
        "import pandas as pd\n",
        "import datetime as dt\n",
        "import matplotlib\n",
        "from sklearn.linear_model import LinearRegression\n",
        "import numpy as np\n",
        "from sklearn import metrics\n",
        "import matplotlib.pyplot as plt\n"
      ],
      "execution_count": null,
      "outputs": [
        {
          "output_type": "stream",
          "name": "stdout",
          "text": [
            "Mounted at /content/drive\n"
          ]
        }
      ]
    },
    {
      "cell_type": "code",
      "metadata": {
        "id": "x9Sl-sjBoBkQ"
      },
      "source": [
        "path1 = '/content/drive/MyDrive/Master_thesis/Datasets/Australia_numpy_removed_night_hours.npy'\n",
        "path2 = '/content/drive/MyDrive/Master_thesis/Datasets/irradiance_AUS(2012-2013).csv'"
      ],
      "execution_count": null,
      "outputs": []
    },
    {
      "cell_type": "code",
      "metadata": {
        "colab": {
          "base_uri": "https://localhost:8080/"
        },
        "id": "Vp33-TegHEEQ",
        "outputId": "6b3edea4-cda5-4dc0-c48e-c4e028990ccf"
      },
      "source": [
        "array = np.loadtxt(path1)\n",
        "df2=read_csv(path2, header =0, index_col=0) \n",
        "df2=df2.drop(\"time\", axis=1)\n",
        "df2 = df2.fillna(0)\n",
        "array2 = df2.values\n",
        "weath_data = array2.reshape(array2.shape[0]*array2.shape[1])\n",
        "print(\"Shape of Aus data = \", array.shape, \"\\n\",\"Shape of weather data = \", weath_data.shape )"
      ],
      "execution_count": null,
      "outputs": [
        {
          "output_type": "stream",
          "name": "stdout",
          "text": [
            "Shape of Aus data =  (6570, 299) \n",
            " Shape of weather data =  (6570,)\n"
          ]
        }
      ]
    },
    {
      "cell_type": "code",
      "metadata": {
        "colab": {
          "base_uri": "https://localhost:8080/"
        },
        "id": "jmew5QpAKH4A",
        "outputId": "6fbed8a9-76d8-467a-a7ba-f0648c1b45fe"
      },
      "source": [
        "weath_data.reshape(-1,1)\n",
        "weath_data.shape"
      ],
      "execution_count": null,
      "outputs": [
        {
          "output_type": "execute_result",
          "data": {
            "text/plain": [
              "(6570,)"
            ]
          },
          "metadata": {},
          "execution_count": 13
        }
      ]
    },
    {
      "cell_type": "markdown",
      "metadata": {
        "id": "ufxGZ2MVsbA3"
      },
      "source": [
        "#Linear Regression"
      ]
    },
    {
      "cell_type": "code",
      "metadata": {
        "colab": {
          "base_uri": "https://localhost:8080/"
        },
        "id": "dJzIDwfAsg11",
        "outputId": "f8a48f4b-710b-40f4-a912-33d509bf0e99"
      },
      "source": [
        "from sklearn.linear_model import LinearRegression\n",
        "from sklearn.model_selection import train_test_split\n",
        "from sklearn.preprocessing import MinMaxScaler\n",
        "from statistics import mean\n",
        "from sklearn import metrics\n",
        "\n",
        "#perform a robust scaler transform of the dataset\n",
        "scaler = MinMaxScaler()\n",
        "\n",
        "X = weath_data\n",
        "\n",
        "# for all the houses\n",
        "X_reshaped = X.reshape(-1,1)\n",
        "RMSEs=list()\n",
        "\n",
        "for house in range(299):\n",
        "  y = array[:,house]\n",
        "  y_reshaped = y.reshape(-1,1)\n",
        "  #y_reshaped = scaler.fit_transform(y_reshaped)\n",
        "  X_train, X_test, y_train, y_test = train_test_split( X_reshaped, y_reshaped, test_size=24, shuffle = False)\n",
        "  # X_train = scaler.fit_transform(X_train)\n",
        "  # X_test = scaler.transform(X_test)\n",
        "  # y_train = scaler.fit_transform(y_train)\n",
        "  # y_test = scaler.transform(y_test)\n",
        "  reg = LinearRegression().fit(X_train, y_train)\n",
        "  # print(col)\n",
        "  # print(\"R^2 of Linear Regression on the train set =\", reg.score(X_train, y_train))\n",
        "  # print(\"R^2 of Linear Regression on the test set =\", reg.score(X_test, y_test))\n",
        "\n",
        "  y_pred = reg.predict(X_test)\n",
        "  # print(\"MAE:\", metrics.mean_absolute_error(y_test,y_pred))\n",
        "  # print(\"MSE:\", metrics.mean_squared_error(y_test,y_pred))\n",
        "  rmse = np.sqrt(metrics.mean_squared_error(y_test,y_pred))\n",
        "  RMSEs.append(rmse)\n",
        "  # print(\"RMSE:\", rmse)\n",
        "  # print()\n",
        "\n",
        "print(\"Average RMSE = \", mean(RMSEs))"
      ],
      "execution_count": null,
      "outputs": [
        {
          "output_type": "stream",
          "name": "stdout",
          "text": [
            "Average RMSE =  0.12341741292984756\n"
          ]
        }
      ]
    },
    {
      "cell_type": "code",
      "metadata": {
        "colab": {
          "base_uri": "https://localhost:8080/"
        },
        "id": "huSU-jd3oMB6",
        "outputId": "de7ac032-d230-4f65-d627-c6fd31e9911d"
      },
      "source": [
        "print(len(RMSEs))"
      ],
      "execution_count": null,
      "outputs": [
        {
          "output_type": "stream",
          "name": "stdout",
          "text": [
            "299\n"
          ]
        }
      ]
    },
    {
      "cell_type": "markdown",
      "metadata": {
        "id": "dQZtSu1tsyM6"
      },
      "source": [
        "#Gradient Boosting Regressor"
      ]
    },
    {
      "cell_type": "code",
      "metadata": {
        "colab": {
          "base_uri": "https://localhost:8080/"
        },
        "id": "PHbgcLbVo55Z",
        "outputId": "673ece9c-0916-474f-f5d0-ebea1473688a"
      },
      "source": [
        "from sklearn.linear_model import LinearRegression\n",
        "from sklearn.model_selection import train_test_split\n",
        "from sklearn.preprocessing import MinMaxScaler\n",
        "from statistics import mean\n",
        "from sklearn import metrics\n",
        "\n",
        "from sklearn.ensemble import GradientBoostingRegressor\n",
        "\n",
        "#perform a robust scaler transform of the dataset\n",
        "scaler = MinMaxScaler()\n",
        "\n",
        "X = weath_data\n",
        "\n",
        "# for all the houses\n",
        "X_reshaped = X.reshape(-1,1)\n",
        "RMSEs=list()\n",
        "\n",
        "for house in range(299):\n",
        "  y = array[:,house]\n",
        "  y_reshaped = y\n",
        "  X_train, X_test, y_train, y_test = train_test_split( X_reshaped, y_reshaped, test_size=24, shuffle = False)\n",
        "  # X_train = scaler.fit_transform(X_train)\n",
        "  # X_test = scaler.fit_transform(X_test)\n",
        "  # y_train = scaler.fit_transform(y_train)\n",
        "  # y_test = scaler.fit_transform(y_test)\n",
        "  reg = GradientBoostingRegressor(random_state=None, max_depth = 3,learning_rate=0.1).fit(X_train, y_train)\n",
        "  # print(col)\n",
        "  # print(\"R^2 of Linear Regression on the train set =\", reg.score(X_train, y_train))\n",
        "  # print(\"R^2 of Linear Regression on the test set =\", reg.score(X_test, y_test))\n",
        "\n",
        "  y_pred = reg.predict(X_test)\n",
        "  # print(\"MAE:\", metrics.mean_absolute_error(y_test,y_pred))\n",
        "  # print(\"MSE:\", metrics.mean_squared_error(y_test,y_pred))\n",
        "  rmse = np.sqrt(metrics.mean_squared_error(y_test,y_pred))\n",
        "  RMSEs.append(rmse)\n",
        "  # print(\"RMSE:\", rmse)\n",
        "  # print()\n",
        "\n",
        "print(\"Average RMSE = \", mean(RMSEs))"
      ],
      "execution_count": null,
      "outputs": [
        {
          "output_type": "stream",
          "name": "stdout",
          "text": [
            "Average RMSE =  0.12641803491997064\n"
          ]
        }
      ]
    },
    {
      "cell_type": "code",
      "metadata": {
        "colab": {
          "base_uri": "https://localhost:8080/"
        },
        "id": "YnQVaSfxs0Jj",
        "outputId": "206611f4-d09a-4d82-b4c4-fadc8aa3d9df"
      },
      "source": [
        "from sklearn.ensemble import GradientBoostingRegressor\n",
        "\n",
        "#GBR = GradientBoostingRegressor(random_state=None, max_depth = 3,learning_rate=0.1).fit(X_train, y_train)\n",
        "\n",
        "# print(\"R^2 of Gradient Boosting Regressor on the training set =\",GBR.score(X_train, y_train))\n",
        "# print(\"R^2 of Gradient Boosting Regressor on the test set =\",GBR.score(X_test, y_test))\n",
        "\n",
        "\n",
        "X = df[\"radiation_surface\"]\n",
        "\n",
        "# for all the houses\n",
        "X_reshaped = X.values.reshape(-1,1)\n",
        "RMSEs_gbr=list()\n",
        "r_squared=[]\n",
        "\n",
        "for col in df.columns:\n",
        "  if \"pv\" in col:\n",
        "    y = df[col].fillna(0)\n",
        "#    y_reshaped = y.values.reshape(-1,1)\n",
        "#    y_reshaped = scaler.fit_transform(y_reshaped)\n",
        "    X_train, X_test, y_train, y_test = train_test_split( X_reshaped, y, test_size=24, shuffle = False)\n",
        "    # X_train = scaler.fit_transform(X_train)\n",
        "    # X_test = scaler.fit_transform(X_test)\n",
        "    # y_train = scaler.fit_transform(y_train)\n",
        "    # y_test = scaler.fit_transform(y_test)\n",
        "    gbr = GradientBoostingRegressor(random_state=None, max_depth = 3,learning_rate=0.1).fit(X_train, y_train)\n",
        "    # print(col)\n",
        "    # print(\"R^2 of Linear Regression on the train set =\", gbr.score(X_train, y_train))\n",
        "    # print(\"R^2 of Linear Regression on the test set =\", gbr.score(X_test, y_test))\n",
        "\n",
        "    y_pred = gbr.predict(X_test)\n",
        "    # print(\"MAE:\", metrics.mean_absolute_error(y_test,y_pred))\n",
        "    # print(\"MSE:\", metrics.mean_squared_error(y_test,y_pred))\n",
        "    r_2=gbr.score(X_train, y_train)\n",
        "    r_squared.append(r_2)\n",
        "    rmse = np.sqrt(metrics.mean_squared_error(y_test,y_pred))\n",
        "    RMSEs_gbr.append(rmse)\n",
        "    # print(\"RMSE:\", rmse)\n",
        "    # print()\n",
        "\n",
        "print(\"Average RMSE accross all columns = \", round(mean(RMSEs_gbr),2))\n",
        "print(\"Average R^2 accross all columns = \", round(mean(r_squared),2))"
      ],
      "execution_count": null,
      "outputs": [
        {
          "output_type": "stream",
          "name": "stdout",
          "text": [
            "Average RMSE accross all columns =  0.13\n",
            "Average R^2 accross all columns =  0.81\n"
          ]
        }
      ]
    },
    {
      "cell_type": "markdown",
      "metadata": {
        "id": "YTIglDZ3bhju"
      },
      "source": [
        "#Gradient boosting - Hyper parameter tuning"
      ]
    },
    {
      "cell_type": "code",
      "metadata": {
        "colab": {
          "base_uri": "https://localhost:8080/"
        },
        "id": "4QapqmLQbmA6",
        "outputId": "11bbfbab-d011-4e2f-b56c-b8b7838d56aa"
      },
      "source": [
        "from sklearn.model_selection import GridSearchCV\n",
        "\n",
        "#params = [{'loss': ['ls','huber'], 'learning_rate': [0.05, 0.07, 0.15, 0.2], 'n_estimators': [200],'max_depth': [5], 'subsample' : [1] },{'loss': ['ls','huber'], 'learning_rate': [0.05, 0.07, 0.2], 'n_estimators': [350],'max_depth': [6], 'subsample' : [1] },{'loss': ['ls','huber'], 'n_estimators': [100],'learning_rate': [0.1], 'max_depth': [4], 'subsample' : [1] }]\n",
        "params = {'loss': ['ls', 'lad','huber','quantile'],'learning_rate': [0.1, 0.2,0.3],'max_depth': [3,5,6]} \n",
        "\n",
        "#gbr = GradientBoostingRegressor(random_state=None)\n",
        "\n",
        "# print(\"R^2 of Gradient Boosting Regressor on the training set =\",GBR.score(X_train, y_train))\n",
        "# print(\"R^2 of Gradient Boosting Regressor on the test set =\",GBR.score(X_test, y_test))\n",
        "\n",
        "\n",
        "X = df[\"radiation_surface\"]\n",
        "gbr_best_scores = []\n",
        "grb_best_params = []\n",
        "\n",
        "# for all the houses\n",
        "X_reshaped = X.values.reshape(-1,1)\n",
        "RMSEs_gbr=list()\n",
        "\n",
        "for col in df.columns:\n",
        "  if \"pv\" in col:\n",
        "    y = df[col].fillna(0)\n",
        "    X_train, X_test, y_train, y_test = train_test_split( X_reshaped, y, test_size=24, shuffle = False)\n",
        "    gbr = GridSearchCV(GradientBoostingRegressor(random_state=None), params, scoring = 'explained_variance', cv = 5, n_jobs = -1)\n",
        "    gbr.fit(X_train,y_train)\n",
        "    gbr_best_scores.append([col, gbr.best_score_])\n",
        "    grb_best_params.append([col, gbr.best_params_])\n",
        "print(\"Best Scores : \", gbr_best_scores )\n",
        "print(\"Best Parameters : \",grb_best_params)\n"
      ],
      "execution_count": null,
      "outputs": [
        {
          "output_type": "stream",
          "name": "stdout",
          "text": [
            "Best Scores :  [['DE_KN_industrial1_pv_2', 0.5803883490286398], ['DE_KN_industrial2_pv', 0.6889587044115786], ['DE_KN_industrial3_pv_facade', 0.6032783360235119], ['DE_KN_industrial3_pv_roof', -0.032842451327424804], ['DE_KN_residential1_pv', 0.6911895984362616], ['DE_KN_residential3_pv', 0.5597570650330612], ['DE_KN_residential4_pv', 0.6907473739246542], ['DE_KN_residential6_pv', 0.6617529607876806]]\n",
            "Best Parameters :  [['DE_KN_industrial1_pv_2', {'learning_rate': 0.1, 'loss': 'ls', 'max_depth': 3}], ['DE_KN_industrial2_pv', {'learning_rate': 0.2, 'loss': 'lad', 'max_depth': 3}], ['DE_KN_industrial3_pv_facade', {'learning_rate': 0.1, 'loss': 'ls', 'max_depth': 3}], ['DE_KN_industrial3_pv_roof', {'learning_rate': 0.1, 'loss': 'huber', 'max_depth': 3}], ['DE_KN_residential1_pv', {'learning_rate': 0.1, 'loss': 'lad', 'max_depth': 5}], ['DE_KN_residential3_pv', {'learning_rate': 0.1, 'loss': 'huber', 'max_depth': 3}], ['DE_KN_residential4_pv', {'learning_rate': 0.1, 'loss': 'lad', 'max_depth': 3}], ['DE_KN_residential6_pv', {'learning_rate': 0.1, 'loss': 'ls', 'max_depth': 3}]]\n"
          ]
        }
      ]
    },
    {
      "cell_type": "markdown",
      "metadata": {
        "id": "-mT3HthujZDp"
      },
      "source": [
        "Best Scores :  [['DE_KN_industrial1_pv_2', 0.5803883490286398], ['DE_KN_industrial2_pv', 0.6889587044115786], ['DE_KN_industrial3_pv_facade', 0.6032783360235119], ['DE_KN_industrial3_pv_roof', -0.032842451327424804], ['DE_KN_residential1_pv', 0.6911895984362616], ['DE_KN_residential3_pv', 0.5597570650330612], ['DE_KN_residential4_pv', 0.6907473739246542], ['DE_KN_residential6_pv', 0.6617529607876806]]\n",
        "\n",
        "Best Parameters :  [['DE_KN_industrial1_pv_2', {'learning_rate': 0.1, 'loss': 'ls', 'max_depth': 3}], ['DE_KN_industrial2_pv', {'learning_rate': 0.2, 'loss': 'lad', 'max_depth': 3}], ['DE_KN_industrial3_pv_facade', {'learning_rate': 0.1, 'loss': 'ls', 'max_depth': 3}], ['DE_KN_industrial3_pv_roof', {'learning_rate': 0.1, 'loss': 'huber', 'max_depth': 3}], ['DE_KN_residential1_pv', {'learning_rate': 0.1, 'loss': 'lad', 'max_depth': 5}], ['DE_KN_residential3_pv', {'learning_rate': 0.1, 'loss': 'huber', 'max_depth': 3}], ['DE_KN_residential4_pv', {'learning_rate': 0.1, 'loss': 'lad', 'max_depth': 3}], ['DE_KN_residential6_pv', {'learning_rate': 0.1, 'loss': 'ls', 'max_depth': 3}]]"
      ]
    },
    {
      "cell_type": "markdown",
      "metadata": {
        "id": "w8DeliuYsXSo"
      },
      "source": [
        "#Quantile regression"
      ]
    },
    {
      "cell_type": "code",
      "metadata": {
        "colab": {
          "base_uri": "https://localhost:8080/"
        },
        "id": "BcfCE6W7saau",
        "outputId": "5b947ea0-8cf6-403d-f562-da1c94fb3c25"
      },
      "source": [
        "from statsmodels.regression.quantile_regression import QuantReg\n",
        "import statsmodels.api as sm\n",
        "from statistics import mean\n",
        "\n",
        "X = df[\"radiation_surface\"]\n",
        "X_reshaped = X.values.reshape(-1,1)\n",
        "#quantiles can be added\n",
        "quantile = [0.9]\n",
        "RMSEs_QR=[]\n",
        "\n",
        "for col in df.columns:\n",
        "  if \"pv\" in col:\n",
        "    y = df[col].fillna(0)\n",
        "    y_reshaped = y.values.reshape(-1,1)\n",
        "    y_reshaped = scaler.fit_transform(y_reshaped)\n",
        "    X_train, X_test, y_train, y_test = train_test_split( X_reshaped, y_reshaped, test_size=24, shuffle = False)\n",
        "    for q in quantile:\n",
        "      y_pred = sm.QuantReg(y_train, X_train).fit(q=q).predict(X_test)\n",
        "      print(\"quantile = \",q)\n",
        "      print(\"MAE:\", metrics.mean_absolute_error(y_test,y_pred))\n",
        "      print(\"MSE:\", metrics.mean_squared_error(y_test,y_pred))\n",
        "      rmse = np.sqrt(metrics.mean_squared_error(y_test,y_pred))\n",
        "      RMSEs_QR.append([q,rmse])\n",
        "      print(\"RMSE:\", rmse)\n",
        "      print()\n",
        "\n",
        "print(\"Average RMSE\", mean(RMSEs_QR[1]))"
      ],
      "execution_count": null,
      "outputs": [
        {
          "output_type": "stream",
          "name": "stdout",
          "text": [
            "quantile =  0.9\n",
            "MAE: 0.025475685041147417\n",
            "MSE: 0.002183032345575505\n",
            "RMSE: 0.04672293168857777\n",
            "\n",
            "quantile =  0.9\n",
            "MAE: 0.026078883146876505\n",
            "MSE: 0.002287022801758641\n",
            "RMSE: 0.0478228272037386\n",
            "\n",
            "quantile =  0.9\n",
            "MAE: 0.024812530917352863\n",
            "MSE: 0.002033328108418596\n",
            "RMSE: 0.045092439592670036\n",
            "\n",
            "quantile =  0.9\n",
            "MAE: 0.02066238634396912\n",
            "MSE: 0.0014580344545063399\n",
            "RMSE: 0.03818421734835402\n",
            "\n",
            "quantile =  0.9\n",
            "MAE: 0.0181157513039111\n",
            "MSE: 0.0012197083124769025\n",
            "RMSE: 0.03492432264879167\n",
            "\n",
            "quantile =  0.9\n",
            "MAE: 0.020523616655417087\n",
            "MSE: 0.0014491932132450448\n",
            "RMSE: 0.03806827042623614\n",
            "\n",
            "quantile =  0.9\n",
            "MAE: 0.025278744426784978\n",
            "MSE: 0.0021580104170405815\n",
            "RMSE: 0.046454390718645544\n",
            "\n",
            "quantile =  0.9\n",
            "MAE: 0.02975738061004703\n",
            "MSE: 0.0029429494263876776\n",
            "RMSE: 0.054248957836880864\n",
            "\n",
            "Average RMSE 0.47391141360186934\n"
          ]
        }
      ]
    },
    {
      "cell_type": "markdown",
      "metadata": {
        "id": "HLQ-R7YisAK9"
      },
      "source": [
        "#Ridge Regression"
      ]
    },
    {
      "cell_type": "code",
      "metadata": {
        "colab": {
          "base_uri": "https://localhost:8080/"
        },
        "id": "zB3lBiSffBkt",
        "outputId": "e0aaba67-d02b-4a50-e8c9-dbc88d62c47c"
      },
      "source": [
        "from sklearn.linear_model import Ridge\n",
        "\n",
        "X = df[\"radiation_surface\"]\n",
        "X_reshaped = X.values.reshape(-1,1) \n",
        "\n",
        "y = df['DE_KN_residential6_pv']fillna(0)\n",
        "y_reshaped = y.values.reshape(-1,1)\n",
        "\n",
        "StandardScaler()\n",
        "ridge = Ridge(alpha=1, fit_intercept=True)\n",
        "ridge.fit(X_train, y_train)\n",
        "\n",
        "print(\"R^2 of Linear Regression on the train set =\", ridge.score(X_train, y_train))\n",
        "print(\"R^2 of Linear Regression on the test set =\", ridge.score(X_test, y_test))"
      ],
      "execution_count": null,
      "outputs": [
        {
          "output_type": "execute_result",
          "data": {
            "text/plain": [
              "(6954, 1)"
            ]
          },
          "metadata": {},
          "execution_count": 26
        }
      ]
    }
  ]
}