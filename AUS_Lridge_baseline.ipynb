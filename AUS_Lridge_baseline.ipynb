{
  "nbformat": 4,
  "nbformat_minor": 0,
  "metadata": {
    "colab": {
      "name": "AUS-Lridge_baseline.ipynb",
      "provenance": [],
      "include_colab_link": true
    },
    "kernelspec": {
      "name": "python3",
      "display_name": "Python 3"
    },
    "language_info": {
      "name": "python"
    }
  },
  "cells": [
    {
      "cell_type": "markdown",
      "metadata": {
        "id": "view-in-github",
        "colab_type": "text"
      },
      "source": [
        "<a href=\"https://colab.research.google.com/github/Nargiz-chess/Solar_forecasting/blob/main/AUS_Lridge_baseline.ipynb\" target=\"_parent\"><img src=\"https://colab.research.google.com/assets/colab-badge.svg\" alt=\"Open In Colab\"/></a>"
      ]
    },
    {
      "cell_type": "code",
      "metadata": {
        "colab": {
          "base_uri": "https://localhost:8080/"
        },
        "id": "MAnEMj_c5mdC",
        "outputId": "1bc79e35-8c2d-4cbc-d8c6-db1e491e609f"
      },
      "source": [
        "#Mount google drive\n",
        "from google.colab import drive\n",
        "drive.mount('/content/drive')\n",
        "\n",
        "from pandas import read_csv\n",
        "import pandas as pd\n",
        "import datetime as dt\n",
        "import matplotlib\n",
        "import numpy as np\n",
        "import matplotlib.pyplot as plt\n",
        "from sklearn.linear_model import LinearRegression\n",
        "from sklearn.model_selection import train_test_split\n",
        "from statistics import mean\n",
        "from sklearn import metrics\n"
      ],
      "execution_count": 197,
      "outputs": [
        {
          "output_type": "stream",
          "name": "stdout",
          "text": [
            "Drive already mounted at /content/drive; to attempt to forcibly remount, call drive.mount(\"/content/drive\", force_remount=True).\n"
          ]
        }
      ]
    },
    {
      "cell_type": "code",
      "metadata": {
        "id": "gNhz9Ni_5uwY"
      },
      "source": [
        "path1 = '/content/drive/MyDrive/Master_thesis/Datasets/Australia_numpy_removed_night_hours.npy'\n",
        "path2 = '/content/drive/MyDrive/Master_thesis/Datasets/irradiance_AUS(2012-2013).csv'"
      ],
      "execution_count": 198,
      "outputs": []
    },
    {
      "cell_type": "code",
      "metadata": {
        "colab": {
          "base_uri": "https://localhost:8080/"
        },
        "id": "Zr4ijr6VUn-i",
        "outputId": "9c99794a-3e46-4cdf-cf61-c76040b59532"
      },
      "source": [
        "weath_data=read_csv(path2, header =0, index_col=0) \n",
        "weath_data=weath_data.drop(\"time\", axis=1)\n",
        "weath_data=weath_data.values\n",
        "weath_data = weath_data.reshape(weath_data.shape[0]*weath_data.shape[1])\n",
        "weath_data.shape"
      ],
      "execution_count": 199,
      "outputs": [
        {
          "output_type": "execute_result",
          "data": {
            "text/plain": [
              "(6570,)"
            ]
          },
          "metadata": {},
          "execution_count": 199
        }
      ]
    },
    {
      "cell_type": "code",
      "metadata": {
        "colab": {
          "base_uri": "https://localhost:8080/"
        },
        "id": "bw6UTH0e5zJL",
        "outputId": "da9f0f35-64a7-413e-877b-f4fdc18531df"
      },
      "source": [
        "array_aus = np.loadtxt(path1)\n",
        "print(\"Shape before reshape\",np.shape(array_aus))\n"
      ],
      "execution_count": 200,
      "outputs": [
        {
          "output_type": "stream",
          "name": "stdout",
          "text": [
            "Shape before reshape (6570, 299)\n"
          ]
        }
      ]
    },
    {
      "cell_type": "code",
      "metadata": {
        "id": "xjvH8brj51d4"
      },
      "source": [
        "###explarotary\n",
        "\n",
        "# df_AUS = pd.DataFrame(array_aus)\n",
        "# df_AUS.head(25)\n",
        "\n",
        "### note: rows time steps, columns houses. 0-th row means at 5am (night hours between 22h and 5h were removed)"
      ],
      "execution_count": 201,
      "outputs": []
    },
    {
      "cell_type": "markdown",
      "metadata": {
        "id": "46wfjeBUUrdt"
      },
      "source": [
        "#Random houses - subsetting"
      ]
    },
    {
      "cell_type": "code",
      "metadata": {
        "colab": {
          "base_uri": "https://localhost:8080/"
        },
        "id": "HAy6uqjpUvDD",
        "outputId": "a0893990-307c-4c90-ef71-b5b221d18ebf"
      },
      "source": [
        "import random\n",
        "\n",
        "random.seed(42)\n",
        "\n",
        "subset_col=[]\n",
        "while True:\n",
        "  r=random.randint(0,298)\n",
        "  if r not in subset_col:\n",
        "    subset_col.append(r)\n",
        "  if len(subset_col) ==40:\n",
        "    break\n",
        "\n",
        "array_aus = array_aus[:,subset_col]\n",
        "print(array_aus.shape)"
      ],
      "execution_count": 202,
      "outputs": [
        {
          "output_type": "stream",
          "name": "stdout",
          "text": [
            "(6570, 40)\n"
          ]
        }
      ]
    },
    {
      "cell_type": "markdown",
      "metadata": {
        "id": "PwTAi0GpQ-aa"
      },
      "source": [
        "#Last 5 days training"
      ]
    },
    {
      "cell_type": "code",
      "metadata": {
        "colab": {
          "base_uri": "https://localhost:8080/"
        },
        "id": "8unlGYRjQ98L",
        "outputId": "9112bf1e-0a9f-47fb-8a87-292b6f264045"
      },
      "source": [
        "array_5days = array_aus[-(6*18):,:]\n",
        "#weather = df_weather.fillna(0)\n",
        "weath_data_5days = weath_data[-108:].reshape(-1,1)\n",
        "print(\"Shape of solar power dataset =\",array_5days.shape, \"\\n\", \"Shape of weather data\",weath_data_5days.shape)\n"
      ],
      "execution_count": 203,
      "outputs": [
        {
          "output_type": "stream",
          "name": "stdout",
          "text": [
            "Shape of solar power dataset = (108, 40) \n",
            " Shape of weather data (108, 1)\n"
          ]
        }
      ]
    },
    {
      "cell_type": "markdown",
      "metadata": {
        "id": "WVYrxODYDJbI"
      },
      "source": [
        "#L-ridge"
      ]
    },
    {
      "cell_type": "code",
      "metadata": {
        "id": "McEroJduGVGF"
      },
      "source": [
        "import numpy as np\n",
        "from scipy.ndimage.interpolation import shift\n",
        "from sklearn.linear_model import Ridge\n",
        "\n",
        "def shifting(X,y,n_shift):\n",
        "  y = y.flatten()\n",
        "  y_shift = shift(y,-n_shift)\n",
        "  y_shift = y_shift[:-n_shift]\n",
        "  X_shift = X[:-n_shift]\n",
        "  return X_shift,y_shift"
      ],
      "execution_count": 204,
      "outputs": []
    },
    {
      "cell_type": "code",
      "metadata": {
        "colab": {
          "base_uri": "https://localhost:8080/"
        },
        "id": "YFiNWw15IEle",
        "outputId": "34d25b11-94dc-4b83-ced8-44a78ef7520d"
      },
      "source": [
        "RMSEs = []\n",
        "\n",
        "for house in range(40):\n",
        "  X = np.concatenate((weath_data_5days.reshape(-1,1), array_5days[:,house].reshape(-1,1)), axis=1) \n",
        "  y=array_5days[:,house]\n",
        "  X,y = shifting(X,y,18)\n",
        "  y = y.reshape(-1,1)\n",
        "  #print(y.shape)\n",
        "  X_train, X_test, y_train, y_test = train_test_split( X, y, test_size=18, shuffle = False)\n",
        "  reg = Ridge(alpha=0.1, fit_intercept=True).fit(X_train, y_train)\n",
        "\n",
        "  y_pred = reg.predict(X_test)\n",
        "  rmse = np.sqrt(metrics.mean_squared_error(y_test,y_pred))\n",
        "  RMSEs.append(rmse)\n",
        "\n",
        "print(\"Average RMSE = \", mean(RMSEs))"
      ],
      "execution_count": 205,
      "outputs": [
        {
          "output_type": "stream",
          "name": "stdout",
          "text": [
            "Average RMSE =  0.13625437052764375\n"
          ]
        }
      ]
    }
  ]
}