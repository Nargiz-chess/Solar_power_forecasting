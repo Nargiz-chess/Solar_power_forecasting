{
  "nbformat": 4,
  "nbformat_minor": 0,
  "metadata": {
    "colab": {
      "name": "Vector AR + SLR with average solar output_Germany.ipynb",
      "provenance": [],
      "authorship_tag": "ABX9TyOr836wbyVy1F/4It/gKVCj",
      "include_colab_link": true
    },
    "kernelspec": {
      "name": "python3",
      "display_name": "Python 3"
    },
    "language_info": {
      "name": "python"
    }
  },
  "cells": [
    {
      "cell_type": "markdown",
      "metadata": {
        "id": "view-in-github",
        "colab_type": "text"
      },
      "source": [
        "<a href=\"https://colab.research.google.com/github/Nargiz-chess/Solar_forecasting/blob/main/Vector_AR_%2B_SLR_with_average_solar_output_Germany.ipynb\" target=\"_parent\"><img src=\"https://colab.research.google.com/assets/colab-badge.svg\" alt=\"Open In Colab\"/></a>"
      ]
    },
    {
      "cell_type": "code",
      "metadata": {
        "colab": {
          "base_uri": "https://localhost:8080/"
        },
        "id": "rOp59KSclbVD",
        "outputId": "c46704ff-ccd2-4480-ac8f-92156e0d1d6c"
      },
      "source": [
        "#Mount google drive\n",
        "from google.colab import drive\n",
        "drive.mount('/content/drive')\n",
        "\n",
        "from pandas import read_csv\n",
        "import pandas as pd\n",
        "import datetime as dt\n",
        "import matplotlib\n",
        "from sklearn.linear_model import LinearRegression\n",
        "import numpy as np\n",
        "from sklearn import metrics\n",
        "import matplotlib.pyplot as plt\n",
        "\n"
      ],
      "execution_count": null,
      "outputs": [
        {
          "output_type": "stream",
          "name": "stdout",
          "text": [
            "Drive already mounted at /content/drive; to attempt to forcibly remount, call drive.mount(\"/content/drive\", force_remount=True).\n"
          ]
        }
      ]
    },
    {
      "cell_type": "code",
      "metadata": {
        "colab": {
          "base_uri": "https://localhost:8080/"
        },
        "id": "l5QCkCfmmjkB",
        "outputId": "b9a46de2-00d4-470e-bc0b-cf8d86ae1ee3"
      },
      "source": [
        "\n",
        "path = '/content/drive/MyDrive/Master_thesis/Datasets/Merged(GER+weather).csv'\n",
        "\n",
        "df = read_csv(path, header =0, index_col=0) \n",
        "df.head()\n",
        "df.columns"
      ],
      "execution_count": null,
      "outputs": [
        {
          "output_type": "execute_result",
          "data": {
            "text/plain": [
              "Index(['cet_cest_timestamp', 'DE_KN_industrial1_pv_1',\n",
              "       'DE_KN_industrial1_pv_2', 'DE_KN_industrial2_pv',\n",
              "       'DE_KN_industrial3_pv_facade', 'DE_KN_industrial3_pv_roof',\n",
              "       'DE_KN_residential1_pv', 'DE_KN_residential3_pv',\n",
              "       'DE_KN_residential4_pv', 'DE_KN_residential6_pv', 'Berlin_time', 'Year',\n",
              "       'Month', 'Season', 'Week', 'Day', 'Year_day', 'Hour', 'local_time',\n",
              "       'radiation_surface'],\n",
              "      dtype='object')"
            ]
          },
          "metadata": {},
          "execution_count": 33
        }
      ]
    },
    {
      "cell_type": "code",
      "metadata": {
        "colab": {
          "base_uri": "https://localhost:8080/"
        },
        "id": "8k8gq4JCmwTo",
        "outputId": "7ddde949-8d92-4774-ae02-98fbcd8d206f"
      },
      "source": [
        "\n",
        "drop_cols = [i for i in range(10,19)]\n",
        "drop_cols.append(0)\n",
        "df = df.fillna(0)\n",
        "\n",
        "#df =df.drop(df.columns[drop_cols],axis=1)\n",
        "df.head()\n",
        "\n",
        "df.columns\n"
      ],
      "execution_count": null,
      "outputs": [
        {
          "output_type": "execute_result",
          "data": {
            "text/plain": [
              "Index(['DE_KN_industrial1_pv_1', 'DE_KN_industrial1_pv_2',\n",
              "       'DE_KN_industrial2_pv', 'DE_KN_industrial3_pv_facade',\n",
              "       'DE_KN_industrial3_pv_roof', 'DE_KN_residential1_pv',\n",
              "       'DE_KN_residential3_pv', 'DE_KN_residential4_pv',\n",
              "       'DE_KN_residential6_pv', 'radiation_surface'],\n",
              "      dtype='object')"
            ]
          },
          "metadata": {},
          "execution_count": 34
        }
      ]
    },
    {
      "cell_type": "code",
      "metadata": {
        "colab": {
          "base_uri": "https://localhost:8080/",
          "height": 340
        },
        "id": "z4QchPEdww35",
        "outputId": "e9e29549-f736-476d-c18f-6a80e0a8c948"
      },
      "source": [
        "pv_col = [col for col in df.columns if \"pv\" in col]\n",
        "\n",
        "df[\"pv_avg\"] = df[pv_col].mean(axis=1, skipna=False)\n",
        "df.head()\n",
        "\n"
      ],
      "execution_count": null,
      "outputs": [
        {
          "output_type": "execute_result",
          "data": {
            "text/html": [
              "<div>\n",
              "<style scoped>\n",
              "    .dataframe tbody tr th:only-of-type {\n",
              "        vertical-align: middle;\n",
              "    }\n",
              "\n",
              "    .dataframe tbody tr th {\n",
              "        vertical-align: top;\n",
              "    }\n",
              "\n",
              "    .dataframe thead th {\n",
              "        text-align: right;\n",
              "    }\n",
              "</style>\n",
              "<table border=\"1\" class=\"dataframe\">\n",
              "  <thead>\n",
              "    <tr style=\"text-align: right;\">\n",
              "      <th></th>\n",
              "      <th>DE_KN_industrial1_pv_1</th>\n",
              "      <th>DE_KN_industrial1_pv_2</th>\n",
              "      <th>DE_KN_industrial2_pv</th>\n",
              "      <th>DE_KN_industrial3_pv_facade</th>\n",
              "      <th>DE_KN_industrial3_pv_roof</th>\n",
              "      <th>DE_KN_residential1_pv</th>\n",
              "      <th>DE_KN_residential3_pv</th>\n",
              "      <th>DE_KN_residential4_pv</th>\n",
              "      <th>DE_KN_residential6_pv</th>\n",
              "      <th>radiation_surface</th>\n",
              "      <th>pv_avg</th>\n",
              "    </tr>\n",
              "    <tr>\n",
              "      <th>utc_timestamp</th>\n",
              "      <th></th>\n",
              "      <th></th>\n",
              "      <th></th>\n",
              "      <th></th>\n",
              "      <th></th>\n",
              "      <th></th>\n",
              "      <th></th>\n",
              "      <th></th>\n",
              "      <th></th>\n",
              "      <th></th>\n",
              "      <th></th>\n",
              "    </tr>\n",
              "  </thead>\n",
              "  <tbody>\n",
              "    <tr>\n",
              "      <th>2016-02-01 05:00:00+00:00</th>\n",
              "      <td>0.00</td>\n",
              "      <td>0.000</td>\n",
              "      <td>0.000</td>\n",
              "      <td>0.000</td>\n",
              "      <td>0.000</td>\n",
              "      <td>0.000</td>\n",
              "      <td>0.0</td>\n",
              "      <td>0.000</td>\n",
              "      <td>0.000</td>\n",
              "      <td>0.000</td>\n",
              "      <td>0.000000</td>\n",
              "    </tr>\n",
              "    <tr>\n",
              "      <th>2016-02-01 06:00:00+00:00</th>\n",
              "      <td>0.00</td>\n",
              "      <td>0.000</td>\n",
              "      <td>0.000</td>\n",
              "      <td>0.000</td>\n",
              "      <td>0.000</td>\n",
              "      <td>0.000</td>\n",
              "      <td>0.0</td>\n",
              "      <td>0.000</td>\n",
              "      <td>0.000</td>\n",
              "      <td>0.467</td>\n",
              "      <td>0.000000</td>\n",
              "    </tr>\n",
              "    <tr>\n",
              "      <th>2016-02-01 07:00:00+00:00</th>\n",
              "      <td>0.00</td>\n",
              "      <td>0.000</td>\n",
              "      <td>0.692</td>\n",
              "      <td>0.067</td>\n",
              "      <td>0.007</td>\n",
              "      <td>0.291</td>\n",
              "      <td>0.0</td>\n",
              "      <td>0.367</td>\n",
              "      <td>0.000</td>\n",
              "      <td>31.309</td>\n",
              "      <td>0.158222</td>\n",
              "    </tr>\n",
              "    <tr>\n",
              "      <th>2016-02-01 08:00:00+00:00</th>\n",
              "      <td>0.02</td>\n",
              "      <td>0.000</td>\n",
              "      <td>2.712</td>\n",
              "      <td>0.813</td>\n",
              "      <td>0.063</td>\n",
              "      <td>1.258</td>\n",
              "      <td>0.0</td>\n",
              "      <td>1.628</td>\n",
              "      <td>0.038</td>\n",
              "      <td>112.503</td>\n",
              "      <td>0.725778</td>\n",
              "    </tr>\n",
              "    <tr>\n",
              "      <th>2016-02-01 09:00:00+00:00</th>\n",
              "      <td>0.32</td>\n",
              "      <td>0.195</td>\n",
              "      <td>3.113</td>\n",
              "      <td>3.284</td>\n",
              "      <td>0.135</td>\n",
              "      <td>1.677</td>\n",
              "      <td>0.0</td>\n",
              "      <td>1.813</td>\n",
              "      <td>0.607</td>\n",
              "      <td>208.440</td>\n",
              "      <td>1.238222</td>\n",
              "    </tr>\n",
              "  </tbody>\n",
              "</table>\n",
              "</div>"
            ],
            "text/plain": [
              "                           DE_KN_industrial1_pv_1  ...    pv_avg\n",
              "utc_timestamp                                      ...          \n",
              "2016-02-01 05:00:00+00:00                    0.00  ...  0.000000\n",
              "2016-02-01 06:00:00+00:00                    0.00  ...  0.000000\n",
              "2016-02-01 07:00:00+00:00                    0.00  ...  0.158222\n",
              "2016-02-01 08:00:00+00:00                    0.02  ...  0.725778\n",
              "2016-02-01 09:00:00+00:00                    0.32  ...  1.238222\n",
              "\n",
              "[5 rows x 11 columns]"
            ]
          },
          "metadata": {},
          "execution_count": 49
        }
      ]
    },
    {
      "cell_type": "code",
      "metadata": {
        "colab": {
          "base_uri": "https://localhost:8080/",
          "height": 450
        },
        "id": "JN4oI-fFzDfu",
        "outputId": "eafb2bbe-4eac-47f1-ee85-f8bfcdb58ba8"
      },
      "source": [
        "df2 = df[['pv_avg','radiation_surface']]\n",
        "df2"
      ],
      "execution_count": null,
      "outputs": [
        {
          "output_type": "execute_result",
          "data": {
            "text/html": [
              "<div>\n",
              "<style scoped>\n",
              "    .dataframe tbody tr th:only-of-type {\n",
              "        vertical-align: middle;\n",
              "    }\n",
              "\n",
              "    .dataframe tbody tr th {\n",
              "        vertical-align: top;\n",
              "    }\n",
              "\n",
              "    .dataframe thead th {\n",
              "        text-align: right;\n",
              "    }\n",
              "</style>\n",
              "<table border=\"1\" class=\"dataframe\">\n",
              "  <thead>\n",
              "    <tr style=\"text-align: right;\">\n",
              "      <th></th>\n",
              "      <th>pv_avg</th>\n",
              "      <th>radiation_surface</th>\n",
              "    </tr>\n",
              "    <tr>\n",
              "      <th>utc_timestamp</th>\n",
              "      <th></th>\n",
              "      <th></th>\n",
              "    </tr>\n",
              "  </thead>\n",
              "  <tbody>\n",
              "    <tr>\n",
              "      <th>2016-02-01 05:00:00+00:00</th>\n",
              "      <td>0.000000</td>\n",
              "      <td>0.000</td>\n",
              "    </tr>\n",
              "    <tr>\n",
              "      <th>2016-02-01 06:00:00+00:00</th>\n",
              "      <td>0.000000</td>\n",
              "      <td>0.467</td>\n",
              "    </tr>\n",
              "    <tr>\n",
              "      <th>2016-02-01 07:00:00+00:00</th>\n",
              "      <td>0.158222</td>\n",
              "      <td>31.309</td>\n",
              "    </tr>\n",
              "    <tr>\n",
              "      <th>2016-02-01 08:00:00+00:00</th>\n",
              "      <td>0.725778</td>\n",
              "      <td>112.503</td>\n",
              "    </tr>\n",
              "    <tr>\n",
              "      <th>2016-02-01 09:00:00+00:00</th>\n",
              "      <td>1.238222</td>\n",
              "      <td>208.440</td>\n",
              "    </tr>\n",
              "    <tr>\n",
              "      <th>...</th>\n",
              "      <td>...</td>\n",
              "      <td>...</td>\n",
              "    </tr>\n",
              "    <tr>\n",
              "      <th>2018-01-31 15:00:00+00:00</th>\n",
              "      <td>0.061222</td>\n",
              "      <td>51.763</td>\n",
              "    </tr>\n",
              "    <tr>\n",
              "      <th>2018-01-31 16:00:00+00:00</th>\n",
              "      <td>0.001111</td>\n",
              "      <td>0.060</td>\n",
              "    </tr>\n",
              "    <tr>\n",
              "      <th>2018-01-31 17:00:00+00:00</th>\n",
              "      <td>0.000000</td>\n",
              "      <td>0.000</td>\n",
              "    </tr>\n",
              "    <tr>\n",
              "      <th>2018-01-31 18:00:00+00:00</th>\n",
              "      <td>0.000000</td>\n",
              "      <td>0.000</td>\n",
              "    </tr>\n",
              "    <tr>\n",
              "      <th>2018-01-31 19:00:00+00:00</th>\n",
              "      <td>0.000000</td>\n",
              "      <td>0.000</td>\n",
              "    </tr>\n",
              "  </tbody>\n",
              "</table>\n",
              "<p>10965 rows × 2 columns</p>\n",
              "</div>"
            ],
            "text/plain": [
              "                             pv_avg  radiation_surface\n",
              "utc_timestamp                                         \n",
              "2016-02-01 05:00:00+00:00  0.000000              0.000\n",
              "2016-02-01 06:00:00+00:00  0.000000              0.467\n",
              "2016-02-01 07:00:00+00:00  0.158222             31.309\n",
              "2016-02-01 08:00:00+00:00  0.725778            112.503\n",
              "2016-02-01 09:00:00+00:00  1.238222            208.440\n",
              "...                             ...                ...\n",
              "2018-01-31 15:00:00+00:00  0.061222             51.763\n",
              "2018-01-31 16:00:00+00:00  0.001111              0.060\n",
              "2018-01-31 17:00:00+00:00  0.000000              0.000\n",
              "2018-01-31 18:00:00+00:00  0.000000              0.000\n",
              "2018-01-31 19:00:00+00:00  0.000000              0.000\n",
              "\n",
              "[10965 rows x 2 columns]"
            ]
          },
          "metadata": {},
          "execution_count": 50
        }
      ]
    },
    {
      "cell_type": "code",
      "metadata": {
        "id": "UPqG1SH7rrtO"
      },
      "source": [
        "pip install statsmodels --upgrade"
      ],
      "execution_count": null,
      "outputs": []
    },
    {
      "cell_type": "code",
      "metadata": {
        "id": "leIdY_bwt_lP"
      },
      "source": [
        "%matplotlib inline\n",
        "\n",
        "# Import Statsmodels\n",
        "from statsmodels.tsa.api import VAR\n",
        "from statsmodels.tsa.stattools import adfuller\n",
        "from statsmodels.tools.eval_measures import rmse, aic"
      ],
      "execution_count": null,
      "outputs": []
    },
    {
      "cell_type": "code",
      "metadata": {
        "id": "ztWVPLT1v8Jk"
      },
      "source": [
        "fig, axes = plt.subplots(nrows=1, ncols=2, dpi=120, figsize=(10,6))\n",
        "for i, ax in enumerate(axes.flatten()):\n",
        "    data = df2[df2.columns[i]]\n",
        "    ax.plot(data, color='red', linewidth=1)\n",
        "    # Decorations\n",
        "    ax.set_title(df.columns[i])\n",
        "    ax.xaxis.set_ticks_position('none')\n",
        "    ax.yaxis.set_ticks_position('none')\n",
        "    ax.spines[\"top\"].set_alpha(0)\n",
        "    ax.tick_params(labelsize=6)\n",
        "\n",
        "plt.tight_layout();"
      ],
      "execution_count": null,
      "outputs": []
    },
    {
      "cell_type": "code",
      "metadata": {
        "colab": {
          "base_uri": "https://localhost:8080/"
        },
        "id": "L6J29Bzg3o6W",
        "outputId": "9113238c-2d34-4408-d285-fa6b9d937c68"
      },
      "source": [
        "pip install statsmodels --upgrade"
      ],
      "execution_count": null,
      "outputs": [
        {
          "output_type": "stream",
          "name": "stdout",
          "text": [
            "Requirement already satisfied: statsmodels in /usr/local/lib/python3.7/dist-packages (0.13.0)\n",
            "Requirement already satisfied: scipy>=1.3 in /usr/local/lib/python3.7/dist-packages (from statsmodels) (1.4.1)\n",
            "Requirement already satisfied: patsy>=0.5.2 in /usr/local/lib/python3.7/dist-packages (from statsmodels) (0.5.2)\n",
            "Requirement already satisfied: numpy>=1.17 in /usr/local/lib/python3.7/dist-packages (from statsmodels) (1.19.5)\n",
            "Requirement already satisfied: pandas>=0.25 in /usr/local/lib/python3.7/dist-packages (from statsmodels) (1.1.5)\n",
            "Requirement already satisfied: pytz>=2017.2 in /usr/local/lib/python3.7/dist-packages (from pandas>=0.25->statsmodels) (2018.9)\n",
            "Requirement already satisfied: python-dateutil>=2.7.3 in /usr/local/lib/python3.7/dist-packages (from pandas>=0.25->statsmodels) (2.8.2)\n",
            "Requirement already satisfied: six in /usr/local/lib/python3.7/dist-packages (from patsy>=0.5.2->statsmodels) (1.15.0)\n"
          ]
        }
      ]
    },
    {
      "cell_type": "code",
      "metadata": {
        "colab": {
          "base_uri": "https://localhost:8080/",
          "height": 235
        },
        "id": "lCu-ZLIT46A_",
        "outputId": "31e3aa8c-dd61-48a1-bb7a-7af209514350"
      },
      "source": [
        "df2.head()"
      ],
      "execution_count": null,
      "outputs": [
        {
          "output_type": "execute_result",
          "data": {
            "text/html": [
              "<div>\n",
              "<style scoped>\n",
              "    .dataframe tbody tr th:only-of-type {\n",
              "        vertical-align: middle;\n",
              "    }\n",
              "\n",
              "    .dataframe tbody tr th {\n",
              "        vertical-align: top;\n",
              "    }\n",
              "\n",
              "    .dataframe thead th {\n",
              "        text-align: right;\n",
              "    }\n",
              "</style>\n",
              "<table border=\"1\" class=\"dataframe\">\n",
              "  <thead>\n",
              "    <tr style=\"text-align: right;\">\n",
              "      <th></th>\n",
              "      <th>pv_avg</th>\n",
              "      <th>radiation_surface</th>\n",
              "    </tr>\n",
              "    <tr>\n",
              "      <th>utc_timestamp</th>\n",
              "      <th></th>\n",
              "      <th></th>\n",
              "    </tr>\n",
              "  </thead>\n",
              "  <tbody>\n",
              "    <tr>\n",
              "      <th>2016-02-01 05:00:00+00:00</th>\n",
              "      <td>0.000000</td>\n",
              "      <td>0.000</td>\n",
              "    </tr>\n",
              "    <tr>\n",
              "      <th>2016-02-01 06:00:00+00:00</th>\n",
              "      <td>0.000000</td>\n",
              "      <td>0.467</td>\n",
              "    </tr>\n",
              "    <tr>\n",
              "      <th>2016-02-01 07:00:00+00:00</th>\n",
              "      <td>0.158222</td>\n",
              "      <td>31.309</td>\n",
              "    </tr>\n",
              "    <tr>\n",
              "      <th>2016-02-01 08:00:00+00:00</th>\n",
              "      <td>0.725778</td>\n",
              "      <td>112.503</td>\n",
              "    </tr>\n",
              "    <tr>\n",
              "      <th>2016-02-01 09:00:00+00:00</th>\n",
              "      <td>1.238222</td>\n",
              "      <td>208.440</td>\n",
              "    </tr>\n",
              "  </tbody>\n",
              "</table>\n",
              "</div>"
            ],
            "text/plain": [
              "                             pv_avg  radiation_surface\n",
              "utc_timestamp                                         \n",
              "2016-02-01 05:00:00+00:00  0.000000              0.000\n",
              "2016-02-01 06:00:00+00:00  0.000000              0.467\n",
              "2016-02-01 07:00:00+00:00  0.158222             31.309\n",
              "2016-02-01 08:00:00+00:00  0.725778            112.503\n",
              "2016-02-01 09:00:00+00:00  1.238222            208.440"
            ]
          },
          "metadata": {},
          "execution_count": 18
        }
      ]
    },
    {
      "cell_type": "code",
      "metadata": {
        "colab": {
          "base_uri": "https://localhost:8080/"
        },
        "id": "5Ve0gwcR1vhU",
        "outputId": "83f3a763-4059-41c4-fd19-2f453222c8ca"
      },
      "source": [
        "#creating the train and validation set\n",
        "train = df2[:int(0.8*(len(df2)))]\n",
        "valid = df2[int(0.8*(len(df2))):]\n",
        "\n",
        "\n",
        "#fit the model\n",
        "from statsmodels.tsa.vector_ar.var_model import VAR\n",
        "from statsmodels.tsa.vector_ar.var_model import forecast\n",
        "\n",
        "model = VAR(endog=train)\n",
        "model_fit = model.fit()\n",
        "\n",
        "model_fit.params\n",
        "#print(model_fit)\n",
        "\n",
        "# make prediction on validation\n",
        "prediction = model_fit.forecast(model.y, steps=len(valid))\n",
        "\n",
        "for_solar = prediction[:,0]\n",
        "print(len(for_solar))\n",
        "#plt.plot(for_solar)"
      ],
      "execution_count": null,
      "outputs": [
        {
          "output_type": "stream",
          "name": "stdout",
          "text": [
            "2193\n"
          ]
        },
        {
          "output_type": "stream",
          "name": "stderr",
          "text": [
            "/usr/local/lib/python3.7/dist-packages/statsmodels/tsa/base/tsa_model.py:595: ValueWarning: A date index has been provided, but it has no associated frequency information and so will be ignored when e.g. forecasting.\n",
            "  ' ignored when e.g. forecasting.', ValueWarning)\n",
            "/usr/local/lib/python3.7/dist-packages/ipykernel_launcher.py:17: FutureWarning: y is a deprecated alias for endog, will be removed in version 0.11.0\n"
          ]
        }
      ]
    },
    {
      "cell_type": "code",
      "metadata": {
        "colab": {
          "base_uri": "https://localhost:8080/"
        },
        "id": "wviarqpk5-5p",
        "outputId": "cae5a3de-f548-41f6-e5d0-d4bc6e6f89d5"
      },
      "source": [
        "#converting predictions to dataframe\n",
        "\n",
        "from sklearn.metrics import mean_squared_error\n",
        "\n",
        "pred = pd.DataFrame(index=range(0,len(prediction)),columns=df2.columns)\n",
        "for j in range(0,2):\n",
        "    for i in range(0, len(prediction)):\n",
        "       pred.iloc[i][j] = prediction[i][j]\n",
        "\n",
        "#check rmse\n",
        "for i in df2.columns:\n",
        "    print('mse value for', i, 'is : ', mean_squared_error(pred[i], valid[i]))"
      ],
      "execution_count": null,
      "outputs": [
        {
          "output_type": "stream",
          "name": "stdout",
          "text": [
            "mse value for pv_avg is :  1.5555488039461862\n",
            "mse value for radiation_surface is :  48571.18061973803\n"
          ]
        }
      ]
    },
    {
      "cell_type": "code",
      "metadata": {
        "colab": {
          "base_uri": "https://localhost:8080/"
        },
        "id": "koD2qjcx6jIP",
        "outputId": "43101804-ccb5-4769-dd81-cb09434fd842"
      },
      "source": [
        "#make final predictions\n",
        "model = VAR(endog=df2)\n",
        "model_fit = model.fit()\n",
        "yhat = model_fit.forecast(model.y, steps=1)\n",
        "print(yhat)\n"
      ],
      "execution_count": null,
      "outputs": [
        {
          "output_type": "stream",
          "name": "stdout",
          "text": [
            "[[-2.15771802e-03  1.57120838e+01]]\n"
          ]
        },
        {
          "output_type": "stream",
          "name": "stderr",
          "text": [
            "/usr/local/lib/python3.7/dist-packages/statsmodels/tsa/base/tsa_model.py:595: ValueWarning: A date index has been provided, but it has no associated frequency information and so will be ignored when e.g. forecasting.\n",
            "  ' ignored when e.g. forecasting.', ValueWarning)\n",
            "/usr/local/lib/python3.7/dist-packages/ipykernel_launcher.py:4: FutureWarning: y is a deprecated alias for endog, will be removed in version 0.11.0\n",
            "  after removing the cwd from sys.path.\n"
          ]
        }
      ]
    },
    {
      "cell_type": "markdown",
      "metadata": {
        "id": "spyi1BpO9Eyp"
      },
      "source": [
        "#Simple linear regression"
      ]
    },
    {
      "cell_type": "code",
      "metadata": {
        "colab": {
          "base_uri": "https://localhost:8080/"
        },
        "id": "kacLIOt99Gv_",
        "outputId": "9f6f1a61-1601-4747-a867-60ce13bffca3"
      },
      "source": [
        "from sklearn.linear_model import LinearRegression\n",
        "from sklearn.model_selection import train_test_split\n",
        "from sklearn.preprocessing import StandardScaler\n",
        "\n",
        "X = df2[\"radiation_surface\"]\n",
        "y = df2[\"pv_avg\"]\n",
        "\n",
        "print(\"Shape of X\", X.shape)\n",
        "print(\"Shape of y\", y.shape)\n",
        "\n",
        "X_reshaped = X.values.reshape(-1,1) \n",
        "print(\"Shape of X\", X_reshaped.shape) \n",
        "\n",
        "y_reshaped = y.values.reshape(-1,1)\n",
        "print(\"Shape of y\", y_reshaped.shape)\n",
        "\n",
        "\n",
        "X_train, X_test, y_train, y_test = train_test_split( X_reshaped, y_reshaped, test_size=0.3, shuffle = False)"
      ],
      "execution_count": null,
      "outputs": [
        {
          "output_type": "stream",
          "name": "stdout",
          "text": [
            "Shape of X (10965,)\n",
            "Shape of y (10965,)\n",
            "Shape of X (10965, 1)\n",
            "Shape of y (10965, 1)\n"
          ]
        }
      ]
    },
    {
      "cell_type": "code",
      "metadata": {
        "colab": {
          "base_uri": "https://localhost:8080/"
        },
        "id": "uoc4br3X9gkP",
        "outputId": "c11d4f44-6787-4170-bcec-8b1fea81e394"
      },
      "source": [
        "from sklearn import metrics\n",
        "reg = LinearRegression().fit(X_train, y_train)\n",
        "print(\"R^2 of Linear Regression on the train set =\", reg.score(X_train, y_train))\n",
        "print(\"R^2 of Linear Regression on the test set =\", reg.score(X_test, y_test))\n",
        "\n",
        "y_pred = reg.predict(X_test)\n",
        "print(\"MAE:\", metrics.mean_absolute_error(y_test,y_pred))\n",
        "print(\"MSE:\", metrics.mean_squared_error(y_test,y_pred))\n",
        "print(\"RMSE:\", np.sqrt(metrics.mean_squared_error(y_test,y_pred)))"
      ],
      "execution_count": null,
      "outputs": [
        {
          "output_type": "stream",
          "name": "stdout",
          "text": [
            "R^2 of Linear Regression on the train set = 0.6110351779778092\n",
            "R^2 of Linear Regression on the test set = -0.7909478608507283\n",
            "MAE: 0.6781532546808299\n",
            "MSE: 1.0418488291732313\n",
            "RMSE: 1.0207099632967396\n"
          ]
        }
      ]
    }
  ]
}