{
  "nbformat": 4,
  "nbformat_minor": 0,
  "metadata": {
    "colab": {
      "name": "ConvLSTM_2_Germany.ipynb",
      "provenance": [],
      "authorship_tag": "ABX9TyMvgE84WnxDPlas45HJ0yBq",
      "include_colab_link": true
    },
    "kernelspec": {
      "name": "python3",
      "display_name": "Python 3"
    },
    "language_info": {
      "name": "python"
    }
  },
  "cells": [
    {
      "cell_type": "markdown",
      "metadata": {
        "id": "view-in-github",
        "colab_type": "text"
      },
      "source": [
        "<a href=\"https://colab.research.google.com/github/Nargiz-chess/Solar_forecasting/blob/main/ConvLSTM_2_Germany.ipynb\" target=\"_parent\"><img src=\"https://colab.research.google.com/assets/colab-badge.svg\" alt=\"Open In Colab\"/></a>"
      ]
    },
    {
      "cell_type": "code",
      "metadata": {
        "colab": {
          "base_uri": "https://localhost:8080/"
        },
        "id": "K3AQ-9lpcQ8Z",
        "outputId": "9f8732c8-4062-4c5a-8a3d-c135a54bafcf"
      },
      "source": [
        "#Mount google drive\n",
        "from google.colab import drive\n",
        "drive.mount('/content/drive')\n",
        "\n",
        "from pandas import read_csv\n",
        "import pandas as pd\n",
        "import datetime as dt\n",
        "import matplotlib\n",
        "from sklearn.linear_model import LinearRegression\n",
        "import numpy as np\n",
        "from sklearn import metrics\n",
        "import matplotlib.pyplot as plt\n",
        "\n",
        "from sklearn.preprocessing import MinMaxScaler\n",
        "\n",
        "# multivariate multi-step encoder-decoder lstm\n",
        "from math import sqrt\n",
        "from numpy import split\n",
        "from numpy import array\n",
        "from pandas import read_csv\n",
        "from sklearn.metrics import mean_squared_error\n",
        "from matplotlib import pyplot\n",
        "from keras.models import Sequential\n",
        "from keras.layers import Dense\n",
        "from keras.layers import Flatten\n",
        "from keras.layers import LSTM\n",
        "from keras.layers import RepeatVector\n",
        "from keras.layers import TimeDistributed\n",
        "from keras.layers import ConvLSTM2D\n",
        "\n"
      ],
      "execution_count": null,
      "outputs": [
        {
          "output_type": "stream",
          "name": "stdout",
          "text": [
            "Drive already mounted at /content/drive; to attempt to forcibly remount, call drive.mount(\"/content/drive\", force_remount=True).\n"
          ]
        }
      ]
    },
    {
      "cell_type": "code",
      "metadata": {
        "id": "R5uZwVb9ctK_"
      },
      "source": [
        "path1 = '/content/drive/MyDrive/Master_thesis/Datasets/Gerdata_clean.csv'\n",
        "path2 = '/content/drive/MyDrive/Master_thesis/Datasets/irradiance.csv'"
      ],
      "execution_count": null,
      "outputs": []
    },
    {
      "cell_type": "code",
      "metadata": {
        "id": "tWgorXM6cw2H"
      },
      "source": [
        "df1 = read_csv(path1, header =0, index_col=0) \n",
        "array = df1.values\n",
        "Gerdata = array.reshape(array.shape[0]*array.shape[1], order=\"F\")"
      ],
      "execution_count": null,
      "outputs": []
    },
    {
      "cell_type": "code",
      "metadata": {
        "id": "i4zRYj1Bc3Kk"
      },
      "source": [
        "df2=read_csv(path2, header =0, index_col=0) \n",
        "df2=df2.drop(\"local_time\", axis=1)\n",
        "array2 = df2.values\n",
        "weath_data = array2.reshape(array2.shape[0]*array2.shape[1])\n"
      ],
      "execution_count": null,
      "outputs": []
    },
    {
      "cell_type": "code",
      "metadata": {
        "id": "NqhFZ2yEdClK"
      },
      "source": [
        "#stacking irradiance 9 times to match with each house in the datset\n",
        "# weath_data = np.tile(weath_data,9)\n",
        "# data= np.column_stack((Gerdata,weath_data))\n",
        "data.shape\n",
        "data = np.nan_to_num(data)\n",
        "data = pd.DataFrame(data=data)\n",
        "\n"
      ],
      "execution_count": null,
      "outputs": []
    },
    {
      "cell_type": "code",
      "metadata": {
        "colab": {
          "base_uri": "https://localhost:8080/",
          "height": 323
        },
        "id": "Yax1mSOJCk7O",
        "outputId": "936a4bde-ea13-4775-fe38-53214d3e2a50"
      },
      "source": [
        "from numpy import split\n",
        "\n",
        "\n",
        "# split a univariate dataset into train/test sets\n",
        "def split_dataset(data):\n",
        "  # split into standard weeks\n",
        "  train, test = data[:-90], data[-90:]\n",
        "  # restructure into windows of weekly data\n",
        "  train = array(split(train, len(train)/18))\n",
        "  test = array(split(test, len(test)/18))\n",
        "  return train, test\n",
        "\n",
        "# evaluate one or more weekly forecasts against expected values\n",
        "def evaluate_forecasts(actual, predicted):\n",
        "  scores = list()\n",
        "  # calculate an RMSE score for each day\n",
        "  for i in range(actual.shape[1]):\n",
        "    # calculate mse\n",
        "    mse = mean_squared_error(actual[:, i], predicted[:, i])\n",
        "    # calculate rmse\n",
        "    rmse = sqrt(mse)\n",
        "    # store\n",
        "    scores.append(rmse)\n",
        "  # calculate overall RMSE\n",
        "  s = 0\n",
        "  for row in range(actual.shape[0]):\n",
        "    for col in range(actual.shape[1]):\n",
        "      s += (actual[row, col] - predicted[row, col])**2\n",
        "  score = sqrt(s / (actual.shape[0] * actual.shape[1]))\n",
        "  return score, scores\n",
        "\n",
        "# summarize scores\n",
        "def summarize_scores(name, score, scores):\n",
        "  s_scores = ', '.join(['%.1f' % s for s in scores])\n",
        "  print('%s: [%.3f] %s' % (name, score, s_scores))\n",
        "  \n",
        "# convert history into inputs and outputs\n",
        "def to_supervised(train, n_input, n_out=18):\n",
        "  # flatten data\n",
        "  data = train.reshape((train.shape[0]*train.shape[1], train.shape[2]))\n",
        "  X, y = list(), list()\n",
        "  in_start = 0\n",
        "  # step over the entire history one time step at a time\n",
        "  for _ in range(len(data)):\n",
        "    # define the end of the input sequence\n",
        "    in_end = in_start + n_input\n",
        "    out_end = in_end + n_out\n",
        "    # ensure we have enough data for this instance\n",
        "    # Here we are dividing the data differently because we are working with a multivariate dataset (It contains more variables) \n",
        "    if out_end < len(data):\n",
        "      X.append(data[in_start:in_end, :])\n",
        "      y.append(data[in_end:out_end, 0])\n",
        "    # move along one time step\n",
        "    in_start += 1\n",
        "  return array(X), array(y)\n",
        "\n",
        "# train the model\n",
        "def build_model(train, n_steps, n_length, n_input):\n",
        "  # prepare data\n",
        "  train_x, train_y = to_supervised(train, n_input)\n",
        "  # define parameters\n",
        "  verbose, epochs, batch_size = 1, 1, 54\n",
        "  n_features, n_outputs = train_x.shape[2], train_y.shape[1]\n",
        "  # reshape into subsequences [samples, timesteps, rows, cols, channels]\n",
        "  train_x = train_x.reshape((train_x.shape[0], n_steps, 1, n_length, n_features))\n",
        "  # reshape output into [samples, timesteps, features]\n",
        "  train_y = train_y.reshape((train_y.shape[0], train_y.shape[1], 1))\n",
        "  # define model\n",
        "  model = Sequential()\n",
        "  model.add(ConvLSTM2D(filters=20, kernel_size=(1,3), activation='relu',input_shape=(n_steps, 1, n_length, n_features)))\n",
        "  model.add(Flatten())\n",
        "  model.add(RepeatVector(n_outputs))\n",
        "  model.add(LSTM(20, activation='relu', return_sequences=True))\n",
        "  #model.add(LSTM(20, activation='relu', return_sequences=True))\n",
        "  model.add(TimeDistributed(Dense(100, activation='relu')))\n",
        "  model.add(TimeDistributed(Dense(1)))\n",
        "  model.compile(loss='mse', optimizer='adam')\n",
        "  # fit network\n",
        "  model.fit(train_x, train_y, epochs=epochs, batch_size=batch_size, verbose=verbose)\n",
        "  return model\n",
        "\n",
        "# make a forecast\n",
        "def forecast(model, history, n_steps, n_length, n_input):\n",
        "  # flatten data\n",
        "  data = array(history)\n",
        "  data = data.reshape((data.shape[0]*data.shape[1], data.shape[2]))\n",
        "  # retrieve last observations for input data\n",
        "  input_x = data[-n_input:, :]\n",
        "  # reshape into [samples, timesteps, rows, cols, channels]\n",
        "  input_x = input_x.reshape((1, n_steps, 1, n_length, 2))\n",
        "  # forecast the next week\n",
        "  yhat = model.predict(input_x, verbose=0)\n",
        "  # we only want the vector forecast\n",
        "  yhat = yhat[0]\n",
        "  return yhat\n",
        "\n",
        "# evaluate a single model\n",
        "def evaluate_model(train, test, n_steps, n_length, n_input):\n",
        "  # fit model\n",
        "  model = build_model(train, n_steps, n_length, n_input)\n",
        "  # history is a list of weekly data\n",
        "  history = [x for x in train]\n",
        "  # walk-forward validation over each week\n",
        "  predictions = list()\n",
        "  for i in range(len(test)):\n",
        "    # predict the week\n",
        "    yhat_sequence = forecast(model, history, n_steps, n_length, n_input)\n",
        "    # store the predictions\n",
        "    predictions.append(yhat_sequence)\n",
        "    # get real observation and add to history for predicting the next week\n",
        "    history.append(test[i, :])\n",
        "  # evaluate predictions days for each week\n",
        "  predictions = array(predictions)\n",
        "  score, scores = evaluate_forecasts(test[:, :, 0], predictions)\n",
        "  return score, scores,predictions\n",
        "\n",
        "\n",
        "# split into train and test\n",
        "train, test = split_dataset(data.values)\n",
        "# define the number of subsequences and the length of subsequences\n",
        "n_steps, n_length = 5, 18\n",
        "# define the total days to use as input\n",
        "n_input = n_length * n_steps\n",
        "score, scores,predictions = evaluate_model(train, test, n_steps, n_length, n_input)\n",
        "# summarize scores\n",
        "summarize_scores('lstm', score, scores)\n",
        "# # plot scores\n",
        "\n",
        "hours = [x for x in range(1,19)]\n",
        "# hours = [str(x) for x in range(1,19)]\n",
        "pyplot.plot(hours, scores, marker='o', label='lstm')\n",
        "pyplot.show()\n"
      ],
      "execution_count": null,
      "outputs": [
        {
          "output_type": "stream",
          "name": "stdout",
          "text": [
            "1095/1095 [==============================] - 54s 45ms/step - loss: 51.3384\n",
            "lstm: [1.576] 1.2, 1.2, 1.2, 1.1, 1.0, 0.9, 1.6, 2.3, 2.9, 2.9, 2.1, 0.8, 1.2, 1.1, 1.2, 1.1, 1.2, 1.1\n"
          ]
        },
        {
          "output_type": "display_data",
          "data": {
            "image/png": "[encoded data removed]",
            "text/plain": [
              "<Figure size 432x288 with 1 Axes>"
            ]
          },
          "metadata": {
            "needs_background": "light"
          }
        }
      ]
    }
  ]
}