{
  "nbformat": 4,
  "nbformat_minor": 0,
  "metadata": {
    "colab": {
      "name": "ConvLSTM_AUSTRALIA.ipynb",
      "provenance": [],
      "collapsed_sections": [],
      "include_colab_link": true
    },
    "kernelspec": {
      "display_name": "Python 3",
      "name": "python3"
    },
    "language_info": {
      "name": "python"
    }
  },
  "cells": [
    {
      "cell_type": "markdown",
      "metadata": {
        "id": "view-in-github",
        "colab_type": "text"
      },
      "source": [
        "<a href=\"https://colab.research.google.com/github/Nargiz-chess/Solar_forecasting/blob/main/ConvLSTM_AUSTRALIA.ipynb\" target=\"_parent\"><img src=\"https://colab.research.google.com/assets/colab-badge.svg\" alt=\"Open In Colab\"/></a>"
      ]
    },
    {
      "cell_type": "code",
      "metadata": {
        "id": "K3AQ-9lpcQ8Z",
        "colab": {
          "base_uri": "https://localhost:8080/"
        },
        "outputId": "23d06c0a-ca22-4ee9-d591-940c4b07d7f4"
      },
      "source": [
        "#Mount google drive\n",
        "from google.colab import drive\n",
        "drive.mount('/content/drive')\n",
        "\n",
        "from pandas import read_csv\n",
        "import pandas as pd\n",
        "import datetime as dt\n",
        "import matplotlib\n",
        "from sklearn.linear_model import LinearRegression\n",
        "import numpy as np\n",
        "from sklearn import metrics\n",
        "import matplotlib.pyplot as plt\n",
        "\n",
        "from sklearn.preprocessing import MinMaxScaler\n",
        "\n",
        "# multivariate multi-step encoder-decoder lstm\n",
        "from math import sqrt\n",
        "from numpy import split\n",
        "from numpy import array\n",
        "from pandas import read_csv\n",
        "from sklearn.metrics import mean_squared_error\n",
        "from matplotlib import pyplot\n",
        "from keras.models import Sequential\n",
        "from keras.layers import Dense\n",
        "from keras.layers import Flatten\n",
        "from keras.layers import LSTM\n",
        "from keras.layers import RepeatVector\n",
        "from keras.layers import TimeDistributed\n",
        "from keras.layers import ConvLSTM2D\n",
        "from tensorflow.keras.callbacks import EarlyStopping\n",
        "from keras.callbacks import ModelCheckpoint\n",
        "\n"
      ],
      "execution_count": 1,
      "outputs": [
        {
          "output_type": "stream",
          "name": "stdout",
          "text": [
            "Drive already mounted at /content/drive; to attempt to forcibly remount, call drive.mount(\"/content/drive\", force_remount=True).\n"
          ]
        }
      ]
    },
    {
      "cell_type": "code",
      "metadata": {
        "id": "R5uZwVb9ctK_"
      },
      "source": [
        "path1 = '/content/drive/MyDrive/Master_thesis/Datasets/Australia_numpy_removed_night_hours.npy'\n",
        "path2 = '/content/drive/MyDrive/Master_thesis/Datasets/irradiance_AUS(2012-2013).csv'"
      ],
      "execution_count": null,
      "outputs": []
    },
    {
      "cell_type": "code",
      "metadata": {
        "colab": {
          "base_uri": "https://localhost:8080/"
        },
        "id": "tWgorXM6cw2H",
        "outputId": "e85364d6-ab34-4efb-8a70-a23265f005a1"
      },
      "source": [
        "array = np.loadtxt(path1)\n",
        "print(\"Shape before reshape\",np.shape(array))\n",
        "AUS_data = array.reshape(array.shape[0]*array.shape[1], order=\"F\")\n",
        "print(\"Shape after reshape\",np.shape(AUS_data))"
      ],
      "execution_count": null,
      "outputs": [
        {
          "output_type": "stream",
          "name": "stdout",
          "text": [
            "Shape before reshape (6570, 299)\n",
            "Shape after reshape (1964430,)\n"
          ]
        }
      ]
    },
    {
      "cell_type": "code",
      "metadata": {
        "colab": {
          "base_uri": "https://localhost:8080/"
        },
        "id": "i4zRYj1Bc3Kk",
        "outputId": "03d55259-6844-416e-8796-caa6119f9471"
      },
      "source": [
        "df2=read_csv(path2, header =0, index_col=0) \n",
        "df2.shape\n",
        "df2=df2.drop(\"time\", axis=1)\n",
        "array2 = df2.values\n",
        "weath_data = array2.reshape(array2.shape[0]*array2.shape[1])\n",
        "print(\"Shape of Aus data = \", AUS_data.shape, \"\\n\",\"Shape of weather data = \", weath_data.shape )\n"
      ],
      "execution_count": null,
      "outputs": [
        {
          "name": "stdout",
          "output_type": "stream",
          "text": [
            "Shape of Aus data =  (1964430,) \n",
            " Shape of weather data =  (6570,)\n"
          ]
        }
      ]
    },
    {
      "cell_type": "code",
      "metadata": {
        "colab": {
          "base_uri": "https://localhost:8080/"
        },
        "id": "NqhFZ2yEdClK",
        "outputId": "a9c32ec6-fe95-4736-e2ac-aa67603a4760"
      },
      "source": [
        "#stacking irradiance as many times as there are houses in the dataset to match with each house in the datset\n",
        "\n",
        "# weath_data_stacked = np.tile(weath_data,299)\n",
        "# weath_data_stacked.shape\n",
        "# data= np.column_stack((AUS_data,weath_data_stacked))\n",
        "# data.shape\n",
        "# data = np.nan_to_num(data)\n",
        "# data = pd.DataFrame(data=data)\n",
        "data.shape\n"
      ],
      "execution_count": null,
      "outputs": [
        {
          "data": {
            "text/plain": [
              "(1964430, 2)"
            ]
          },
          "execution_count": 7,
          "metadata": {},
          "output_type": "execute_result"
        }
      ]
    },
    {
      "cell_type": "code",
      "metadata": {
        "id": "Yax1mSOJCk7O"
      },
      "source": [
        "from numpy import split\n",
        "from numpy import array\n",
        "\n",
        "\n",
        "# split a univariate dataset into train/test sets\n",
        "def split_dataset(data):\n",
        "  # split into standard weeks\n",
        "  train, test = data[:-90], data[-90:]\n",
        "  # restructure into windows of weekly data\n",
        "  train = array(split(train, len(train)/18))\n",
        "  test = array(split(test, len(test)/18))\n",
        "  return train, test\n",
        "\n",
        "# evaluate one or more weekly forecasts against expected values\n",
        "def evaluate_forecasts(actual, predicted):\n",
        "  scores = list()\n",
        "  # calculate an RMSE score for each day\n",
        "  for i in range(actual.shape[1]):\n",
        "    # calculate mse\n",
        "    mse = mean_squared_error(actual[:, i], predicted[:, i])\n",
        "    # calculate rmse\n",
        "    rmse = sqrt(mse)\n",
        "    # store\n",
        "    scores.append(rmse)\n",
        "  # calculate overall RMSE\n",
        "  s = 0\n",
        "  for row in range(actual.shape[0]):\n",
        "    for col in range(actual.shape[1]):\n",
        "      s += (actual[row, col] - predicted[row, col])**2\n",
        "  score = sqrt(s / (actual.shape[0] * actual.shape[1]))\n",
        "  return score, scores\n",
        "\n",
        "# summarize scores\n",
        "def summarize_scores(name, score, scores):\n",
        "  s_scores = ', '.join(['%.1f' % s for s in scores])\n",
        "  print('%s: [%.3f] %s' % (name, score, s_scores))\n",
        "  \n",
        "# convert history into inputs and outputs\n",
        "def to_supervised(train, n_input, n_out=18):\n",
        "  # flatten data\n",
        "  data = train.reshape((train.shape[0]*train.shape[1], train.shape[2]))\n",
        "  X, y = list(), list()\n",
        "  in_start = 0\n",
        "  # step over the entire history one time step at a time\n",
        "  for _ in range(len(data)):\n",
        "    # define the end of the input sequence\n",
        "    in_end = in_start + n_input\n",
        "    out_end = in_end + n_out\n",
        "    # ensure we have enough data for this instance\n",
        "    # Here we are dividing the data differently because we are working with a multivariate dataset (It contains more variables) \n",
        "    if out_end < len(data):\n",
        "      X.append(data[in_start:in_end, :])\n",
        "      y.append(data[in_end:out_end, 0])\n",
        "    # move along one time step\n",
        "    in_start += 1\n",
        "  return array(X), array(y)\n",
        "\n",
        "# train the model\n",
        "def build_model(train, n_steps, n_length, n_input):\n",
        "  # prepare data\n",
        "  train_x, train_y = to_supervised(train, n_input)\n",
        "  # define parameters\n",
        "  verbose, epochs, batch_size = 1, 1, 54\n",
        "  n_features, n_outputs = train_x.shape[2], train_y.shape[1]\n",
        "  # reshape into subsequences [samples, timesteps, rows, cols, channels]\n",
        "  train_x = train_x.reshape((train_x.shape[0], n_steps, 1, n_length, n_features))\n",
        "  # reshape output into [samples, timesteps, features]\n",
        "  train_y = train_y.reshape((train_y.shape[0], train_y.shape[1], 1))\n",
        "  # define model\n",
        "  model = Sequential()\n",
        "  model.add(ConvLSTM2D(filters=20, kernel_size=(1,3), activation='relu',input_shape=(n_steps, 1, n_length, n_features)))\n",
        "  model.add(Flatten())\n",
        "  model.add(RepeatVector(n_outputs))\n",
        "  model.add(LSTM(20, activation='relu', return_sequences=True))\n",
        "  #model.add(LSTM(20, activation='relu', return_sequences=True))\n",
        "  model.add(TimeDistributed(Dense(100, activation='relu')))\n",
        "  model.add(TimeDistributed(Dense(1)))\n",
        "  model.compile(loss='mse', optimizer='adam')\n",
        "  # fit network\n",
        "  model.fit(train_x, train_y, epochs=epochs, batch_size=batch_size, verbose=verbose)\n",
        "  return model\n",
        "\n",
        "# make a forecast\n",
        "def forecast(model, history, n_steps, n_length, n_input):\n",
        "  # flatten data\n",
        "  data = array(history)\n",
        "  data = data.reshape((data.shape[0]*data.shape[1], data.shape[2]))\n",
        "  # retrieve last observations for input data\n",
        "  input_x = data[-n_input:, :]\n",
        "  # reshape into [samples, timesteps, rows, cols, channels]\n",
        "  input_x = input_x.reshape((1, n_steps, 1, n_length, 2))\n",
        "  # forecast the next week\n",
        "  yhat = model.predict(input_x, verbose=0)\n",
        "  # we only want the vector forecast\n",
        "  yhat = yhat[0]\n",
        "  return yhat\n",
        "\n",
        "# evaluate a single model\n",
        "def evaluate_model(train, test, n_steps, n_length, n_input):\n",
        "  # fit model\n",
        "  model = build_model(train, n_steps, n_length, n_input)\n",
        "  # history is a list of 5 days data\n",
        "  history = [x for x in train]\n",
        "  # walk-forward validation over one day\n",
        "  predictions = list()\n",
        "  for i in range(len(test)):\n",
        "    # predict the next day\n",
        "    yhat_sequence = forecast(model, history, n_steps, n_length, n_input)\n",
        "    # store the predictions\n",
        "    predictions.append(yhat_sequence)\n",
        "    # get real observation and add to history for prediction\n",
        "    history.append(test[i, :])\n",
        "  # evaluate predictions days for each hour\n",
        "  predictions = array(predictions)\n",
        "  score, scores = evaluate_forecasts(test[:, :, 0], predictions)\n",
        "  return score, scores,predictions\n",
        "\n",
        "\n",
        "# # split into train and test\n",
        "# train, test = split_dataset(data.values)\n",
        "# # define the number of subsequences and the length of subsequences\n",
        "# n_steps, n_length = 5, 18\n",
        "# # define the total days to use as input\n",
        "# n_input = n_length * n_steps\n",
        "# score, scores,predictions = evaluate_model(train, test, n_steps, n_length, n_input)\n",
        "# # summarize scores\n",
        "# summarize_scores('lstm', score, scores)\n",
        "# # # plot scores\n",
        "\n",
        "# #hours = [x for x in range(1,19)]\n",
        "# hours = [str(x) for x in range(1,19)]\n",
        "# pyplot.plot(hours, scores, marker='o', label='lstm')\n",
        "# pyplot.show()\n"
      ],
      "execution_count": null,
      "outputs": []
    },
    {
      "cell_type": "code",
      "metadata": {
        "colab": {
          "base_uri": "https://localhost:8080/"
        },
        "id": "KLMDWWesBI50",
        "outputId": "7762e91d-6cb3-48a8-993f-2de989a38211"
      },
      "source": [
        "def cross_val (array, samples_division):\n",
        "  array = np.concatenate((array[-samples_division:],array[:-samples_division] ))\n",
        "  return array\n",
        "\n",
        "scores_cv = []\n",
        "for i in range(1):\n",
        "  data = cross_val(data,6570)\n",
        "  # split into train and test\n",
        "  train, test, _ = split_dataset(data)\n",
        "  # define the number of subsequences and the length of subsequences\n",
        "  n_steps, n_length = 5, 18\n",
        "  # define the total days to use as input\n",
        "  n_input = n_length * n_steps\n",
        "  score, scores,predictions = evaluate_model(train, test, n_steps, n_length, n_input)\n",
        "  # summarize scores\n",
        "  summarize_scores('lstm', score, scores)\n",
        "  scores_cv.append(scores)\n",
        "\n",
        "print(scores_cv)\n"
      ],
      "execution_count": null,
      "outputs": [
        {
          "name": "stdout",
          "output_type": "stream",
          "text": [
            "36375/36375 [==============================] - 1741s 48ms/step - loss: 2.5366\n",
            "lstm: [0.287] 0.3, 0.3, 0.3, 0.3, 0.3, 0.2, 0.1, 0.1, 0.2, 0.2, 0.2, 0.3, 0.3, 0.3, 0.3, 0.3, 0.3, 0.3\n",
            "[0. 0.]\n",
            "36375/36375 [==============================] - 1706s 47ms/step - loss: 1.9398\n",
            "lstm: [0.061] 0.0, 0.0, 0.0, 0.1, 0.1, 0.1, 0.1, 0.1, 0.1, 0.1, 0.0, 0.0, 0.0, 0.0, 0.0, 0.0, 0.0, 0.0\n",
            "[0. 0.]\n"
          ]
        }
      ]
    },
    {
      "cell_type": "markdown",
      "metadata": {
        "id": "IGgQ_tIBWKVx"
      },
      "source": [
        "# SUBSET: random 100 houses"
      ]
    },
    {
      "cell_type": "code",
      "metadata": {
        "id": "lU90sqde1Hzr"
      },
      "source": [
        "path1 = '/content/drive/MyDrive/Master_thesis/Datasets/Australia_numpy_removed_night_hours.npy'\n",
        "path2 = '/content/drive/MyDrive/Master_thesis/Datasets/irradiance_AUS(2012-2013).csv'"
      ],
      "execution_count": 2,
      "outputs": []
    },
    {
      "cell_type": "code",
      "metadata": {
        "colab": {
          "base_uri": "https://localhost:8080/"
        },
        "id": "WznTYYoPXLKU",
        "outputId": "8dd70469-72a2-45ee-bfc2-45b40c6dee21"
      },
      "source": [
        "import random\n",
        "\n",
        "random.seed(42)\n",
        "subset_col = [random.randint(0, 298) for p in range(0, 10)]\n",
        "print(subset_col)"
      ],
      "execution_count": 13,
      "outputs": [
        {
          "output_type": "stream",
          "name": "stdout",
          "text": [
            "[57, 12, 140, 125, 114, 71, 52, 279, 44, 216]\n"
          ]
        }
      ]
    },
    {
      "cell_type": "code",
      "metadata": {
        "colab": {
          "base_uri": "https://localhost:8080/"
        },
        "id": "-NmTq44pW4Ec",
        "outputId": "541fb5c1-bb3c-46e4-e761-de2806c69248"
      },
      "source": [
        "array = np.loadtxt(path1)\n",
        "print(\"Shape before reshape\",np.shape(array))\n",
        "\n",
        "array = array[:,subset_col]\n",
        "print(array.shape)"
      ],
      "execution_count": 14,
      "outputs": [
        {
          "output_type": "stream",
          "name": "stdout",
          "text": [
            "Shape before reshape (6570, 299)\n",
            "(6570, 10)\n"
          ]
        }
      ]
    },
    {
      "cell_type": "code",
      "metadata": {
        "colab": {
          "base_uri": "https://localhost:8080/"
        },
        "id": "bt2ENQcFYm5g",
        "outputId": "c79ecf9a-0dda-43db-f195-34960ecabab0"
      },
      "source": [
        "AUS_data = array.reshape(array.shape[0]*array.shape[1], order=\"F\")\n",
        "print(\"Shape after reshape\",np.shape(AUS_data))"
      ],
      "execution_count": 15,
      "outputs": [
        {
          "output_type": "stream",
          "name": "stdout",
          "text": [
            "Shape after reshape (65700,)\n"
          ]
        }
      ]
    },
    {
      "cell_type": "code",
      "metadata": {
        "colab": {
          "base_uri": "https://localhost:8080/"
        },
        "id": "UFLxPylFW_fo",
        "outputId": "679700cb-98f4-4e6a-964a-4bc4313ecf43"
      },
      "source": [
        "df2=read_csv(path2, header =0, index_col=0) \n",
        "df2.shape\n",
        "df2=df2.drop(\"time\", axis=1)\n",
        "array2 = df2.values\n",
        "weath_data = array2.reshape(array2.shape[0]*array2.shape[1])\n",
        "print(\"Shape of Aus data = \", AUS_data.shape, \"\\n\",\"Shape of weather data = \", weath_data.shape )\n"
      ],
      "execution_count": 16,
      "outputs": [
        {
          "output_type": "stream",
          "name": "stdout",
          "text": [
            "Shape of Aus data =  (65700,) \n",
            " Shape of weather data =  (6570,)\n"
          ]
        }
      ]
    },
    {
      "cell_type": "code",
      "metadata": {
        "colab": {
          "base_uri": "https://localhost:8080/"
        },
        "id": "FzzRaCDGWJ45",
        "outputId": "f709adc0-977f-4389-992f-2258efdeaf8a"
      },
      "source": [
        "#stacking irradiance as many times as there are houses in the dataset to match with each house in the datset\n",
        "\n",
        "weath_data_stacked = np.tile(weath_data,10)\n",
        "weath_data_stacked.shape\n",
        "data= np.column_stack((AUS_data,weath_data_stacked))\n",
        "data.shape\n",
        "#data = np.nan_to_num(data)\n"
      ],
      "execution_count": 17,
      "outputs": [
        {
          "output_type": "execute_result",
          "data": {
            "text/plain": [
              "(65700, 2)"
            ]
          },
          "metadata": {},
          "execution_count": 17
        }
      ]
    },
    {
      "cell_type": "code",
      "metadata": {
        "id": "_D7JWciFZN5j"
      },
      "source": [
        "from numpy import split\n",
        "from numpy import array\n",
        "from keras.callbacks import ModelCheckpoint\n",
        "\n",
        "\n",
        "# split a multivariate dataset into train/test sets\n",
        "def split_dataset(data):\n",
        "  # split \n",
        "  train, test = data[:-18], data[-18:]\n",
        "  return train, test\n",
        "\n",
        "def restructure_windows(train,test): \n",
        "  # restructure into windows\n",
        "  train = array(split(train, len(train)/18))\n",
        "  test = array(split(test, len(test)/18))\n",
        "  return train, test\n",
        "\n",
        "def scaling(train,test):\n",
        "  #scaling values\n",
        "  scalers={}\n",
        "\n",
        "  scaled_train = []\n",
        "  for i in range(train.shape[1]):\n",
        "    scaler = MinMaxScaler(feature_range=(0,1))\n",
        "    s_s = scaler.fit_transform(train[:,i].reshape(-1,1))\n",
        "    s_s=np.reshape(s_s,len(s_s))\n",
        "    scalers['scaler_'+ str(i)] = scaler\n",
        "    scaled_train.append(s_s)\n",
        "  \n",
        "  scaled_test = []\n",
        "  for i in range(train.shape[1]):\n",
        "    scaler = scalers['scaler_'+str(i)]\n",
        "    s_s = scaler.transform(test[:,i].reshape(-1,1))\n",
        "    s_s=np.reshape(s_s,len(s_s))\n",
        "    scalers['scaler_'+str(i)] = scaler\n",
        "    scaled_test.append(s_s)\n",
        "  \n",
        "  scaled_train = array(scaled_train)\n",
        "  scaled_train=scaled_train.transpose()\n",
        "\n",
        "  scaled_test = array(scaled_test)\n",
        "  scaled_test=scaled_test.transpose()\n",
        "  return scaled_train,scaled_test,scalers\n",
        "\n",
        "# evaluate hours forecasts against expected values\n",
        "def evaluate_forecasts(actual, predicted):\n",
        "  scores = list()\n",
        "  # calculate an RMSE score for each day\n",
        "  for i in range(actual.shape[1]):\n",
        "    # calculate mse\n",
        "    mse = mean_squared_error(actual[:, i], predicted[:, i])\n",
        "    # calculate rmse\n",
        "    rmse = sqrt(mse)\n",
        "    # store\n",
        "    scores.append(rmse)\n",
        "  # calculate overall RMSE\n",
        "  s = 0\n",
        "  for row in range(actual.shape[0]):\n",
        "    for col in range(actual.shape[1]):\n",
        "      s += (actual[row, col] - predicted[row, col])**2\n",
        "  score = sqrt(s / (actual.shape[0] * actual.shape[1]))\n",
        "  return score, scores\n",
        "\n",
        "# summarize scores\n",
        "def summarize_scores(name, score, scores):\n",
        "  s_scores = ', '.join(['%.1f' % s for s in scores])\n",
        "  print('%s: [%.3f] %s' % (name, score, s_scores))\n",
        "  \n",
        "# convert history into inputs and outputs\n",
        "def to_supervised(train, n_input, n_out=18):\n",
        "  # flatten data\n",
        "  data = train.reshape((train.shape[0]*train.shape[1], train.shape[2]))\n",
        "  X, y = list(), list()\n",
        "  in_start = 0\n",
        "  # step over the entire history one time step at a time\n",
        "  for _ in range(len(data)):\n",
        "    # define the end of the input sequence\n",
        "    in_end = in_start + n_input\n",
        "    out_end = in_end + n_out\n",
        "    # ensure we have enough data for this instance\n",
        "    # Here we are dividing the data differently because we are working with a multivariate dataset (It contains more variables) \n",
        "    if out_end < len(data):\n",
        "      X.append(data[in_start:in_end, :])\n",
        "      y.append(data[in_end:out_end, 0])\n",
        "    # move along one time step\n",
        "    in_start += 1\n",
        "  return array(X), array(y)\n",
        "\n",
        "# train the model\n",
        "def build_model(train, n_steps, n_length, n_input,nth_house):\n",
        "  # prepare data\n",
        "  train_x, train_y = to_supervised(train, n_input)\n",
        "  # define parameters\n",
        "  verbose, epochs, batch_size = 1, 1, 54\n",
        "  n_features, n_outputs = train_x.shape[2], train_y.shape[1]\n",
        "  # reshape into subsequences [samples, timesteps, rows, cols, channels]\n",
        "  train_x = train_x.reshape((train_x.shape[0], n_steps, 1, n_length, n_features))\n",
        "  # reshape output into [samples, timesteps, features]\n",
        "  train_y = train_y.reshape((train_y.shape[0], train_y.shape[1], 1))\n",
        "\n",
        "  # stop when loss remains the same for 2 epochs --> passed to the model.fit\n",
        "  early_stopping = EarlyStopping(monitor='loss', patience=2,min_delta=0.001,restore_best_weights=True)\n",
        "\n",
        "  # define model\n",
        "  model = Sequential()\n",
        "  model.add(ConvLSTM2D(filters=20, kernel_size=(1,3), activation='relu',input_shape=(n_steps, 1, n_length, n_features)))\n",
        "  model.add(Flatten())\n",
        "  model.add(RepeatVector(n_outputs))\n",
        "  model.add(LSTM(100, activation='relu', return_sequences=True))\n",
        "  #model.add(LSTM(20, activation='relu', return_sequences=True))\n",
        "  model.add(TimeDistributed(Dense(100, activation='relu')))\n",
        "  model.add(TimeDistributed(Dense(1)))\n",
        "  model.compile(loss='mse', optimizer='adam')\n",
        "\n",
        "  #saves the model on drive. Because of the loop (CV), one more parameter was passed (nth_house)\n",
        "  path = '/content/drive/MyDrive/Master_thesis/Models/ConvLSTM_house_'+str(nth_house)+\".h5\"\n",
        "  model_checkpoint = ModelCheckpoint(path, monitor='loss', mode='min', verbose=1, save_best_only=True)\n",
        "  # fit network\n",
        "  model.fit(train_x, train_y, epochs=epochs, batch_size=batch_size,callbacks=[early_stopping,model_checkpoint], verbose=verbose, shuffle=False)\n",
        "  return model\n",
        "\n",
        "\n",
        "# make a forecast\n",
        "def forecast(model, history, n_steps, n_length, n_input):\n",
        "  # flatten data\n",
        "  data = array(history)\n",
        "  data = data.reshape((data.shape[0]*data.shape[1], data.shape[2]))\n",
        "  # retrieve last observations for input data\n",
        "  input_x = data[-n_input:, :]\n",
        "  # reshape into [samples, timesteps, rows, cols, channels]\n",
        "  input_x = input_x.reshape((1, n_steps, 1, n_length, 2))\n",
        "  # forecast the next \n",
        "  yhat = model.predict(input_x, verbose=0)\n",
        "  # we only want the vector forecast\n",
        "  yhat = yhat[0]\n",
        "  # return yhat\n",
        "  return yhat\n",
        "\n",
        "# evaluate a single model\n",
        "def evaluate_model(train_scaled, test, n_steps, n_length, n_input,nth_house,test_scaled,scaler_fitted): \n",
        "  # fit model\n",
        "  model = build_model(train_scaled, n_steps, n_length, n_input,nth_house)\n",
        "  history = [x for x in train_scaled]\n",
        "  # walk-forward validation over each 5 days\n",
        "  predictions = list()\n",
        "  for i in range(len(test_scaled)):\n",
        "    # predict the next day\n",
        "    yhat_sequence = forecast(model, history, n_steps, n_length, n_input)\n",
        "    # store the predictions\n",
        "    predictions.append(yhat_sequence)\n",
        "    # get real observation and add to history for predicting the next \n",
        "    history.append(test_scaled[i, :])\n",
        "  # evaluate predictions \n",
        "  predictions = array(predictions) \n",
        "  #inverse predictions \n",
        "  predictions =  predictions.reshape(1,-1)\n",
        "  predictions_inverse_scaled = scaler_fitted.inverse_transform(predictions)\n",
        "  #evaluate with test data and inverse_scaled predicitions \n",
        "  score, scores = evaluate_forecasts(test[:, :, 0], predictions_inverse_scaled)\n",
        "  print(\"prediction shape =\",predictions_inverse_scaled.shape)\n",
        "  print(\"predictions\", predictions)\n",
        "  print(\"Shape of test[:,:,0]\", test[:, :, 0].shape)\n",
        "  return score, scores,predictions_inverse_scaled\n",
        "\n",
        "\n",
        "  #evaluate with test data and inverse_scaled predicitions \n",
        "  # score, scores = evaluate_forecasts(test[:, :, 0], predictions)\n",
        "  # print(\"prediction shape =\",predictions.shape)\n",
        "  # print(\"test[:,:,0]\", test[:,:,0])\n",
        "  # print(\"predictions\", predictions)\n",
        "  # print(\"Shape of test[:,:,0]\", test[:, :, 0].shape)\n",
        "  # return score, scores,predictions\n",
        "\n",
        "# # # # plot scores\n",
        "\n",
        "# #hours = [x for x in range(1,19)]\n",
        "# hours = [str(x) for x in range(1,19)]\n",
        "# pyplot.plot(hours, scores, marker='o', label='lstm')\n",
        "# pyplot.show()\n"
      ],
      "execution_count": 18,
      "outputs": []
    },
    {
      "cell_type": "markdown",
      "metadata": {
        "id": "i_LjQRj1aB9X"
      },
      "source": [
        "#CV randomly selecting 10 houses for testing, afterwards averaging scores (rmse)"
      ]
    },
    {
      "cell_type": "code",
      "metadata": {
        "colab": {
          "base_uri": "https://localhost:8080/"
        },
        "id": "ekW8TyLjaMFF",
        "outputId": "3a4d8a4b-ba1e-48a7-a605-6e35b826c7e3"
      },
      "source": [
        "import random\n",
        "\n",
        "random.seed(42)\n",
        "random_houses = [random.randint(0, 10) for p in range(0, 10)]\n",
        "print(random_houses)"
      ],
      "execution_count": 19,
      "outputs": [
        {
          "output_type": "stream",
          "name": "stdout",
          "text": [
            "[10, 1, 0, 4, 3, 3, 2, 1, 10, 8]\n"
          ]
        }
      ]
    },
    {
      "cell_type": "code",
      "metadata": {
        "id": "nCsodmbpZ3GW",
        "colab": {
          "base_uri": "https://localhost:8080/"
        },
        "outputId": "9cb97691-6324-406c-fb30-da5ac101f055"
      },
      "source": [
        "def random_cv(array1,nth_house,length):\n",
        "  house = array1[(nth_house-1)*length: nth_house*length]\n",
        "  before_house = array1[:(nth_house-1)*length]\n",
        "  after_house = array1[nth_house*length:]\n",
        "  return np.concatenate((before_house,after_house,house))\n",
        "\n",
        "scores_cv = []\n",
        "for i in random_houses:\n",
        "#for i in range(1):\n",
        "  data = random_cv(data,i,6570)\n",
        "  #data = pd.DataFrame(data, columns = [\"solar_output\",\"irradiance\"])\n",
        "  # split into train and test\n",
        "  train, test = split_dataset(data)\n",
        "  #scaling train,test\n",
        "  train_scaled,test_scaled, scalers = scaling(train,test)\n",
        "  #restructure test into windows without scaling. Non-scaled test is needed to evaluate forecast (passing it to \"evaluate_model\" function)\n",
        "  _,unscaled_test = restructure_windows(train,test)\n",
        "  #restructure into windows\n",
        "  train_structured,test_structured = restructure_windows(train_scaled,test_scaled)\n",
        "  # define the number of subsequences and the length of subsequences\n",
        "  n_steps, n_length = 5, 18\n",
        "  # define the total days to use as input\n",
        "  n_input = n_length * n_steps\n",
        "  scaler = scalers['scaler_0']\n",
        "  score, scores,predictions = evaluate_model(train_structured, unscaled_test, n_steps, n_length, n_input,i,test_structured,scaler)\n",
        "  # summarize scores\n",
        "  summarize_scores('ConvLSTM', score, scores)\n",
        "  scores_cv.append(scores)\n",
        "\n",
        "print(np.array(scores_cv).shape)"
      ],
      "execution_count": null,
      "outputs": [
        {
          "output_type": "stream",
          "name": "stdout",
          "text": [
            "1215/1215 [==============================] - ETA: 0s - loss: 0.0160\n",
            "Epoch 00001: loss improved from inf to 0.01602, saving model to /content/drive/MyDrive/Master_thesis/Models/ConvLSTM_house_10.h5\n",
            "1215/1215 [==============================] - 107s 85ms/step - loss: 0.0160\n",
            "prediction shape = (1, 18)\n",
            "predictions [[0.01305533 0.00353073 0.02181252 0.05952993 0.10579157 0.15546352\n",
            "  0.18780942 0.19598246 0.18371749 0.15659115 0.11848417 0.08086517\n",
            "  0.04760773 0.02610524 0.01138971 0.00491518 0.0043527  0.00528654]]\n",
            "Shape of test[:,:,0] (1, 18)\n",
            "ConvLSTM: [0.131] 0.0, 0.0, 0.1, 0.1, 0.2, 0.2, 0.2, 0.2, 0.1, 0.1, 0.2, 0.1, 0.1, 0.1, 0.0, 0.0, 0.0, 0.0\n",
            "1215/1215 [==============================] - ETA: 0s - loss: 0.0124\n",
            "Epoch 00001: loss improved from inf to 0.01236, saving model to /content/drive/MyDrive/Master_thesis/Models/ConvLSTM_house_1.h5\n",
            "1215/1215 [==============================] - 119s 94ms/step - loss: 0.0124\n",
            "prediction shape = (1, 18)\n",
            "predictions [[ 1.0357568e-02 -2.9833987e-04  1.4081204e-02  6.0386494e-02\n",
            "   1.3491249e-01  2.3069412e-01  3.0808499e-01  3.4548718e-01\n",
            "   3.5497916e-01  3.2305396e-01  2.4441618e-01  1.4667478e-01\n",
            "   7.5419530e-02  3.6814008e-02  2.0748587e-02  2.1177368e-02\n",
            "   3.5485420e-02  4.8405368e-02]]\n",
            "Shape of test[:,:,0] (1, 18)\n",
            "ConvLSTM: [0.358] 0.0, 0.0, 0.0, 0.1, 0.3, 0.5, 0.5, 0.6, 0.6, 0.7, 0.5, 0.3, 0.2, 0.1, 0.1, 0.1, 0.1, 0.1\n",
            "2310/2310 [==============================] - ETA: 0s - loss: 0.0106\n",
            "Epoch 00001: loss improved from inf to 0.01064, saving model to /content/drive/MyDrive/Master_thesis/Models/ConvLSTM_house_0.h5\n",
            "2310/2310 [==============================] - 217s 92ms/step - loss: 0.0106\n",
            "prediction shape = (1, 18)\n",
            "predictions [[-0.00039462 -0.00288327  0.01927404  0.06721805  0.15129405  0.27151787\n",
            "   0.34874648  0.386824    0.38161963  0.34096247  0.24449702  0.11900543\n",
            "   0.03656593  0.00198837 -0.00899306 -0.00620279  0.00740917  0.02439902]]\n",
            "Shape of test[:,:,0] (1, 18)\n",
            "ConvLSTM: [0.392] 0.0, 0.0, 0.0, 0.2, 0.3, 0.6, 0.6, 0.7, 0.6, 0.7, 0.5, 0.3, 0.1, 0.0, 0.0, 0.0, 0.0, 0.1\n",
            "2310/2310 [==============================] - ETA: 0s - loss: 0.0110\n",
            "Epoch 00001: loss improved from inf to 0.01095, saving model to /content/drive/MyDrive/Master_thesis/Models/ConvLSTM_house_4.h5\n",
            "2310/2310 [==============================] - 204s 87ms/step - loss: 0.0110\n",
            "WARNING:tensorflow:5 out of the last 5 calls to <function Model.make_predict_function.<locals>.predict_function at 0x7f725cf9f7a0> triggered tf.function retracing. Tracing is expensive and the excessive number of tracings could be due to (1) creating @tf.function repeatedly in a loop, (2) passing tensors with different shapes, (3) passing Python objects instead of tensors. For (1), please define your @tf.function outside of the loop. For (2), @tf.function has experimental_relax_shapes=True option that relaxes argument shapes that can avoid unnecessary retracing. For (3), please refer to https://www.tensorflow.org/guide/function#controlling_retracing and https://www.tensorflow.org/api_docs/python/tf/function for  more details.\n",
            "prediction shape = (1, 18)\n",
            "predictions [[0.01053784 0.00733562 0.0173496  0.0437835  0.0877146  0.14763859\n",
            "  0.19895783 0.21727541 0.20765805 0.16732174 0.11269805 0.06576928\n",
            "  0.04023291 0.0268004  0.02239379 0.02420453 0.03055565 0.03517819]]\n",
            "Shape of test[:,:,0] (1, 18)\n",
            "ConvLSTM: [0.176] 0.0, 0.0, 0.0, 0.1, 0.2, 0.1, 0.7, 0.1, 0.1, 0.1, 0.1, 0.0, 0.0, 0.1, 0.1, 0.1, 0.1, 0.1\n",
            "2310/2310 [==============================] - ETA: 0s - loss: 0.0111\n",
            "Epoch 00001: loss improved from inf to 0.01115, saving model to /content/drive/MyDrive/Master_thesis/Models/ConvLSTM_house_3.h5\n",
            "2310/2310 [==============================] - 203s 86ms/step - loss: 0.0111\n",
            "WARNING:tensorflow:6 out of the last 6 calls to <function Model.make_predict_function.<locals>.predict_function at 0x7f725bc21dd0> triggered tf.function retracing. Tracing is expensive and the excessive number of tracings could be due to (1) creating @tf.function repeatedly in a loop, (2) passing tensors with different shapes, (3) passing Python objects instead of tensors. For (1), please define your @tf.function outside of the loop. For (2), @tf.function has experimental_relax_shapes=True option that relaxes argument shapes that can avoid unnecessary retracing. For (3), please refer to https://www.tensorflow.org/guide/function#controlling_retracing and https://www.tensorflow.org/api_docs/python/tf/function for  more details.\n",
            "prediction shape = (1, 18)\n",
            "predictions [[ 0.02063746  0.00563865  0.01924276  0.03426664  0.05202215  0.07112804\n",
            "   0.09049655  0.10911447  0.12367892  0.12137664  0.10336115  0.07409967\n",
            "   0.04965561  0.03012915  0.01431522  0.00308016 -0.00422482 -0.00876001]]\n",
            "Shape of test[:,:,0] (1, 18)\n",
            "ConvLSTM: [0.087] 0.1, 0.0, 0.0, 0.1, 0.0, 0.0, 0.1, 0.1, 0.1, 0.1, 0.2, 0.2, 0.0, 0.1, 0.0, 0.0, 0.0, 0.0\n",
            "2310/2310 [==============================] - ETA: 0s - loss: 0.0109\n",
            "Epoch 00001: loss improved from inf to 0.01088, saving model to /content/drive/MyDrive/Master_thesis/Models/ConvLSTM_house_3.h5\n",
            "2310/2310 [==============================] - 210s 89ms/step - loss: 0.0109\n",
            "prediction shape = (1, 18)\n",
            "predictions [[ 0.0040108  -0.00077982  0.02413536  0.06699589  0.12487544  0.20567131\n",
            "   0.2514006   0.2598771   0.23741458  0.19190647  0.1499616   0.10783687\n",
            "   0.074752    0.05266526  0.03653233  0.02593695  0.01519853  0.00811021]]\n",
            "Shape of test[:,:,0] (1, 18)\n",
            "ConvLSTM: [0.272] 0.0, 0.0, 0.1, 0.2, 0.3, 0.5, 0.4, 0.5, 0.5, 0.4, 0.3, 0.2, 0.2, 0.1, 0.1, 0.1, 0.0, 0.0\n",
            "2310/2310 [==============================] - ETA: 0s - loss: 0.0105\n",
            "Epoch 00001: loss improved from inf to 0.01051, saving model to /content/drive/MyDrive/Master_thesis/Models/ConvLSTM_house_2.h5\n",
            "2310/2310 [==============================] - 206s 88ms/step - loss: 0.0105\n",
            "prediction shape = (1, 18)\n",
            "predictions [[-0.01611657 -0.03126707 -0.02119205  0.00090277  0.03249365  0.07481915\n",
            "   0.12115703  0.14773554  0.14786416  0.13012491  0.09649115  0.05288121\n",
            "   0.02038718  0.00033711 -0.0078959  -0.00946821 -0.00592928  0.00181739]]\n",
            "Shape of test[:,:,0] (1, 18)\n",
            "ConvLSTM: [0.190] 0.0, 0.1, 0.1, 0.0, 0.1, 0.0, 0.5, 0.3, 0.2, 0.2, 0.1, 0.4, 0.0, 0.0, 0.0, 0.0, 0.0, 0.0\n",
            "2310/2310 [==============================] - ETA: 0s - loss: 0.0117\n",
            "Epoch 00001: loss improved from inf to 0.01169, saving model to /content/drive/MyDrive/Master_thesis/Models/ConvLSTM_house_1.h5\n",
            "2310/2310 [==============================] - 202s 86ms/step - loss: 0.0117\n",
            "prediction shape = (1, 18)\n",
            "predictions [[0.00291414 0.00216829 0.0160425  0.04197867 0.07673243 0.10960695\n",
            "  0.13285309 0.14068873 0.12874635 0.10091269 0.0628617  0.03014219\n",
            "  0.01160917 0.0037316  0.00102366 0.00481643 0.01530704 0.03286064]]\n",
            "Shape of test[:,:,0] (1, 18)\n",
            "ConvLSTM: [0.094] 0.0, 0.0, 0.0, 0.1, 0.2, 0.2, 0.1, 0.1, 0.1, 0.2, 0.0, 0.0, 0.0, 0.0, 0.0, 0.0, 0.0, 0.1\n"
          ]
        }
      ]
    },
    {
      "cell_type": "code",
      "metadata": {
        "id": "_Rq_Stsuc1jj"
      },
      "source": [
        ""
      ],
      "execution_count": null,
      "outputs": []
    },
    {
      "cell_type": "code",
      "metadata": {
        "id": "e2To5sxHfWWR"
      },
      "source": [
        "def cross_val (array_house, samples_division,house_length):\n",
        "  start_index = samples_division * house_length\n",
        "  print(start_index)\n",
        "  end_index = (samples_division+1)* house_length\n",
        "  print(end_index)\n",
        "  test_subset = array_house.iloc[start_index:end_index,axis=0]\n",
        "  print(test_subset)\n",
        "  array_house = np.delete(array_house,test_subset)\n",
        "  print(array_house)\n",
        "  array_house = np.concatenate((array_house,test_subset ))\n",
        "  return array_house\n",
        "\n",
        "cross_val(data,10,6570)"
      ],
      "execution_count": null,
      "outputs": []
    },
    {
      "cell_type": "code",
      "metadata": {
        "colab": {
          "base_uri": "https://localhost:8080/"
        },
        "id": "9oOwWNN3McxK",
        "outputId": "5f66d234-d632-4c57-d541-8c5c39ceb26f"
      },
      "source": [
        "path = '/content/drive/MyDrive/Master_thesis/Models/ConvLSTM_house_'+str(5)+\".h5\"\n",
        "print(type(path))"
      ],
      "execution_count": null,
      "outputs": [
        {
          "output_type": "stream",
          "name": "stdout",
          "text": [
            "<class 'str'>\n"
          ]
        }
      ]
    }
  ]
}