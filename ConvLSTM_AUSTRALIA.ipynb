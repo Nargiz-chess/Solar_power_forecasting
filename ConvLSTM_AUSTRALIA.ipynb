{
  "nbformat": 4,
  "nbformat_minor": 0,
  "metadata": {
    "colab": {
      "name": "ConvLSTM_AUSTRALIA.ipynb",
      "provenance": [],
      "authorship_tag": "ABX9TyOuRYaoCYhcL+JYvkKwan0l",
      "include_colab_link": true
    },
    "kernelspec": {
      "name": "python3",
      "display_name": "Python 3"
    },
    "language_info": {
      "name": "python"
    }
  },
  "cells": [
    {
      "cell_type": "markdown",
      "metadata": {
        "id": "view-in-github",
        "colab_type": "text"
      },
      "source": [
        "<a href=\"https://colab.research.google.com/github/Nargiz-chess/Solar_forecasting/blob/main/ConvLSTM_AUSTRALIA.ipynb\" target=\"_parent\"><img src=\"https://colab.research.google.com/assets/colab-badge.svg\" alt=\"Open In Colab\"/></a>"
      ]
    },
    {
      "cell_type": "code",
      "metadata": {
        "colab": {
          "base_uri": "https://localhost:8080/"
        },
        "id": "K3AQ-9lpcQ8Z",
        "outputId": "cedba999-f11b-4280-fb1c-d6d05e5a211f"
      },
      "source": [
        "#Mount google drive\n",
        "from google.colab import drive\n",
        "drive.mount('/content/drive')\n",
        "\n",
        "from pandas import read_csv\n",
        "import pandas as pd\n",
        "import datetime as dt\n",
        "import matplotlib\n",
        "from sklearn.linear_model import LinearRegression\n",
        "import numpy as np\n",
        "from sklearn import metrics\n",
        "import matplotlib.pyplot as plt\n",
        "\n",
        "from sklearn.preprocessing import MinMaxScaler\n",
        "\n",
        "# multivariate multi-step encoder-decoder lstm\n",
        "from math import sqrt\n",
        "from numpy import split\n",
        "from numpy import array\n",
        "from pandas import read_csv\n",
        "from sklearn.metrics import mean_squared_error\n",
        "from matplotlib import pyplot\n",
        "from keras.models import Sequential\n",
        "from keras.layers import Dense\n",
        "from keras.layers import Flatten\n",
        "from keras.layers import LSTM\n",
        "from keras.layers import RepeatVector\n",
        "from keras.layers import TimeDistributed\n",
        "from keras.layers import ConvLSTM2D\n",
        "\n"
      ],
      "execution_count": 1,
      "outputs": [
        {
          "output_type": "stream",
          "name": "stdout",
          "text": [
            "Mounted at /content/drive\n"
          ]
        }
      ]
    },
    {
      "cell_type": "code",
      "metadata": {
        "id": "R5uZwVb9ctK_"
      },
      "source": [
        "path1 = '/content/drive/MyDrive/Master_thesis/Datasets/Australia_numpy_removed_night_hours.npy'\n",
        "path2 = '/content/drive/MyDrive/Master_thesis/Datasets/irradiance_AUS(2012-2013).csv'"
      ],
      "execution_count": 2,
      "outputs": []
    },
    {
      "cell_type": "code",
      "metadata": {
        "id": "tWgorXM6cw2H",
        "colab": {
          "base_uri": "https://localhost:8080/"
        },
        "outputId": "cce74d80-66a3-4e54-bb3e-614a3445cd2c"
      },
      "source": [
        "array = np.loadtxt(path1)\n",
        "print(\"Shape before reshape\",np.shape(array))\n",
        "AUS_data = array.reshape(array.shape[0]*array.shape[1], order=\"F\")\n",
        "print(\"Shape after reshape\",np.shape(AUS_data))"
      ],
      "execution_count": null,
      "outputs": [
        {
          "output_type": "stream",
          "name": "stdout",
          "text": [
            "Shape before reshape (6570, 299)\n",
            "Shape after reshape (1964430,)\n"
          ]
        }
      ]
    },
    {
      "cell_type": "code",
      "metadata": {
        "id": "i4zRYj1Bc3Kk",
        "colab": {
          "base_uri": "https://localhost:8080/"
        },
        "outputId": "03d55259-6844-416e-8796-caa6119f9471"
      },
      "source": [
        "df2=read_csv(path2, header =0, index_col=0) \n",
        "df2.shape\n",
        "df2=df2.drop(\"time\", axis=1)\n",
        "array2 = df2.values\n",
        "weath_data = array2.reshape(array2.shape[0]*array2.shape[1])\n",
        "print(\"Shape of Aus data = \", AUS_data.shape, \"\\n\",\"Shape of weather data = \", weath_data.shape )\n"
      ],
      "execution_count": null,
      "outputs": [
        {
          "output_type": "stream",
          "name": "stdout",
          "text": [
            "Shape of Aus data =  (1964430,) \n",
            " Shape of weather data =  (6570,)\n"
          ]
        }
      ]
    },
    {
      "cell_type": "code",
      "metadata": {
        "id": "NqhFZ2yEdClK",
        "colab": {
          "base_uri": "https://localhost:8080/"
        },
        "outputId": "a9c32ec6-fe95-4736-e2ac-aa67603a4760"
      },
      "source": [
        "#stacking irradiance as many times as there are houses in the dataset to match with each house in the datset\n",
        "\n",
        "# weath_data_stacked = np.tile(weath_data,299)\n",
        "# weath_data_stacked.shape\n",
        "# data= np.column_stack((AUS_data,weath_data_stacked))\n",
        "# data.shape\n",
        "# data = np.nan_to_num(data)\n",
        "# data = pd.DataFrame(data=data)\n",
        "data.shape\n"
      ],
      "execution_count": null,
      "outputs": [
        {
          "output_type": "execute_result",
          "data": {
            "text/plain": [
              "(1964430, 2)"
            ]
          },
          "metadata": {},
          "execution_count": 7
        }
      ]
    },
    {
      "cell_type": "code",
      "metadata": {
        "id": "Yax1mSOJCk7O"
      },
      "source": [
        "from numpy import split\n",
        "from numpy import array\n",
        "\n",
        "\n",
        "# split a univariate dataset into train/test sets\n",
        "def split_dataset(data):\n",
        "  # split into standard weeks\n",
        "  train, test = data[:-90], data[-90:]\n",
        "  # restructure into windows of weekly data\n",
        "  train = array(split(train, len(train)/18))\n",
        "  test = array(split(test, len(test)/18))\n",
        "  return train, test\n",
        "\n",
        "# evaluate one or more weekly forecasts against expected values\n",
        "def evaluate_forecasts(actual, predicted):\n",
        "  scores = list()\n",
        "  # calculate an RMSE score for each day\n",
        "  for i in range(actual.shape[1]):\n",
        "    # calculate mse\n",
        "    mse = mean_squared_error(actual[:, i], predicted[:, i])\n",
        "    # calculate rmse\n",
        "    rmse = sqrt(mse)\n",
        "    # store\n",
        "    scores.append(rmse)\n",
        "  # calculate overall RMSE\n",
        "  s = 0\n",
        "  for row in range(actual.shape[0]):\n",
        "    for col in range(actual.shape[1]):\n",
        "      s += (actual[row, col] - predicted[row, col])**2\n",
        "  score = sqrt(s / (actual.shape[0] * actual.shape[1]))\n",
        "  return score, scores\n",
        "\n",
        "# summarize scores\n",
        "def summarize_scores(name, score, scores):\n",
        "  s_scores = ', '.join(['%.1f' % s for s in scores])\n",
        "  print('%s: [%.3f] %s' % (name, score, s_scores))\n",
        "  \n",
        "# convert history into inputs and outputs\n",
        "def to_supervised(train, n_input, n_out=18):\n",
        "  # flatten data\n",
        "  data = train.reshape((train.shape[0]*train.shape[1], train.shape[2]))\n",
        "  X, y = list(), list()\n",
        "  in_start = 0\n",
        "  # step over the entire history one time step at a time\n",
        "  for _ in range(len(data)):\n",
        "    # define the end of the input sequence\n",
        "    in_end = in_start + n_input\n",
        "    out_end = in_end + n_out\n",
        "    # ensure we have enough data for this instance\n",
        "    # Here we are dividing the data differently because we are working with a multivariate dataset (It contains more variables) \n",
        "    if out_end < len(data):\n",
        "      X.append(data[in_start:in_end, :])\n",
        "      y.append(data[in_end:out_end, 0])\n",
        "    # move along one time step\n",
        "    in_start += 1\n",
        "  return array(X), array(y)\n",
        "\n",
        "# train the model\n",
        "def build_model(train, n_steps, n_length, n_input):\n",
        "  # prepare data\n",
        "  train_x, train_y = to_supervised(train, n_input)\n",
        "  # define parameters\n",
        "  verbose, epochs, batch_size = 1, 1, 54\n",
        "  n_features, n_outputs = train_x.shape[2], train_y.shape[1]\n",
        "  # reshape into subsequences [samples, timesteps, rows, cols, channels]\n",
        "  train_x = train_x.reshape((train_x.shape[0], n_steps, 1, n_length, n_features))\n",
        "  # reshape output into [samples, timesteps, features]\n",
        "  train_y = train_y.reshape((train_y.shape[0], train_y.shape[1], 1))\n",
        "  # define model\n",
        "  model = Sequential()\n",
        "  model.add(ConvLSTM2D(filters=20, kernel_size=(1,3), activation='relu',input_shape=(n_steps, 1, n_length, n_features)))\n",
        "  model.add(Flatten())\n",
        "  model.add(RepeatVector(n_outputs))\n",
        "  model.add(LSTM(20, activation='relu', return_sequences=True))\n",
        "  #model.add(LSTM(20, activation='relu', return_sequences=True))\n",
        "  model.add(TimeDistributed(Dense(100, activation='relu')))\n",
        "  model.add(TimeDistributed(Dense(1)))\n",
        "  model.compile(loss='mse', optimizer='adam')\n",
        "  # fit network\n",
        "  model.fit(train_x, train_y, epochs=epochs, batch_size=batch_size, verbose=verbose)\n",
        "  return model\n",
        "\n",
        "# make a forecast\n",
        "def forecast(model, history, n_steps, n_length, n_input):\n",
        "  # flatten data\n",
        "  data = array(history)\n",
        "  data = data.reshape((data.shape[0]*data.shape[1], data.shape[2]))\n",
        "  # retrieve last observations for input data\n",
        "  input_x = data[-n_input:, :]\n",
        "  # reshape into [samples, timesteps, rows, cols, channels]\n",
        "  input_x = input_x.reshape((1, n_steps, 1, n_length, 2))\n",
        "  # forecast the next week\n",
        "  yhat = model.predict(input_x, verbose=0)\n",
        "  # we only want the vector forecast\n",
        "  yhat = yhat[0]\n",
        "  return yhat\n",
        "\n",
        "# evaluate a single model\n",
        "def evaluate_model(train, test, n_steps, n_length, n_input):\n",
        "  # fit model\n",
        "  model = build_model(train, n_steps, n_length, n_input)\n",
        "  # history is a list of weekly data\n",
        "  history = [x for x in train]\n",
        "  # walk-forward validation over each week\n",
        "  predictions = list()\n",
        "  for i in range(len(test)):\n",
        "    # predict the next day\n",
        "    yhat_sequence = forecast(model, history, n_steps, n_length, n_input)\n",
        "    # store the predictions\n",
        "    predictions.append(yhat_sequence)\n",
        "    # get real observation and add to history for predicting the next week\n",
        "    history.append(test[i, :])\n",
        "  # evaluate predictions days for each week\n",
        "  predictions = array(predictions)\n",
        "  score, scores = evaluate_forecasts(test[:, :, 0], predictions)\n",
        "  return score, scores,predictions\n",
        "\n",
        "\n",
        "# # split into train and test\n",
        "# train, test = split_dataset(data.values)\n",
        "# # define the number of subsequences and the length of subsequences\n",
        "# n_steps, n_length = 5, 18\n",
        "# # define the total days to use as input\n",
        "# n_input = n_length * n_steps\n",
        "# score, scores,predictions = evaluate_model(train, test, n_steps, n_length, n_input)\n",
        "# # summarize scores\n",
        "# summarize_scores('lstm', score, scores)\n",
        "# # # plot scores\n",
        "\n",
        "# #hours = [x for x in range(1,19)]\n",
        "# hours = [str(x) for x in range(1,19)]\n",
        "# pyplot.plot(hours, scores, marker='o', label='lstm')\n",
        "# pyplot.show()\n"
      ],
      "execution_count": null,
      "outputs": []
    },
    {
      "cell_type": "code",
      "metadata": {
        "colab": {
          "base_uri": "https://localhost:8080/"
        },
        "id": "KLMDWWesBI50",
        "outputId": "7762e91d-6cb3-48a8-993f-2de989a38211"
      },
      "source": [
        "def cross_val (array, samples_division):\n",
        "  array = np.concatenate((array[-samples_division:],array[:-samples_division] ))\n",
        "  return array\n",
        "\n",
        "scores_cv = []\n",
        "for i in range(1):\n",
        "  data = cross_val(data,6570)\n",
        "  # split into train and test\n",
        "  train, test = split_dataset(data)\n",
        "  # define the number of subsequences and the length of subsequences\n",
        "  n_steps, n_length = 5, 18\n",
        "  # define the total days to use as input\n",
        "  n_input = n_length * n_steps\n",
        "  score, scores,predictions = evaluate_model(train, test, n_steps, n_length, n_input)\n",
        "  # summarize scores\n",
        "  summarize_scores('lstm', score, scores)\n",
        "  scores_cv.append(score)\n",
        "  print(data[0])\n"
      ],
      "execution_count": null,
      "outputs": [
        {
          "output_type": "stream",
          "name": "stdout",
          "text": [
            "36375/36375 [==============================] - 1741s 48ms/step - loss: 2.5366\n",
            "lstm: [0.287] 0.3, 0.3, 0.3, 0.3, 0.3, 0.2, 0.1, 0.1, 0.2, 0.2, 0.2, 0.3, 0.3, 0.3, 0.3, 0.3, 0.3, 0.3\n",
            "[0. 0.]\n",
            "36375/36375 [==============================] - 1706s 47ms/step - loss: 1.9398\n",
            "lstm: [0.061] 0.0, 0.0, 0.0, 0.1, 0.1, 0.1, 0.1, 0.1, 0.1, 0.1, 0.0, 0.0, 0.0, 0.0, 0.0, 0.0, 0.0, 0.0\n",
            "[0. 0.]\n"
          ]
        }
      ]
    },
    {
      "cell_type": "code",
      "metadata": {
        "colab": {
          "base_uri": "https://localhost:8080/"
        },
        "id": "aC_G2qDTTVEZ",
        "outputId": "4ad8d0cf-4221-4d8a-84e0-d045eb59b625"
      },
      "source": [
        "import random\n",
        "\n",
        "a = np.random.rand(3,2)\n",
        "print(a)"
      ],
      "execution_count": null,
      "outputs": [
        {
          "output_type": "stream",
          "name": "stdout",
          "text": [
            "[[0.33296593 0.90165975]\n",
            " [0.80686784 0.8513707 ]\n",
            " [0.05656842 0.04594226]]\n"
          ]
        }
      ]
    },
    {
      "cell_type": "markdown",
      "metadata": {
        "id": "IGgQ_tIBWKVx"
      },
      "source": [
        "# SUBSET: random 100 houses"
      ]
    },
    {
      "cell_type": "code",
      "metadata": {
        "colab": {
          "base_uri": "https://localhost:8080/"
        },
        "id": "WznTYYoPXLKU",
        "outputId": "3209e106-5f0b-454d-cd8a-a1ddac3bd29b"
      },
      "source": [
        "import random\n",
        "\n",
        "random.seed(42)\n",
        "subset_col = [random.randint(0, 298) for p in range(0, 100)]\n",
        "print(subset_col)"
      ],
      "execution_count": 3,
      "outputs": [
        {
          "output_type": "stream",
          "name": "stdout",
          "text": [
            "[57, 12, 140, 125, 114, 71, 52, 279, 44, 216, 16, 15, 47, 111, 119, 258, 13, 287, 101, 279, 214, 112, 229, 142, 3, 81, 216, 174, 142, 79, 110, 172, 52, 47, 194, 49, 183, 176, 135, 22, 235, 274, 63, 193, 40, 282, 150, 185, 295, 98, 35, 23, 116, 148, 40, 119, 51, 194, 142, 232, 186, 83, 189, 181, 107, 136, 36, 87, 273, 125, 83, 236, 194, 138, 285, 112, 166, 28, 117, 16, 161, 205, 137, 33, 108, 290, 161, 108, 255, 202, 234, 73, 135, 71, 126, 287, 275, 134, 219, 298]\n"
          ]
        }
      ]
    },
    {
      "cell_type": "code",
      "metadata": {
        "colab": {
          "base_uri": "https://localhost:8080/"
        },
        "id": "-NmTq44pW4Ec",
        "outputId": "0b43f5f5-56af-4aef-d7ac-f5ac661fb20a"
      },
      "source": [
        "array = np.loadtxt(path1)\n",
        "print(\"Shape before reshape\",np.shape(array))\n",
        "\n",
        "array = array[:,subset_col]\n",
        "print(array.shape)"
      ],
      "execution_count": 4,
      "outputs": [
        {
          "output_type": "stream",
          "name": "stdout",
          "text": [
            "Shape before reshape (6570, 299)\n",
            "(6570, 100)\n"
          ]
        }
      ]
    },
    {
      "cell_type": "code",
      "metadata": {
        "colab": {
          "base_uri": "https://localhost:8080/"
        },
        "id": "bt2ENQcFYm5g",
        "outputId": "b5320da5-499c-4052-abe6-1416a02bd773"
      },
      "source": [
        "AUS_data = array.reshape(array.shape[0]*array.shape[1], order=\"F\")\n",
        "print(\"Shape after reshape\",np.shape(AUS_data))"
      ],
      "execution_count": 5,
      "outputs": [
        {
          "output_type": "stream",
          "name": "stdout",
          "text": [
            "Shape after reshape (657000,)\n"
          ]
        }
      ]
    },
    {
      "cell_type": "code",
      "metadata": {
        "colab": {
          "base_uri": "https://localhost:8080/"
        },
        "id": "UFLxPylFW_fo",
        "outputId": "c5dba3ee-a012-4e92-98aa-9f755c715dee"
      },
      "source": [
        "df2=read_csv(path2, header =0, index_col=0) \n",
        "df2.shape\n",
        "df2=df2.drop(\"time\", axis=1)\n",
        "array2 = df2.values\n",
        "weath_data = array2.reshape(array2.shape[0]*array2.shape[1])\n",
        "print(\"Shape of Aus data = \", AUS_data.shape, \"\\n\",\"Shape of weather data = \", weath_data.shape )\n"
      ],
      "execution_count": 6,
      "outputs": [
        {
          "output_type": "stream",
          "name": "stdout",
          "text": [
            "Shape of Aus data =  (657000,) \n",
            " Shape of weather data =  (6570,)\n"
          ]
        }
      ]
    },
    {
      "cell_type": "code",
      "metadata": {
        "colab": {
          "base_uri": "https://localhost:8080/"
        },
        "id": "FzzRaCDGWJ45",
        "outputId": "d9c2bbcc-ed53-4536-9013-62e2891d075c"
      },
      "source": [
        "#stacking irradiance as many times as there are houses in the dataset to match with each house in the datset\n",
        "\n",
        "weath_data_stacked = np.tile(weath_data,100)\n",
        "weath_data_stacked.shape\n",
        "data= np.column_stack((AUS_data,weath_data_stacked))\n",
        "data.shape\n",
        "data = np.nan_to_num(data)\n",
        "data = pd.DataFrame(data=data)\n",
        "data.shape"
      ],
      "execution_count": 7,
      "outputs": [
        {
          "output_type": "execute_result",
          "data": {
            "text/plain": [
              "(657000, 2)"
            ]
          },
          "metadata": {},
          "execution_count": 7
        }
      ]
    },
    {
      "cell_type": "code",
      "metadata": {
        "colab": {
          "base_uri": "https://localhost:8080/"
        },
        "id": "_D7JWciFZN5j",
        "outputId": "b667d53a-bd68-4fe9-f7d7-9048150aae3a"
      },
      "source": [
        "from numpy import split\n",
        "from numpy import array\n",
        "\n",
        "\n",
        "# split a univariate dataset into train/test sets\n",
        "def split_dataset(data):\n",
        "  # split into standard weeks\n",
        "  train, test = data[:-90], data[-90:]\n",
        "  # restructure into windows of weekly data\n",
        "  train = array(split(train, len(train)/18))\n",
        "  test = array(split(test, len(test)/18))\n",
        "  return train, test\n",
        "\n",
        "# evaluate one or more weekly forecasts against expected values\n",
        "def evaluate_forecasts(actual, predicted):\n",
        "  scores = list()\n",
        "  # calculate an RMSE score for each day\n",
        "  for i in range(actual.shape[1]):\n",
        "    # calculate mse\n",
        "    mse = mean_squared_error(actual[:, i], predicted[:, i])\n",
        "    # calculate rmse\n",
        "    rmse = sqrt(mse)\n",
        "    # store\n",
        "    scores.append(rmse)\n",
        "  # calculate overall RMSE\n",
        "  s = 0\n",
        "  for row in range(actual.shape[0]):\n",
        "    for col in range(actual.shape[1]):\n",
        "      s += (actual[row, col] - predicted[row, col])**2\n",
        "  score = sqrt(s / (actual.shape[0] * actual.shape[1]))\n",
        "  return score, scores\n",
        "\n",
        "# summarize scores\n",
        "def summarize_scores(name, score, scores):\n",
        "  s_scores = ', '.join(['%.1f' % s for s in scores])\n",
        "  print('%s: [%.3f] %s' % (name, score, s_scores))\n",
        "  \n",
        "# convert history into inputs and outputs\n",
        "def to_supervised(train, n_input, n_out=18):\n",
        "  # flatten data\n",
        "  data = train.reshape((train.shape[0]*train.shape[1], train.shape[2]))\n",
        "  X, y = list(), list()\n",
        "  in_start = 0\n",
        "  # step over the entire history one time step at a time\n",
        "  for _ in range(len(data)):\n",
        "    # define the end of the input sequence\n",
        "    in_end = in_start + n_input\n",
        "    out_end = in_end + n_out\n",
        "    # ensure we have enough data for this instance\n",
        "    # Here we are dividing the data differently because we are working with a multivariate dataset (It contains more variables) \n",
        "    if out_end < len(data):\n",
        "      X.append(data[in_start:in_end, :])\n",
        "      y.append(data[in_end:out_end, 0])\n",
        "    # move along one time step\n",
        "    in_start += 1\n",
        "  return array(X), array(y)\n",
        "\n",
        "# train the model\n",
        "def build_model(train, n_steps, n_length, n_input):\n",
        "  # prepare data\n",
        "  train_x, train_y = to_supervised(train, n_input)\n",
        "  # define parameters\n",
        "  verbose, epochs, batch_size = 1, 1, 54\n",
        "  n_features, n_outputs = train_x.shape[2], train_y.shape[1]\n",
        "  # reshape into subsequences [samples, timesteps, rows, cols, channels]\n",
        "  train_x = train_x.reshape((train_x.shape[0], n_steps, 1, n_length, n_features))\n",
        "  # reshape output into [samples, timesteps, features]\n",
        "  train_y = train_y.reshape((train_y.shape[0], train_y.shape[1], 1))\n",
        "  # define model\n",
        "  model = Sequential()\n",
        "  model.add(ConvLSTM2D(filters=20, kernel_size=(1,3), activation='relu',input_shape=(n_steps, 1, n_length, n_features)))\n",
        "  model.add(Flatten())\n",
        "  model.add(RepeatVector(n_outputs))\n",
        "  model.add(LSTM(20, activation='relu', return_sequences=True))\n",
        "  #model.add(LSTM(20, activation='relu', return_sequences=True))\n",
        "  model.add(TimeDistributed(Dense(100, activation='relu')))\n",
        "  model.add(TimeDistributed(Dense(1)))\n",
        "  model.compile(loss='mse', optimizer='adam')\n",
        "  # fit network\n",
        "  model.fit(train_x, train_y, epochs=epochs, batch_size=batch_size, verbose=verbose)\n",
        "  return model\n",
        "\n",
        "# make a forecast\n",
        "def forecast(model, history, n_steps, n_length, n_input):\n",
        "  # flatten data\n",
        "  data = array(history)\n",
        "  data = data.reshape((data.shape[0]*data.shape[1], data.shape[2]))\n",
        "  # retrieve last observations for input data\n",
        "  input_x = data[-n_input:, :]\n",
        "  # reshape into [samples, timesteps, rows, cols, channels]\n",
        "  input_x = input_x.reshape((1, n_steps, 1, n_length, 2))\n",
        "  # forecast the next week\n",
        "  yhat = model.predict(input_x, verbose=0)\n",
        "  # we only want the vector forecast\n",
        "  yhat = yhat[0]\n",
        "  return yhat\n",
        "\n",
        "# evaluate a single model\n",
        "def evaluate_model(train, test, n_steps, n_length, n_input):\n",
        "  # fit model\n",
        "  model = build_model(train, n_steps, n_length, n_input)\n",
        "  # history is a list of weekly data\n",
        "  history = [x for x in train]\n",
        "  # walk-forward validation over each week\n",
        "  predictions = list()\n",
        "  for i in range(len(test)):\n",
        "    # predict the next day\n",
        "    yhat_sequence = forecast(model, history, n_steps, n_length, n_input)\n",
        "    # store the predictions\n",
        "    predictions.append(yhat_sequence)\n",
        "    # get real observation and add to history for predicting the next week\n",
        "    history.append(test[i, :])\n",
        "  # evaluate predictions days for each week\n",
        "  predictions = array(predictions)\n",
        "  score, scores = evaluate_forecasts(test[:, :, 0], predictions)\n",
        "  return score, scores,predictions\n",
        "\n",
        "\n",
        "def loo_cv (array_2,lenght):\n",
        "  house = array_2[:lenght]\n",
        "  array_2 = array_2[lenght:]\n",
        "  array_3 = np.concatenate((array_2,house))\n",
        "  print(array_3.shape)\n",
        "  return array_3\n",
        "\n",
        "import random\n",
        "random.seed(42)\n",
        "\n",
        "#random_houses = [random.randint(0,99) for i in range(0,10)]\n",
        "scores_cv = []\n",
        "\n",
        "\n",
        "for i in range(1):\n",
        "  data = loo_cv(data,6570)\n",
        "  # split into train and test\n",
        "  train, test = split_dataset(data)\n",
        "  # define the number of subsequences and the length of subsequences\n",
        "  n_steps, n_length = 5, 18\n",
        "  # define the total days to use as input\n",
        "  n_input = n_length * n_steps\n",
        "  score, scores,predictions = evaluate_model(train, test, n_steps, n_length, n_input)\n",
        "  # summarize scores\n",
        "  summarize_scores('lstm', score, scores)\n",
        "  scores_cv.append(score)\n",
        "  print(data[-1])\n",
        "\n",
        "print(scores_cv)"
      ],
      "execution_count": 41,
      "outputs": [
        {
          "output_type": "stream",
          "name": "stdout",
          "text": [
            "(657000, 2)\n",
            "12163/12163 [==============================] - 544s 44ms/step - loss: 7.5057\n",
            "lstm: [0.322] 0.4, 0.4, 0.4, 0.3, 0.3, 0.2, 0.3, 0.4, 0.3, 0.2, 0.3, 0.2, 0.3, 0.4, 0.4, 0.4, 0.4, 0.4\n",
            "[0. 0.]\n",
            "[0.3223120800405403]\n"
          ]
        }
      ]
    },
    {
      "cell_type": "markdown",
      "metadata": {
        "id": "i_LjQRj1aB9X"
      },
      "source": [
        "#CV randomly selecting 10 houses for testing, afterwards averaging scores (rmse)"
      ]
    },
    {
      "cell_type": "code",
      "metadata": {
        "id": "2ikgtDjyDIda"
      },
      "source": [
        "import random"
      ],
      "execution_count": null,
      "outputs": []
    },
    {
      "cell_type": "code",
      "metadata": {
        "colab": {
          "base_uri": "https://localhost:8080/"
        },
        "id": "ekW8TyLjaMFF",
        "outputId": "1fb39416-3cdb-47ad-9969-4c3b8255ce59"
      },
      "source": [
        "random.seed(42)\n",
        "random_houses = [random.randint(0, 99) for p in range(0, 10)]\n",
        "print(random_houses)"
      ],
      "execution_count": null,
      "outputs": [
        {
          "output_type": "stream",
          "name": "stdout",
          "text": [
            "[57, 12, 140, 125, 114, 71, 52, 279, 44, 216, 16, 15, 47, 111, 119, 258, 13, 287, 101, 279, 214, 112, 229, 142, 3, 81, 216, 174, 142, 79, 110, 172, 52, 47, 194, 49, 183, 176, 135, 22, 235, 274, 63, 193, 40, 282, 150, 185, 295, 98, 35, 23, 116, 148, 40, 119, 51, 194, 142, 232, 186, 83, 189, 181, 107, 136, 36, 87, 273, 125, 83, 236, 194, 138, 285, 112, 166, 28, 117, 16, 161, 205, 137, 33, 108, 290, 161, 108, 255, 202, 234, 73, 135, 71, 126, 287, 275, 134, 219, 298]\n"
          ]
        }
      ]
    },
    {
      "cell_type": "code",
      "metadata": {
        "id": "nCsodmbpZ3GW"
      },
      "source": [
        "### these functions don't work. Needs to be fixed ###\n",
        "\n",
        "def cross_val (array, samples_division):\n",
        "  start_index = samples_division * 6570\n",
        "  end_index = (samples_division+1)* 6570\n",
        "  test_subset = array((start_index, end_index))\n",
        "  array = np.delete(array,test_subset)\n",
        "  array = np.concatenate((array,test_subset ))\n",
        "  return array\n",
        "\n",
        "def cross_val(house_array,nth_house,length_house):\n",
        "  end_index = nth_house*length_house\n",
        "  start_index = end_index - length_house\n",
        "  house = house_array[start_index:end_index]\n",
        "  house_array = np.delete(house_array,np.s_[start_index:end_index], axis=0)\n",
        "  print(house_array)\n",
        "  house_array = np.concatenate((house_array,house))\n",
        "  return house_array\n",
        "\n",
        "\n",
        "def cross_val (array_house, samples_division,house_length):\n",
        "  start_index = samples_division * house_length\n",
        "  print(start_index)\n",
        "  end_index = (samples_division+1)* house_length\n",
        "  print(end_index)\n",
        "  test_subset = array_house[start_index:end_index]\n",
        "  print(test_subset)\n",
        "  print(array_house)\n",
        "  array_house = np.delete(array_house,test_subset, axis=0)\n",
        "  print(array_house)\n",
        "  array_house = np.concatenate((array_house,test_subset ))\n",
        "  return array_house\n",
        "\n",
        "def cross_val (array_house, samples_division,house_length):\n",
        "  start_index = samples_division * house_length\n",
        "  end_index = (samples_division+1)* house_length\n",
        "  test_subset = array_house[start_index:end_index]\n",
        "  array_house = np.delete(array_house,test_subset)\n",
        "  array_house = np.concatenate((array_house,test_subset ))\n",
        "  return array\n",
        "\n",
        "def cross_val(house_array,nth_house,length_house):\n",
        "  end_index = nth_house*length_house\n",
        "  print(end_index)\n",
        "  start_index = end_index - length_house\n",
        "  print(start_index)\n",
        "  house = house_array[start_index:end_index]\n",
        "  print(house.shape)\n",
        "  print(house)\n",
        "  print(house_array.shape)\n",
        "#  return delete\n",
        "  house_array_2 = np.delete(house_array,np.s_[start_index:end_index], axis=0)\n",
        "  print(house_array_2.shape)\n",
        "  house_array_3 = np.concatenate((house_array_2,house))\n",
        "  print(house_array_3.shape)\n",
        "  return house_array_3\n",
        "\n",
        "for i in l: \n",
        "  m = cross_val(m,i,2)\n",
        "  print(m)\n",
        "\n",
        "#cross_val(data,5,6570)\n",
        "cross_val(a,5,2)\n",
        "cross_val(a,0,2)  \n",
        "cross_val(data,10,6570)"
      ],
      "execution_count": null,
      "outputs": []
    },
    {
      "cell_type": "code",
      "metadata": {
        "id": "uh3Ntmx-Cc-U"
      },
      "source": [
        "scores_cv = []\n",
        "for i in range(random_houses):\n",
        "  data = cross_val(data,6570)\n",
        "  # split into train and test\n",
        "  train, test = split_dataset(data)\n",
        "  # define the number of subsequences and the length of subsequences\n",
        "  n_steps, n_length = 5, 18\n",
        "  # define the total days to use as input\n",
        "  n_input = n_length * n_steps\n",
        "  score, scores,predictions = evaluate_model(train, test, n_steps, n_length, n_input)\n",
        "  # summarize scores\n",
        "  summarize_scores('lstm', score, scores)\n",
        "  scores_cv.append(score)\n",
        "  print(data[0])"
      ],
      "execution_count": null,
      "outputs": []
    }
  ]
}